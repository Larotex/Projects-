{
 "cells": [
  {
   "cell_type": "markdown",
   "id": "875012ac",
   "metadata": {
    "scrolled": true
   },
   "source": [
    "# Abstract"
   ]
  },
  {
   "cell_type": "markdown",
   "id": "38594146",
   "metadata": {},
   "source": [
    "- Census is the official head-count, collection, and recording of individual respondents’ information on demographic\n",
    "features that make up the population of a country. This is usually aimed at providing a direction on what resources\n",
    "or infrastructural developments a country, its states, or provinces would embark upon to benefit her people using\n",
    "statistics from data provided by each person. Every stable government carries out a population census at least once\n",
    "every decade. The mode is usually house to house with census officials collecting information in the form of \n",
    "a questionnaire. This form of exercise commonly runs from several days to weeks to cover the entire population \n",
    "of the country. Using the information provided from the census can be tedious as such large raw data is prone to \n",
    "deliberate misinformation, typographic, or human errors while filling forms or during data entry. \n",
    "- This Census Project Report of a moderately sized town between two cities details the different stages after \n",
    "data collection; from cleaning to the recommendation. "
   ]
  },
  {
   "cell_type": "markdown",
   "id": "efef0b30",
   "metadata": {},
   "source": [
    "- The goal of this project is to suggest developments on unused land and recommend investments in future services."
   ]
  },
  {
   "cell_type": "markdown",
   "id": "cbba73c9",
   "metadata": {},
   "source": [
    "# Introduction"
   ]
  },
  {
   "cell_type": "markdown",
   "id": "6717d2c2",
   "metadata": {},
   "source": [
    "- We are given raw data from the census of a moderately sized town with a headcount of 9979. \n",
    " \n",
    "- This report gives an account of the steps and techniques used in the different stages. The raw census data was \n",
    "first cleaned to get rid of data errors, missing and inconsistent records."
   ]
  },
  {
   "cell_type": "code",
   "execution_count": 1,
   "id": "83cf588b",
   "metadata": {},
   "outputs": [
    {
     "name": "stdout",
     "output_type": "stream",
     "text": [
      "Requirement already satisfied: pandas-profiling in c:\\anaconda\\lib\\site-packages (3.1.0)\n",
      "Requirement already satisfied: visions[type_image_path]==0.7.4 in c:\\anaconda\\lib\\site-packages (from pandas-profiling) (0.7.4)\n",
      "Requirement already satisfied: joblib~=1.0.1 in c:\\anaconda\\lib\\site-packages (from pandas-profiling) (1.0.1)\n",
      "Requirement already satisfied: pandas!=1.0.0,!=1.0.1,!=1.0.2,!=1.1.0,>=0.25.3 in c:\\anaconda\\lib\\site-packages (from pandas-profiling) (0.25.3)\n",
      "Requirement already satisfied: tangled-up-in-unicode==0.1.0 in c:\\anaconda\\lib\\site-packages (from pandas-profiling) (0.1.0)\n",
      "Requirement already satisfied: numpy>=1.16.0 in c:\\anaconda\\lib\\site-packages (from pandas-profiling) (1.19.3)\n",
      "Requirement already satisfied: seaborn>=0.10.1 in c:\\anaconda\\lib\\site-packages (from pandas-profiling) (0.11.1)\n",
      "Requirement already satisfied: htmlmin>=0.1.12 in c:\\anaconda\\lib\\site-packages (from pandas-profiling) (0.1.12)\n",
      "Requirement already satisfied: missingno>=0.4.2 in c:\\anaconda\\lib\\site-packages (from pandas-profiling) (0.5.0)\n",
      "Requirement already satisfied: requests>=2.24.0 in c:\\anaconda\\lib\\site-packages (from pandas-profiling) (2.25.1)\n",
      "Requirement already satisfied: scipy>=1.4.1 in c:\\anaconda\\lib\\site-packages (from pandas-profiling) (1.6.2)\n",
      "Requirement already satisfied: phik>=0.11.1 in c:\\anaconda\\lib\\site-packages (from pandas-profiling) (0.12.0)\n",
      "Requirement already satisfied: matplotlib>=3.2.0 in c:\\anaconda\\lib\\site-packages (from pandas-profiling) (3.3.4)\n",
      "Requirement already satisfied: markupsafe~=2.0.1 in c:\\anaconda\\lib\\site-packages (from pandas-profiling) (2.0.1)\n",
      "Requirement already satisfied: tqdm>=4.48.2 in c:\\anaconda\\lib\\site-packages (from pandas-profiling) (4.59.0)\n",
      "Requirement already satisfied: pydantic>=1.8.1 in c:\\anaconda\\lib\\site-packages (from pandas-profiling) (1.8.2)\n",
      "Requirement already satisfied: multimethod>=1.4 in c:\\anaconda\\lib\\site-packages (from pandas-profiling) (1.6)\n",
      "Requirement already satisfied: jinja2>=2.11.1 in c:\\anaconda\\lib\\site-packages (from pandas-profiling) (2.11.3)\n",
      "Requirement already satisfied: PyYAML>=5.0.0 in c:\\anaconda\\lib\\site-packages (from pandas-profiling) (5.4.1)\n",
      "Requirement already satisfied: networkx>=2.4 in c:\\anaconda\\lib\\site-packages (from visions[type_image_path]==0.7.4->pandas-profiling) (2.5)\n",
      "Requirement already satisfied: attrs>=19.3.0 in c:\\anaconda\\lib\\site-packages (from visions[type_image_path]==0.7.4->pandas-profiling) (20.3.0)\n",
      "Requirement already satisfied: Pillow in c:\\anaconda\\lib\\site-packages (from visions[type_image_path]==0.7.4->pandas-profiling) (8.2.0)\n",
      "Requirement already satisfied: imagehash in c:\\anaconda\\lib\\site-packages (from visions[type_image_path]==0.7.4->pandas-profiling) (4.2.1)\n",
      "Requirement already satisfied: kiwisolver>=1.0.1 in c:\\anaconda\\lib\\site-packages (from matplotlib>=3.2.0->pandas-profiling) (1.3.1)\n",
      "Requirement already satisfied: pyparsing!=2.0.4,!=2.1.2,!=2.1.6,>=2.0.3 in c:\\anaconda\\lib\\site-packages (from matplotlib>=3.2.0->pandas-profiling) (2.4.7)\n",
      "Requirement already satisfied: cycler>=0.10 in c:\\anaconda\\lib\\site-packages (from matplotlib>=3.2.0->pandas-profiling) (0.10.0)\n",
      "Requirement already satisfied: python-dateutil>=2.1 in c:\\anaconda\\lib\\site-packages (from matplotlib>=3.2.0->pandas-profiling) (2.8.1)\n",
      "Requirement already satisfied: six in c:\\anaconda\\lib\\site-packages (from cycler>=0.10->matplotlib>=3.2.0->pandas-profiling) (1.15.0)\n",
      "Requirement already satisfied: decorator>=4.3.0 in c:\\anaconda\\lib\\site-packages (from networkx>=2.4->visions[type_image_path]==0.7.4->pandas-profiling) (5.0.6)\n",
      "Requirement already satisfied: pytz>=2017.2 in c:\\anaconda\\lib\\site-packages (from pandas!=1.0.0,!=1.0.1,!=1.0.2,!=1.1.0,>=0.25.3->pandas-profiling) (2021.1)\n",
      "Requirement already satisfied: typing-extensions>=3.7.4.3 in c:\\anaconda\\lib\\site-packages (from pydantic>=1.8.1->pandas-profiling) (3.7.4.3)\n",
      "Requirement already satisfied: idna<3,>=2.5 in c:\\anaconda\\lib\\site-packages (from requests>=2.24.0->pandas-profiling) (2.10)\n",
      "Requirement already satisfied: chardet<5,>=3.0.2 in c:\\anaconda\\lib\\site-packages (from requests>=2.24.0->pandas-profiling) (4.0.0)\n",
      "Requirement already satisfied: certifi>=2017.4.17 in c:\\anaconda\\lib\\site-packages (from requests>=2.24.0->pandas-profiling) (2020.12.5)\n",
      "Requirement already satisfied: urllib3<1.27,>=1.21.1 in c:\\anaconda\\lib\\site-packages (from requests>=2.24.0->pandas-profiling) (1.26.4)\n",
      "Requirement already satisfied: PyWavelets in c:\\anaconda\\lib\\site-packages (from imagehash->visions[type_image_path]==0.7.4->pandas-profiling) (1.1.1)\n",
      "Note: you may need to restart the kernel to use updated packages.\n"
     ]
    }
   ],
   "source": [
    "pip install -U pandas-profiling"
   ]
  },
  {
   "cell_type": "markdown",
   "id": "f37b112f",
   "metadata": {},
   "source": [
    "- Import pandas and numpy; \n",
    "- Create a dataframe to read the csv file"
   ]
  },
  {
   "cell_type": "code",
   "execution_count": 2,
   "id": "909ee60a",
   "metadata": {},
   "outputs": [],
   "source": [
    "import pandas as pd\n",
    "import numpy as np\n",
    "#Open the csv file in a dataFrame\n",
    "census_data = pd.read_csv('census_09_new.csv')"
   ]
  },
  {
   "cell_type": "markdown",
   "id": "a714a8b2",
   "metadata": {},
   "source": [
    "- I named the dataframe \"census_data\""
   ]
  },
  {
   "cell_type": "code",
   "execution_count": 3,
   "id": "2a480026",
   "metadata": {},
   "outputs": [
    {
     "data": {
      "text/html": [
       "<div>\n",
       "<style scoped>\n",
       "    .dataframe tbody tr th:only-of-type {\n",
       "        vertical-align: middle;\n",
       "    }\n",
       "\n",
       "    .dataframe tbody tr th {\n",
       "        vertical-align: top;\n",
       "    }\n",
       "\n",
       "    .dataframe thead th {\n",
       "        text-align: right;\n",
       "    }\n",
       "</style>\n",
       "<table border=\"1\" class=\"dataframe\">\n",
       "  <thead>\n",
       "    <tr style=\"text-align: right;\">\n",
       "      <th></th>\n",
       "      <th>House Number</th>\n",
       "      <th>Street</th>\n",
       "      <th>First Name</th>\n",
       "      <th>Surname</th>\n",
       "      <th>Age</th>\n",
       "      <th>Relationship to Head of House</th>\n",
       "      <th>Marital Status</th>\n",
       "      <th>Gender</th>\n",
       "      <th>Occupation</th>\n",
       "      <th>Infirmity</th>\n",
       "      <th>Religion</th>\n",
       "    </tr>\n",
       "  </thead>\n",
       "  <tbody>\n",
       "    <tr>\n",
       "      <th>0</th>\n",
       "      <td>ONE</td>\n",
       "      <td>Bastille Plains</td>\n",
       "      <td>Elizabeth</td>\n",
       "      <td>Marshall</td>\n",
       "      <td>39</td>\n",
       "      <td>Head</td>\n",
       "      <td>Married</td>\n",
       "      <td>Female</td>\n",
       "      <td>Further education lecturer</td>\n",
       "      <td>None</td>\n",
       "      <td>Methodist</td>\n",
       "    </tr>\n",
       "    <tr>\n",
       "      <th>1</th>\n",
       "      <td>1</td>\n",
       "      <td>Bastille Plains</td>\n",
       "      <td>Glenn</td>\n",
       "      <td>Marshall</td>\n",
       "      <td>46</td>\n",
       "      <td>Husband</td>\n",
       "      <td>Married</td>\n",
       "      <td>Male</td>\n",
       "      <td>Physiotherapist</td>\n",
       "      <td>None</td>\n",
       "      <td>Methodist</td>\n",
       "    </tr>\n",
       "    <tr>\n",
       "      <th>2</th>\n",
       "      <td>1</td>\n",
       "      <td>Bastille Plains</td>\n",
       "      <td>George</td>\n",
       "      <td>Marshall</td>\n",
       "      <td>9</td>\n",
       "      <td>Son</td>\n",
       "      <td>NaN</td>\n",
       "      <td>Male</td>\n",
       "      <td>Student</td>\n",
       "      <td>None</td>\n",
       "      <td>NaN</td>\n",
       "    </tr>\n",
       "    <tr>\n",
       "      <th>3</th>\n",
       "      <td>2</td>\n",
       "      <td>Bastille Plains</td>\n",
       "      <td>Joanne</td>\n",
       "      <td>Wilson</td>\n",
       "      <td>35</td>\n",
       "      <td>Head</td>\n",
       "      <td>Single</td>\n",
       "      <td>Female</td>\n",
       "      <td>Games developer</td>\n",
       "      <td>None</td>\n",
       "      <td>Christian</td>\n",
       "    </tr>\n",
       "    <tr>\n",
       "      <th>4</th>\n",
       "      <td>2</td>\n",
       "      <td>Bastille Plains</td>\n",
       "      <td>Hugh</td>\n",
       "      <td>Wilson</td>\n",
       "      <td>10</td>\n",
       "      <td>Son</td>\n",
       "      <td>NaN</td>\n",
       "      <td>Male</td>\n",
       "      <td>Student</td>\n",
       "      <td>None</td>\n",
       "      <td>NaN</td>\n",
       "    </tr>\n",
       "    <tr>\n",
       "      <th>...</th>\n",
       "      <td>...</td>\n",
       "      <td>...</td>\n",
       "      <td>...</td>\n",
       "      <td>...</td>\n",
       "      <td>...</td>\n",
       "      <td>...</td>\n",
       "      <td>...</td>\n",
       "      <td>...</td>\n",
       "      <td>...</td>\n",
       "      <td>...</td>\n",
       "      <td>...</td>\n",
       "    </tr>\n",
       "    <tr>\n",
       "      <th>9974</th>\n",
       "      <td>1</td>\n",
       "      <td>Stephenson Ranch</td>\n",
       "      <td>Josh</td>\n",
       "      <td>Hussain</td>\n",
       "      <td>23</td>\n",
       "      <td>None</td>\n",
       "      <td>Single</td>\n",
       "      <td>Male</td>\n",
       "      <td>Special effects artist</td>\n",
       "      <td>None</td>\n",
       "      <td>Christian</td>\n",
       "    </tr>\n",
       "    <tr>\n",
       "      <th>9975</th>\n",
       "      <td>1</td>\n",
       "      <td>Stephenson Ranch</td>\n",
       "      <td>Raymond</td>\n",
       "      <td>Baker</td>\n",
       "      <td>40</td>\n",
       "      <td>None</td>\n",
       "      <td>Single</td>\n",
       "      <td>Male</td>\n",
       "      <td>Restaurant manager</td>\n",
       "      <td>None</td>\n",
       "      <td>None</td>\n",
       "    </tr>\n",
       "    <tr>\n",
       "      <th>9976</th>\n",
       "      <td>1</td>\n",
       "      <td>Stephenson Ranch</td>\n",
       "      <td>Shaun</td>\n",
       "      <td>Stanley</td>\n",
       "      <td>39</td>\n",
       "      <td>None</td>\n",
       "      <td>Single</td>\n",
       "      <td>Male</td>\n",
       "      <td>Market researcher</td>\n",
       "      <td>None</td>\n",
       "      <td>None</td>\n",
       "    </tr>\n",
       "    <tr>\n",
       "      <th>9977</th>\n",
       "      <td>1</td>\n",
       "      <td>Stephenson Ranch</td>\n",
       "      <td>Katie</td>\n",
       "      <td>Douglas</td>\n",
       "      <td>44</td>\n",
       "      <td>None</td>\n",
       "      <td>Single</td>\n",
       "      <td>Female</td>\n",
       "      <td>Homeopath</td>\n",
       "      <td>None</td>\n",
       "      <td>None</td>\n",
       "    </tr>\n",
       "    <tr>\n",
       "      <th>9978</th>\n",
       "      <td>1</td>\n",
       "      <td>Stephenson Ranch</td>\n",
       "      <td>Abigail</td>\n",
       "      <td>Davies</td>\n",
       "      <td>29</td>\n",
       "      <td>None</td>\n",
       "      <td>Single</td>\n",
       "      <td>Female</td>\n",
       "      <td>Psychotherapist, child</td>\n",
       "      <td>None</td>\n",
       "      <td>Christian</td>\n",
       "    </tr>\n",
       "  </tbody>\n",
       "</table>\n",
       "<p>9979 rows × 11 columns</p>\n",
       "</div>"
      ],
      "text/plain": [
       "     House Number            Street First Name   Surname Age  \\\n",
       "0             ONE   Bastille Plains  Elizabeth  Marshall  39   \n",
       "1               1   Bastille Plains      Glenn  Marshall  46   \n",
       "2               1   Bastille Plains     George  Marshall   9   \n",
       "3               2   Bastille Plains     Joanne    Wilson  35   \n",
       "4               2   Bastille Plains       Hugh    Wilson  10   \n",
       "...           ...               ...        ...       ...  ..   \n",
       "9974            1  Stephenson Ranch       Josh   Hussain  23   \n",
       "9975            1  Stephenson Ranch    Raymond     Baker  40   \n",
       "9976            1  Stephenson Ranch      Shaun   Stanley  39   \n",
       "9977            1  Stephenson Ranch      Katie   Douglas  44   \n",
       "9978            1  Stephenson Ranch    Abigail    Davies  29   \n",
       "\n",
       "     Relationship to Head of House Marital Status  Gender  \\\n",
       "0                             Head        Married  Female   \n",
       "1                          Husband        Married    Male   \n",
       "2                              Son            NaN    Male   \n",
       "3                             Head         Single  Female   \n",
       "4                              Son            NaN    Male   \n",
       "...                            ...            ...     ...   \n",
       "9974                          None         Single    Male   \n",
       "9975                          None         Single    Male   \n",
       "9976                          None         Single    Male   \n",
       "9977                          None         Single  Female   \n",
       "9978                          None         Single  Female   \n",
       "\n",
       "                      Occupation Infirmity   Religion  \n",
       "0     Further education lecturer      None  Methodist  \n",
       "1                Physiotherapist      None  Methodist  \n",
       "2                        Student      None        NaN  \n",
       "3                Games developer      None  Christian  \n",
       "4                        Student      None        NaN  \n",
       "...                          ...       ...        ...  \n",
       "9974      Special effects artist      None  Christian  \n",
       "9975          Restaurant manager      None       None  \n",
       "9976           Market researcher      None       None  \n",
       "9977                   Homeopath      None       None  \n",
       "9978      Psychotherapist, child      None  Christian  \n",
       "\n",
       "[9979 rows x 11 columns]"
      ]
     },
     "execution_count": 3,
     "metadata": {},
     "output_type": "execute_result"
    }
   ],
   "source": [
    "census_data"
   ]
  },
  {
   "cell_type": "markdown",
   "id": "d65bab64",
   "metadata": {},
   "source": [
    "- The dataframe has 9979 rows (individual records) and 11 columns(variables)"
   ]
  },
  {
   "cell_type": "code",
   "execution_count": 4,
   "id": "61f4b66e",
   "metadata": {},
   "outputs": [
    {
     "name": "stdout",
     "output_type": "stream",
     "text": [
      "<class 'pandas.core.frame.DataFrame'>\n"
     ]
    }
   ],
   "source": [
    "print(type(census_data))"
   ]
  },
  {
   "cell_type": "code",
   "execution_count": 5,
   "id": "e80dbf1f",
   "metadata": {},
   "outputs": [
    {
     "name": "stdout",
     "output_type": "stream",
     "text": [
      "House Number\n",
      "Street\n",
      "First Name\n",
      "Surname\n",
      "Age\n",
      "Relationship to Head of House\n",
      "Marital Status\n",
      "Gender\n",
      "Occupation\n",
      "Infirmity\n",
      "Religion\n"
     ]
    }
   ],
   "source": [
    "for c in census_data.columns:\n",
    "    print(c)"
   ]
  },
  {
   "cell_type": "markdown",
   "id": "73fd4e2c",
   "metadata": {},
   "source": [
    "- Above are the list of columns or variables "
   ]
  },
  {
   "cell_type": "code",
   "execution_count": 6,
   "id": "df842657",
   "metadata": {
    "scrolled": true
   },
   "outputs": [
    {
     "data": {
      "text/plain": [
       "House Number                        4\n",
       "Street                              0\n",
       "First Name                          1\n",
       "Surname                             0\n",
       "Age                                 0\n",
       "Relationship to Head of House       0\n",
       "Marital Status                   2454\n",
       "Gender                              0\n",
       "Occupation                          0\n",
       "Infirmity                           0\n",
       "Religion                         2497\n",
       "dtype: int64"
      ]
     },
     "execution_count": 6,
     "metadata": {},
     "output_type": "execute_result"
    }
   ],
   "source": [
    "census_data.isnull().sum()"
   ]
  },
  {
   "cell_type": "markdown",
   "id": "4a5a8d6d",
   "metadata": {},
   "source": [
    "- We observe from the above that 4 columns (House number, First Name, Marital Status and Religion) have missing values"
   ]
  },
  {
   "cell_type": "markdown",
   "id": "dd1d59ec",
   "metadata": {},
   "source": [
    "# Exploration of raw data\n"
   ]
  },
  {
   "cell_type": "code",
   "execution_count": 7,
   "id": "1e929ffa",
   "metadata": {},
   "outputs": [
    {
     "data": {
      "text/plain": [
       "House Number                      238\n",
       "Street                            105\n",
       "First Name                        369\n",
       "Surname                           687\n",
       "Age                               123\n",
       "Relationship to Head of House      22\n",
       "Marital Status                      5\n",
       "Gender                             13\n",
       "Occupation                       1128\n",
       "Infirmity                           8\n",
       "Religion                           17\n",
       "dtype: int64"
      ]
     },
     "execution_count": 7,
     "metadata": {},
     "output_type": "execute_result"
    }
   ],
   "source": [
    "census_data.nunique()"
   ]
  },
  {
   "cell_type": "markdown",
   "id": "60ee0af3",
   "metadata": {},
   "source": [
    "- The nunique method shed more information on our dataset, specifically the different types of each variable.\n",
    "We observe from the above that there are 1128 different Occupation types. These will be explored further in the \n",
    "data cleaning stage. "
   ]
  },
  {
   "cell_type": "code",
   "execution_count": 8,
   "id": "55addb54",
   "metadata": {},
   "outputs": [],
   "source": [
    "#Importing the function\n",
    "from pandas_profiling import ProfileReport\n",
    "#Generate the report. We would use the mpg dataset as sample, \n",
    "#title parameter for naming our report, and explorative parameter set to True for Deeper exploration.\n",
    "profile = ProfileReport(census_data, title='census_data Pandas Profiling Report', explorative = True)"
   ]
  },
  {
   "cell_type": "code",
   "execution_count": 9,
   "id": "f34e833c",
   "metadata": {},
   "outputs": [],
   "source": [
    "#profile"
   ]
  },
  {
   "cell_type": "code",
   "execution_count": 10,
   "id": "e848f34a",
   "metadata": {},
   "outputs": [],
   "source": [
    "# Let us explore the data to discover missing or incorrect details\n",
    "unique_firstname = census_data['First Name'].unique()\n",
    "unique_age = census_data['Age'].unique()\n",
    "unique_religion = census_data['Religion'].unique()\n",
    "unique_Maritalstatus = census_data['Marital Status'].unique()\n",
    "unique_Housenumber = census_data['House Number'].unique()\n",
    "unique_gender = census_data['Gender'].unique()\n",
    "unique_infirmity = census_data['Infirmity'].unique()\n",
    "unique_occupation = census_data['Occupation'].unique()\n"
   ]
  },
  {
   "cell_type": "code",
   "execution_count": 11,
   "id": "889db973",
   "metadata": {},
   "outputs": [
    {
     "name": "stdout",
     "output_type": "stream",
     "text": [
      "['Elizabeth' 'Glenn' 'George' 'Joanne' 'Hugh' 'Janice' 'Steven' 'Michael'\n",
      " 'Jasmine' 'Scott' 'Kerry' 'Ruth' 'Vanessa' 'Michelle' 'Marie' 'Dale'\n",
      " 'Robin' 'Brenda' 'Joe' 'Duncan' 'Emily' 'Nicholas' 'Rachael' 'Rebecca'\n",
      " 'Lee' 'Maurice' 'Joel' 'Zoe' 'Leonard' 'Joanna' 'Leon' 'Sheila' 'Tom'\n",
      " 'Guy' 'Martyn' 'Natasha' 'Diane' 'Frederick' 'Alex' 'Phillip' 'Stacey'\n",
      " 'Lynda' 'Josh' 'Raymond' 'Russell' 'Suzanne' 'Stephen' 'Paul' 'Iain'\n",
      " 'Lucy' 'Bernard' 'Sara' 'Carole' 'Julia' 'Charlene' 'Reece' 'Patrick'\n",
      " 'Pamela' 'Bryan' 'Megan' 'Jay' 'Conor' 'Margaret' 'Sally' 'Jeffrey'\n",
      " 'Leanne' 'Ashley' 'Diana' 'Catherine' 'Andrea' 'Julian' 'Yvonne' 'Elliot'\n",
      " 'Roger' 'Sophie' 'Christian' 'Henry' 'Mohamed' 'Gail' 'Tracey' 'Georgia'\n",
      " 'Albert' 'Frances' 'Mitchell' 'Victor' 'Judith' 'Rosie' 'Tina' 'William'\n",
      " 'Kyle' 'Ashleigh' 'Vincent' 'Annette' 'Roy' 'Donald' 'Paige' 'Garry'\n",
      " 'Jade' 'Nigel' 'Leah' 'Kate' 'Katie' 'Brandon' 'Derek' 'Shane' 'Jonathan'\n",
      " 'Elaine' 'Lindsey' 'Jemma' 'Wayne' 'Beverley' 'Josephine' 'Justin'\n",
      " 'Peter' 'Douglas' 'Clare' 'Terry' 'Jordan' 'Jason' 'Terence' 'Sarah'\n",
      " 'Tracy' 'Callum' 'Dawn' 'Jamie' 'Anna' 'John' 'Cheryl' 'Chloe' 'Lawrence'\n",
      " 'Graham' 'Janet' 'Teresa' 'Billy' 'Matthew' 'Jenna' 'Sian' 'Mathew'\n",
      " 'June' 'Jean' 'Kevin' 'Lesley' 'Philip' 'Samantha' 'Malcolm' 'Bethan'\n",
      " 'Dennis' 'Jessica' 'Kim' 'Gary' 'Adam' 'Amelia' 'Gillian' 'Linda'\n",
      " 'Christine' 'Rachel' 'Arthur' 'Fiona' 'Naomi' 'Ross' 'Carol' 'Jodie'\n",
      " 'Carl' 'Amanda' 'Sam' 'Charlie' 'Dorothy' 'Denis' 'Gerard' 'Nicole'\n",
      " 'Kayleigh' 'Gerald' 'Benjamin' 'Frank' 'Olivia' 'Sean' 'Trevor' 'Amy'\n",
      " 'Carly' 'Stephanie' 'David' 'Ricky' 'Angela' 'Denise' 'Shirley' 'Bruce'\n",
      " 'Martin' 'Alice' 'Stewart' 'Leigh' 'Clive' 'Marcus' 'Declan' 'Abbie'\n",
      " 'Valerie' 'Mohammad' 'Keith' 'Patricia' 'Norman' 'Nathan' 'Timothy'\n",
      " 'Shaun' 'Francesca' 'Antony' 'Rita' 'Ann' 'Max' 'Kieran' 'Ian' 'Jack'\n",
      " 'Aimee' 'Gareth' 'Jill' 'Andrew' 'Katherine' 'Simon' 'Holly' 'Eleanor'\n",
      " 'Helen' 'Melissa' 'Dylan' 'Marion' 'Bethany' 'Neil' 'Sharon' 'Daniel'\n",
      " 'Julie' 'Karl' 'Samuel' 'Joyce' 'Molly' 'Luke' 'Mary' 'Hollie' 'Brian'\n",
      " 'Harriet' 'Damien' 'Maureen' 'Edward' 'Marian' 'Sandra' 'Susan' 'Lynn'\n",
      " 'Kirsty' 'Liam' 'Kathleen' 'Joan' 'Gemma' 'Bradley' 'Jacob' 'Abigail'\n",
      " 'Anthony' 'Beth' 'Alexander' 'Caroline' 'Grace' 'Allan' 'Jane' 'Ben'\n",
      " 'Toby' 'Donna' 'Lydia' 'Maria' 'Anne' 'Laura' 'Colin' 'Lauren' 'Deborah'\n",
      " 'Stuart' 'Rosemary' 'Mandy' 'Victoria' 'Rhys' 'Paula' 'Adrian' 'Melanie'\n",
      " 'Carolyn' 'Connor' 'Robert' 'Hayley' 'Amber' 'Harry' 'Mark' 'Ryan'\n",
      " 'Christopher' 'Jake' 'Clifford' 'Hazel' 'Nicola' 'Gordon' 'Richard'\n",
      " 'Lewis' 'Charlotte' 'Marc' 'Katy' 'Gavin' 'Chelsea' 'Darren' 'Lisa'\n",
      " 'Barry' 'Francis' 'Hilary' 'Jeremy' 'Georgina' 'Louise' 'Damian'\n",
      " 'Natalie' 'Aaron' 'Kimberley' 'Jennifer' 'Howard' 'Danny' 'Craig'\n",
      " 'Shannon' 'Oliver' 'Lynne' 'Abdul' 'Barbara' 'Heather' 'Jayne' 'Kelly'\n",
      " 'Lorraine' 'Joseph' 'Ellie' 'Danielle' 'Owen' 'Emma' 'Leslie' 'Glen'\n",
      " 'Ronald' 'Debra' 'Wendy' 'Cameron' 'Tony' 'Brett' 'Stanley' 'Jacqueline'\n",
      " 'Sylvia' 'Mohammed' 'Alexandra' 'Graeme' 'Dominic' 'Charles' 'Alan'\n",
      " 'Geraldine' 'Dean' 'Kenneth' 'Eric' 'Hannah' 'Alison' 'Pauline' 'Irene'\n",
      " 'Joshua' 'James' 'Louis' 'Karen' 'Marilyn' 'Eileen' 'Kathryn' 'Gregory'\n",
      " 'Geoffrey' 'Thomas' 'Elliott' 'Claire' 'L.' 'Joel-Edmund' 'Lynn Rye' nan\n",
      " 'D.' 'A.']\n"
     ]
    }
   ],
   "source": [
    "print(unique_firstname) #nan value "
   ]
  },
  {
   "cell_type": "markdown",
   "id": "33edb088",
   "metadata": {},
   "source": [
    "- Above are 238 different first names which includes a \"nan\" value and 3 abbreviated.\n",
    "The nan value will be investigated and replaced."
   ]
  },
  {
   "cell_type": "code",
   "execution_count": 12,
   "id": "bfce98d4",
   "metadata": {
    "scrolled": true
   },
   "outputs": [
    {
     "name": "stdout",
     "output_type": "stream",
     "text": [
      "['39' '46' '9' '35' '10' '7' '53' '61' '31' '79' '20' '17' '27' '28' '38'\n",
      " '5' '52' '26' '4' '47' '43' '66' '23' '19' '14' '71' '41' '36' '22' '3'\n",
      " '12' '8' '48' '44' '77' '49' '56' '62' '64' '25' '65' '34' '30' '29' '40'\n",
      " '6' '42' '51' '11' '21' '50' '32' '67' '70' '54' '57' '72' '16' '13' '59'\n",
      " '15' '45' 'Seven' '74' '55' '63' '60' '37' '69' '78' '75' '73' '24' '81'\n",
      " '58' '18' '68' '2' '80' '84' '86' '82' '1' '33' '0' '76' '83' '90' '87'\n",
      " '85' '98' '88' '2.1' '92' '93' '103' '100' '89' '91' '104' '102' '101'\n",
      " '105' '107' '94' '99' '63.7497341' '94.94596072' '97' '66.55922257'\n",
      " '67.55922257' '49.41583557' '58.30101378' '62.30101378' '275' '0.5'\n",
      " '71.47624973' '-1' '91.12782192' '67.10008329' '6.2' 'ONE' '3.3']\n"
     ]
    }
   ],
   "source": [
    "print(unique_age) "
   ]
  },
  {
   "cell_type": "markdown",
   "id": "564ffc83",
   "metadata": {},
   "source": [
    "- These are the different ages of the individuals captured in the census.\n",
    "some of the ages were recorded in decimal numbers,negative number,an individual recorded as 275 years old,\n",
    "others in words, all in string. I will investigate the inconsistencies and amend during cleaning."
   ]
  },
  {
   "cell_type": "code",
   "execution_count": 13,
   "id": "a109f1c5",
   "metadata": {},
   "outputs": [
    {
     "name": "stdout",
     "output_type": "stream",
     "text": [
      "['Methodist' nan 'Christian' 'Catholic' 'None' 'Muslim' 'Sikh' 'Jewish'\n",
      " 'Orthodoxy' ' ' 'Baptist' 'METHO-DIST' 'Housekeeper' 'Hindu' 'Private'\n",
      " 'Agnostic' 'CATHOLIC' 'na']\n"
     ]
    }
   ],
   "source": [
    "print(unique_religion) "
   ]
  },
  {
   "cell_type": "markdown",
   "id": "35b8d1f9",
   "metadata": {},
   "source": [
    "- Obviously nan,na, private, and housekeeper recorded as religions are errors.\n",
    "In Addition, METHO-DIST, Methodist, Catholic, CATHOLIC, and Baptist should clearly be recorded as 'Christian'"
   ]
  },
  {
   "cell_type": "code",
   "execution_count": 14,
   "id": "54508d55",
   "metadata": {},
   "outputs": [
    {
     "name": "stdout",
     "output_type": "stream",
     "text": [
      "['Married' nan 'Single' 'Widowed' 'Divorced' ' ']\n"
     ]
    }
   ],
   "source": [
    "print(unique_Maritalstatus) "
   ]
  },
  {
   "cell_type": "markdown",
   "id": "a7d16579",
   "metadata": {},
   "source": [
    "- We have nan and blank recorded for some individuals under marital status.\n",
    "These will be investigated and replaced appropriately"
   ]
  },
  {
   "cell_type": "code",
   "execution_count": 15,
   "id": "963a650a",
   "metadata": {
    "scrolled": true
   },
   "outputs": [
    {
     "name": "stdout",
     "output_type": "stream",
     "text": [
      "['ONE' '1' '2' '3' '4' '5' '6' '7' '8' '9' '10' '11' '12' ' ' '14' '15'\n",
      " '16' '17' '18' '19' '20' '21' '22' '23' '24' '25' '26' '27' '28' '29'\n",
      " '30' '31' '32' '33' '34' '35' '36' '37' '38' '39' '40' '41' '42' '43'\n",
      " '44' '45' '46' '47' '48' '49' '50' '51' '52' '53' '54' '55' '56' '57'\n",
      " '58' '59' '60' '61' '62' '63' '64' '65' '66' '67' '68' '69' '70' '71'\n",
      " '72' '73' '74' '75' '76' '77' '78' '79' '80' '81' '82' '83' '84' '85'\n",
      " '86' '87' '88' '89' '90' '91' '92' '93' '94' '95' '96' '97' '98' '99'\n",
      " '100' '101' '102' '103' '104' '105' '106' '107' '108' '109' '110' '111'\n",
      " '112' '113' '114' '115' '116' '117' '118' '119' '120' '121' '122' '123'\n",
      " '124' '125' '126' '127' '128' '129' '130' '131' '132' '133' '134' '135'\n",
      " '136' '137' '138' '139' '140' '141' '142' '143' '144' '145' '146' '147'\n",
      " '148' '149' '150' '151' '152' '153' '154' '155' '156' '157' '158' '159'\n",
      " '160' '161' '162' '163' '164' '165' '166' '167' '168' '169' '170' '171'\n",
      " '172' '173' '174' '175' '176' '13' '177' '178' '179' '180' '181' '182'\n",
      " '183' '184' '185' '186' '187' '188' '189' '190' '191' '192' '193' '194'\n",
      " '195' '196' '197' '198' '199' '200' '201' '202' '203' '204' '205' '206'\n",
      " '207' '208' '209' '210' '211' '212' '213' '214' '215' '216' 'TWENTY'\n",
      " '217' '218' '219' '220' '221' '222' '223' '224' '225' '226' '227' '228'\n",
      " '229' '230' '231' '232' '233' '234' '235' nan]\n"
     ]
    }
   ],
   "source": [
    "print(unique_Housenumber) "
   ]
  },
  {
   "cell_type": "markdown",
   "id": "000b4201",
   "metadata": {},
   "source": [
    "- Here we have some missing house numbers, nan, and 2 house numbers recorded in word.\n",
    "I intend to identify the individuals in the above inconsistent record and use inference from related individuals\n",
    "to determine the correct house numbers."
   ]
  },
  {
   "cell_type": "code",
   "execution_count": 16,
   "id": "79afa2c2",
   "metadata": {},
   "outputs": [
    {
     "name": "stdout",
     "output_type": "stream",
     "text": [
      "['Female' 'Male' 'FAMALE' 'MALE' ' ' 'FEMALE' 'F' 'M' 'Fe-male' 'Ma-le'\n",
      " 'famale' 'male' 'F.']\n"
     ]
    }
   ],
   "source": [
    "print(unique_gender) "
   ]
  },
  {
   "cell_type": "markdown",
   "id": "3a41aa98",
   "metadata": {},
   "source": [
    " - We observe above blank values, incorrect spelling/formats: - FAMALE, famale, FEMALE, Fe-male, Ma-le, male. \n",
    "   I plan to simply correct the spellings and letter formats."
   ]
  },
  {
   "cell_type": "code",
   "execution_count": 17,
   "id": "23bd8ef6",
   "metadata": {},
   "outputs": [
    {
     "name": "stdout",
     "output_type": "stream",
     "text": [
      "['None' 'Physical Disability' 'Blind' ' ' 'Disabled' 'Mental Disability'\n",
      " 'Deaf' 'Unknown Infection']\n"
     ]
    }
   ],
   "source": [
    "print(unique_infirmity) "
   ]
  },
  {
   "cell_type": "markdown",
   "id": "aba7e27c",
   "metadata": {},
   "source": [
    "- Here we can see a blank infirmity value, and none recorded. I will assume that individuals with blank and \n",
    "none record have no infirmity hence i will only change the blank records to \"None\". "
   ]
  },
  {
   "cell_type": "code",
   "execution_count": 18,
   "id": "eef19e4b",
   "metadata": {},
   "outputs": [
    {
     "name": "stdout",
     "output_type": "stream",
     "text": [
      "['Further education lecturer' 'Physiotherapist' 'Student' ...\n",
      " 'Retired Tree surgeon' 'Retired Tax inspector'\n",
      " 'Retired Community arts worker']\n"
     ]
    }
   ],
   "source": [
    "print(unique_occupation)"
   ]
  },
  {
   "cell_type": "markdown",
   "id": "4ad7b864",
   "metadata": {},
   "source": [
    "- The number of occupations can be considered as excessive with many repitions, I plan to streamline the occupations down\n",
    "to 5 (Child, Student, Employed, Unemployed and Retired). Some individuals above age 65 were recorded as unemployed, \n",
    "student recorded as stu-dent among other inconsistencies. These will be tidied in the cleaning stage."
   ]
  },
  {
   "cell_type": "markdown",
   "id": "b5985850",
   "metadata": {},
   "source": [
    "# Data Cleaning - First Name"
   ]
  },
  {
   "cell_type": "code",
   "execution_count": 19,
   "id": "dd16d6bf",
   "metadata": {},
   "outputs": [
    {
     "data": {
      "text/html": [
       "<div>\n",
       "<style scoped>\n",
       "    .dataframe tbody tr th:only-of-type {\n",
       "        vertical-align: middle;\n",
       "    }\n",
       "\n",
       "    .dataframe tbody tr th {\n",
       "        vertical-align: top;\n",
       "    }\n",
       "\n",
       "    .dataframe thead th {\n",
       "        text-align: right;\n",
       "    }\n",
       "</style>\n",
       "<table border=\"1\" class=\"dataframe\">\n",
       "  <thead>\n",
       "    <tr style=\"text-align: right;\">\n",
       "      <th></th>\n",
       "      <th>House Number</th>\n",
       "      <th>Street</th>\n",
       "      <th>First Name</th>\n",
       "      <th>Surname</th>\n",
       "      <th>Age</th>\n",
       "      <th>Relationship to Head of House</th>\n",
       "      <th>Marital Status</th>\n",
       "      <th>Gender</th>\n",
       "      <th>Occupation</th>\n",
       "      <th>Infirmity</th>\n",
       "      <th>Religion</th>\n",
       "    </tr>\n",
       "  </thead>\n",
       "  <tbody>\n",
       "    <tr>\n",
       "      <th>7252</th>\n",
       "      <td>29</td>\n",
       "      <td>Rhodes Freeway</td>\n",
       "      <td>NaN</td>\n",
       "      <td>Leah Harvey</td>\n",
       "      <td>41</td>\n",
       "      <td>Head</td>\n",
       "      <td>Single</td>\n",
       "      <td>Female</td>\n",
       "      <td>Publishing rights manager</td>\n",
       "      <td>None</td>\n",
       "      <td>Methodist</td>\n",
       "    </tr>\n",
       "  </tbody>\n",
       "</table>\n",
       "</div>"
      ],
      "text/plain": [
       "     House Number          Street First Name      Surname Age  \\\n",
       "7252           29  Rhodes Freeway        NaN  Leah Harvey  41   \n",
       "\n",
       "     Relationship to Head of House Marital Status  Gender  \\\n",
       "7252                          Head         Single  Female   \n",
       "\n",
       "                     Occupation Infirmity   Religion  \n",
       "7252  Publishing rights manager      None  Methodist  "
      ]
     },
     "execution_count": 19,
     "metadata": {},
     "output_type": "execute_result"
    }
   ],
   "source": [
    "#Explore the data for inconsistencies\n",
    "census_data[census_data['First Name'].isna()]"
   ]
  },
  {
   "cell_type": "markdown",
   "id": "5da79159",
   "metadata": {},
   "source": [
    "- nan value detected in first name;\n",
    "I suspect the First name was merged with Surname and will be separated appropriately."
   ]
  },
  {
   "cell_type": "code",
   "execution_count": 20,
   "id": "d4c08c9f",
   "metadata": {},
   "outputs": [
    {
     "name": "stdout",
     "output_type": "stream",
     "text": [
      "     House Number          Street First Name Surname Age  \\\n",
      "7252           29  Rhodes Freeway       Leah  Harvey  41   \n",
      "\n",
      "     Relationship to Head of House Marital Status  Gender  \\\n",
      "7252                          Head         Single  Female   \n",
      "\n",
      "                     Occupation Infirmity   Religion  \n",
      "7252  Publishing rights manager      None  Methodist  \n"
     ]
    }
   ],
   "source": [
    "# To separate First name from Surname, replace NaN with Leah\n",
    "\n",
    "census_data.loc[7252, 'First Name'] = 'Leah'\n",
    "census_data.loc[7252, 'Surname'] = 'Harvey'\n",
    "\n",
    "print(census_data.iloc[[7252]])\n"
   ]
  },
  {
   "cell_type": "code",
   "execution_count": 21,
   "id": "12b96810",
   "metadata": {},
   "outputs": [
    {
     "data": {
      "text/html": [
       "<div>\n",
       "<style scoped>\n",
       "    .dataframe tbody tr th:only-of-type {\n",
       "        vertical-align: middle;\n",
       "    }\n",
       "\n",
       "    .dataframe tbody tr th {\n",
       "        vertical-align: top;\n",
       "    }\n",
       "\n",
       "    .dataframe thead th {\n",
       "        text-align: right;\n",
       "    }\n",
       "</style>\n",
       "<table border=\"1\" class=\"dataframe\">\n",
       "  <thead>\n",
       "    <tr style=\"text-align: right;\">\n",
       "      <th></th>\n",
       "      <th>House Number</th>\n",
       "      <th>Street</th>\n",
       "      <th>First Name</th>\n",
       "      <th>Surname</th>\n",
       "      <th>Age</th>\n",
       "      <th>Relationship to Head of House</th>\n",
       "      <th>Marital Status</th>\n",
       "      <th>Gender</th>\n",
       "      <th>Occupation</th>\n",
       "      <th>Infirmity</th>\n",
       "      <th>Religion</th>\n",
       "    </tr>\n",
       "  </thead>\n",
       "  <tbody>\n",
       "  </tbody>\n",
       "</table>\n",
       "</div>"
      ],
      "text/plain": [
       "Empty DataFrame\n",
       "Columns: [House Number, Street, First Name, Surname, Age, Relationship to Head of House, Marital Status, Gender, Occupation, Infirmity, Religion]\n",
       "Index: []"
      ]
     },
     "execution_count": 21,
     "metadata": {},
     "output_type": "execute_result"
    }
   ],
   "source": [
    "census_data[census_data['First Name'].isna()] #checking for NaN values of First Name"
   ]
  },
  {
   "cell_type": "markdown",
   "id": "77a051fb",
   "metadata": {},
   "source": [
    "- nan value cleared after first name (Leah) successfully placed."
   ]
  },
  {
   "cell_type": "code",
   "execution_count": 22,
   "id": "428a77ee",
   "metadata": {},
   "outputs": [
    {
     "data": {
      "text/plain": [
       "array(['Elizabeth', 'Glenn', 'George', 'Joanne', 'Hugh', 'Janice',\n",
       "       'Steven', 'Michael', 'Jasmine', 'Scott', 'Kerry', 'Ruth',\n",
       "       'Vanessa', 'Michelle', 'Marie', 'Dale', 'Robin', 'Brenda', 'Joe',\n",
       "       'Duncan', 'Emily', 'Nicholas', 'Rachael', 'Rebecca', 'Lee',\n",
       "       'Maurice', 'Joel', 'Zoe', 'Leonard', 'Joanna', 'Leon', 'Sheila',\n",
       "       'Tom', 'Guy', 'Martyn', 'Natasha', 'Diane', 'Frederick', 'Alex',\n",
       "       'Phillip', 'Stacey', 'Lynda', 'Josh', 'Raymond', 'Russell',\n",
       "       'Suzanne', 'Stephen', 'Paul', 'Iain', 'Lucy', 'Bernard', 'Sara',\n",
       "       'Carole', 'Julia', 'Charlene', 'Reece', 'Patrick', 'Pamela',\n",
       "       'Bryan', 'Megan', 'Jay', 'Conor', 'Margaret', 'Sally', 'Jeffrey',\n",
       "       'Leanne', 'Ashley', 'Diana', 'Catherine', 'Andrea', 'Julian',\n",
       "       'Yvonne', 'Elliot', 'Roger', 'Sophie', 'Christian', 'Henry',\n",
       "       'Mohamed', 'Gail', 'Tracey', 'Georgia', 'Albert', 'Frances',\n",
       "       'Mitchell', 'Victor', 'Judith', 'Rosie', 'Tina', 'William', 'Kyle',\n",
       "       'Ashleigh', 'Vincent', 'Annette', 'Roy', 'Donald', 'Paige',\n",
       "       'Garry', 'Jade', 'Nigel', 'Leah', 'Kate', 'Katie', 'Brandon',\n",
       "       'Derek', 'Shane', 'Jonathan', 'Elaine', 'Lindsey', 'Jemma',\n",
       "       'Wayne', 'Beverley', 'Josephine', 'Justin', 'Peter', 'Douglas',\n",
       "       'Clare', 'Terry', 'Jordan', 'Jason', 'Terence', 'Sarah', 'Tracy',\n",
       "       'Callum', 'Dawn', 'Jamie', 'Anna', 'John', 'Cheryl', 'Chloe',\n",
       "       'Lawrence', 'Graham', 'Janet', 'Teresa', 'Billy', 'Matthew',\n",
       "       'Jenna', 'Sian', 'Mathew', 'June', 'Jean', 'Kevin', 'Lesley',\n",
       "       'Philip', 'Samantha', 'Malcolm', 'Bethan', 'Dennis', 'Jessica',\n",
       "       'Kim', 'Gary', 'Adam', 'Amelia', 'Gillian', 'Linda', 'Christine',\n",
       "       'Rachel', 'Arthur', 'Fiona', 'Naomi', 'Ross', 'Carol', 'Jodie',\n",
       "       'Carl', 'Amanda', 'Sam', 'Charlie', 'Dorothy', 'Denis', 'Gerard',\n",
       "       'Nicole', 'Kayleigh', 'Gerald', 'Benjamin', 'Frank', 'Olivia',\n",
       "       'Sean', 'Trevor', 'Amy', 'Carly', 'Stephanie', 'David', 'Ricky',\n",
       "       'Angela', 'Denise', 'Shirley', 'Bruce', 'Martin', 'Alice',\n",
       "       'Stewart', 'Leigh', 'Clive', 'Marcus', 'Declan', 'Abbie',\n",
       "       'Valerie', 'Mohammad', 'Keith', 'Patricia', 'Norman', 'Nathan',\n",
       "       'Timothy', 'Shaun', 'Francesca', 'Antony', 'Rita', 'Ann', 'Max',\n",
       "       'Kieran', 'Ian', 'Jack', 'Aimee', 'Gareth', 'Jill', 'Andrew',\n",
       "       'Katherine', 'Simon', 'Holly', 'Eleanor', 'Helen', 'Melissa',\n",
       "       'Dylan', 'Marion', 'Bethany', 'Neil', 'Sharon', 'Daniel', 'Julie',\n",
       "       'Karl', 'Samuel', 'Joyce', 'Molly', 'Luke', 'Mary', 'Hollie',\n",
       "       'Brian', 'Harriet', 'Damien', 'Maureen', 'Edward', 'Marian',\n",
       "       'Sandra', 'Susan', 'Lynn', 'Kirsty', 'Liam', 'Kathleen', 'Joan',\n",
       "       'Gemma', 'Bradley', 'Jacob', 'Abigail', 'Anthony', 'Beth',\n",
       "       'Alexander', 'Caroline', 'Grace', 'Allan', 'Jane', 'Ben', 'Toby',\n",
       "       'Donna', 'Lydia', 'Maria', 'Anne', 'Laura', 'Colin', 'Lauren',\n",
       "       'Deborah', 'Stuart', 'Rosemary', 'Mandy', 'Victoria', 'Rhys',\n",
       "       'Paula', 'Adrian', 'Melanie', 'Carolyn', 'Connor', 'Robert',\n",
       "       'Hayley', 'Amber', 'Harry', 'Mark', 'Ryan', 'Christopher', 'Jake',\n",
       "       'Clifford', 'Hazel', 'Nicola', 'Gordon', 'Richard', 'Lewis',\n",
       "       'Charlotte', 'Marc', 'Katy', 'Gavin', 'Chelsea', 'Darren', 'Lisa',\n",
       "       'Barry', 'Francis', 'Hilary', 'Jeremy', 'Georgina', 'Louise',\n",
       "       'Damian', 'Natalie', 'Aaron', 'Kimberley', 'Jennifer', 'Howard',\n",
       "       'Danny', 'Craig', 'Shannon', 'Oliver', 'Lynne', 'Abdul', 'Barbara',\n",
       "       'Heather', 'Jayne', 'Kelly', 'Lorraine', 'Joseph', 'Ellie',\n",
       "       'Danielle', 'Owen', 'Emma', 'Leslie', 'Glen', 'Ronald', 'Debra',\n",
       "       'Wendy', 'Cameron', 'Tony', 'Brett', 'Stanley', 'Jacqueline',\n",
       "       'Sylvia', 'Mohammed', 'Alexandra', 'Graeme', 'Dominic', 'Charles',\n",
       "       'Alan', 'Geraldine', 'Dean', 'Kenneth', 'Eric', 'Hannah', 'Alison',\n",
       "       'Pauline', 'Irene', 'Joshua', 'James', 'Louis', 'Karen', 'Marilyn',\n",
       "       'Eileen', 'Kathryn', 'Gregory', 'Geoffrey', 'Thomas', 'Elliott',\n",
       "       'Claire', 'L.', 'Joel-Edmund', 'Lynn Rye', 'D.', 'A.'],\n",
       "      dtype=object)"
      ]
     },
     "execution_count": 22,
     "metadata": {},
     "output_type": "execute_result"
    }
   ],
   "source": [
    "# Check cleaned data\n",
    "census_data['First Name'].unique()"
   ]
  },
  {
   "cell_type": "markdown",
   "id": "6a0f5665",
   "metadata": {},
   "source": [
    "# Data Cleaning - Age"
   ]
  },
  {
   "cell_type": "code",
   "execution_count": 23,
   "id": "e8ec3aa2",
   "metadata": {},
   "outputs": [
    {
     "data": {
      "text/plain": [
       "array(['39', '46', '9', '35', '10', '7', '53', '61', '31', '79', '20',\n",
       "       '17', '27', '28', '38', '5', '52', '26', '4', '47', '43', '66',\n",
       "       '23', '19', '14', '71', '41', '36', '22', '3', '12', '8', '48',\n",
       "       '44', '77', '49', '56', '62', '64', '25', '65', '34', '30', '29',\n",
       "       '40', '6', '42', '51', '11', '21', '50', '32', '67', '70', '54',\n",
       "       '57', '72', '16', '13', '59', '15', '45', 'Seven', '74', '55',\n",
       "       '63', '60', '37', '69', '78', '75', '73', '24', '81', '58', '18',\n",
       "       '68', '2', '80', '84', '86', '82', '1', '33', '0', '76', '83',\n",
       "       '90', '87', '85', '98', '88', '2.1', '92', '93', '103', '100',\n",
       "       '89', '91', '104', '102', '101', '105', '107', '94', '99',\n",
       "       '63.7497341', '94.94596072', '97', '66.55922257', '67.55922257',\n",
       "       '49.41583557', '58.30101378', '62.30101378', '275', '0.5',\n",
       "       '71.47624973', '-1', '91.12782192', '67.10008329', '6.2', 'ONE',\n",
       "       '3.3'], dtype=object)"
      ]
     },
     "execution_count": 23,
     "metadata": {},
     "output_type": "execute_result"
    }
   ],
   "source": [
    "#Explore the data for inconsistencies\n",
    "census_data['Age'].unique()"
   ]
  },
  {
   "cell_type": "markdown",
   "id": "b08ef60b",
   "metadata": {},
   "source": [
    "- Age 275 and -1 are obviously wrong data, most likely a typographical error and should be replaced with something else.\n",
    "- A second look at the ages in decimals revealed 0.5,3.3,2.1 and 6.2 were the only ones in 1 decimal place.\n",
    "\n",
    "\n",
    "- For 275, a closer look reveals the respondent is husband to head of house (Age 24), I assume respondent is age 27"
   ]
  },
  {
   "cell_type": "code",
   "execution_count": 24,
   "id": "d9c32b4b",
   "metadata": {},
   "outputs": [
    {
     "name": "stdout",
     "output_type": "stream",
     "text": [
      "     House Number          Street First Name Surname  Age  \\\n",
      "7231           23  Rhodes Freeway      Barry  Murphy  275   \n",
      "\n",
      "     Relationship to Head of House Marital Status Gender  \\\n",
      "7231                       Husband        Married   Male   \n",
      "\n",
      "                     Occupation Infirmity Religion  \n",
      "7231  Health and safety adviser      None     None  \n",
      "     House Number          Street First Name Surname Age  \\\n",
      "7230           23  Rhodes Freeway       Jane  Murphy  24   \n",
      "\n",
      "     Relationship to Head of House Marital Status  Gender        Occupation  \\\n",
      "7230                          Head        Married  Female  Technical brewer   \n",
      "\n",
      "     Infirmity Religion  \n",
      "7230      None     None  \n",
      "     House Number          Street First Name  Surname  Age  \\\n",
      "1966           61  Mercybank Road     Amelia  Wheeler  2.1   \n",
      "\n",
      "     Relationship to Head of House Marital Status  Gender          Occupation  \\\n",
      "1966                          Head         Single  FEMALE  University Student   \n",
      "\n",
      "     Infirmity   Religion  \n",
      "1966      None  Christian  \n",
      "     House Number      Street First Name Surname  Age  \\\n",
      "8894           15  Hyde Fords      Frank  Morris  6.2   \n",
      "\n",
      "     Relationship to Head of House Marital Status Gender  \\\n",
      "8894                        Lodger       Divorced   Male   \n",
      "\n",
      "                Occupation Infirmity Religion  \n",
      "8894  Operations geologist      None     None  \n",
      "     House Number           Street First Name Surname  Age  \\\n",
      "9808            7  Arrows Parkways      Joyce   Evans  3.3   \n",
      "\n",
      "     Relationship to Head of House Marital Status  Gender  Occupation  \\\n",
      "9808                          Head         Single  Female  Unemployed   \n",
      "\n",
      "     Infirmity Religion  \n",
      "9808      None     None  \n"
     ]
    }
   ],
   "source": [
    "\n",
    "# To fetch details of the identified respondent with incorrect age and spouse for inference\n",
    "print(census_data.iloc[[7231]])\n",
    "print(census_data.iloc[[7230]])\n",
    "\n",
    "\n",
    "# To fetch details of the identified respondents with incorrect age\n",
    "print(census_data.iloc[[1966]])\n",
    "print(census_data.iloc[[8894]])\n",
    "print(census_data.iloc[[9808]])\n"
   ]
  },
  {
   "cell_type": "markdown",
   "id": "318d4ba1",
   "metadata": {},
   "source": [
    "- Upon investigating, respondents with ages 2.1(a university student) and 3.3 (unemployed) were both head of house \n",
    "while 6.2 (a geologist) a lodger, evidencing typo error.\n",
    "- Based on the above, I will carry out age corrections as follows:"
   ]
  },
  {
   "cell_type": "code",
   "execution_count": 25,
   "id": "1f691029",
   "metadata": {},
   "outputs": [],
   "source": [
    "# Replace age recorded as 275 to 27\n",
    "census_data['Age'] = census_data['Age'].replace('275', 27)\n",
    "\n",
    "# Replace age recorded as 2.1 to 21\n",
    "census_data['Age'] = census_data['Age'].replace('2.1', 21)\n",
    "\n",
    "\n",
    "# Replace age recorded as 3.3 to 33\n",
    "census_data['Age'] = census_data['Age'].replace('3.3', 33)\n",
    "\n",
    "# Replace age recorded as 6.2 to 62\n",
    "census_data['Age'] = census_data['Age'].replace('6.2', 62)\n",
    "\n",
    "# Replace age recorded as 0.5 to 5\n",
    "census_data['Age'] = census_data['Age'].replace('0.5', 5)\n",
    "\n",
    "# Replace age recorded as -1 to 1\n",
    "census_data['Age'] = census_data['Age'].replace('-1', 1)\n",
    "\n",
    "# Replace ages recorded in words to numbers\n",
    "census_data['Age'] = census_data['Age'].replace('ONE', 1)\n",
    "census_data['Age'] = census_data['Age'].replace('Seven', 7)\n"
   ]
  },
  {
   "cell_type": "code",
   "execution_count": 26,
   "id": "3c5bf7b0",
   "metadata": {},
   "outputs": [
    {
     "data": {
      "text/html": [
       "<div>\n",
       "<style scoped>\n",
       "    .dataframe tbody tr th:only-of-type {\n",
       "        vertical-align: middle;\n",
       "    }\n",
       "\n",
       "    .dataframe tbody tr th {\n",
       "        vertical-align: top;\n",
       "    }\n",
       "\n",
       "    .dataframe thead th {\n",
       "        text-align: right;\n",
       "    }\n",
       "</style>\n",
       "<table border=\"1\" class=\"dataframe\">\n",
       "  <thead>\n",
       "    <tr style=\"text-align: right;\">\n",
       "      <th></th>\n",
       "      <th>House Number</th>\n",
       "      <th>Street</th>\n",
       "      <th>First Name</th>\n",
       "      <th>Surname</th>\n",
       "      <th>Age</th>\n",
       "      <th>Relationship to Head of House</th>\n",
       "      <th>Marital Status</th>\n",
       "      <th>Gender</th>\n",
       "      <th>Occupation</th>\n",
       "      <th>Infirmity</th>\n",
       "      <th>Religion</th>\n",
       "    </tr>\n",
       "  </thead>\n",
       "  <tbody>\n",
       "  </tbody>\n",
       "</table>\n",
       "</div>"
      ],
      "text/plain": [
       "Empty DataFrame\n",
       "Columns: [House Number, Street, First Name, Surname, Age, Relationship to Head of House, Marital Status, Gender, Occupation, Infirmity, Religion]\n",
       "Index: []"
      ]
     },
     "execution_count": 26,
     "metadata": {},
     "output_type": "execute_result"
    }
   ],
   "source": [
    "#check for blank or missing data\n",
    "census_data.loc[census_data['Age'] == ' ']"
   ]
  },
  {
   "cell_type": "markdown",
   "id": "2cad3923",
   "metadata": {},
   "source": [
    "- No missing value"
   ]
  },
  {
   "cell_type": "code",
   "execution_count": 27,
   "id": "63bb6550",
   "metadata": {},
   "outputs": [],
   "source": [
    "# Cast all Age entries to integer\n",
    "census_data['Age'] = [float(a) for a in census_data['Age']]\n",
    "census_data['Age'] = [int(a) for a in census_data['Age']]"
   ]
  },
  {
   "cell_type": "markdown",
   "id": "c38d09bf",
   "metadata": {},
   "source": [
    "- I converted all age values in float to integer"
   ]
  },
  {
   "cell_type": "code",
   "execution_count": 28,
   "id": "7a74fe38",
   "metadata": {},
   "outputs": [
    {
     "data": {
      "text/plain": [
       "array([ 39,  46,   9,  35,  10,   7,  53,  61,  31,  79,  20,  17,  27,\n",
       "        28,  38,   5,  52,  26,   4,  47,  43,  66,  23,  19,  14,  71,\n",
       "        41,  36,  22,   3,  12,   8,  48,  44,  77,  49,  56,  62,  64,\n",
       "        25,  65,  34,  30,  29,  40,   6,  42,  51,  11,  21,  50,  32,\n",
       "        67,  70,  54,  57,  72,  16,  13,  59,  15,  45,  74,  55,  63,\n",
       "        60,  37,  69,  78,  75,  73,  24,  81,  58,  18,  68,   2,  80,\n",
       "        84,  86,  82,   1,  33,   0,  76,  83,  90,  87,  85,  98,  88,\n",
       "        92,  93, 103, 100,  89,  91, 104, 102, 101, 105, 107,  94,  99,\n",
       "        97], dtype=int64)"
      ]
     },
     "execution_count": 28,
     "metadata": {},
     "output_type": "execute_result"
    }
   ],
   "source": [
    "# check cleaned data\n",
    "census_data['Age'].unique()"
   ]
  },
  {
   "cell_type": "markdown",
   "id": "1a319451",
   "metadata": {},
   "source": [
    "- All values under the age variable now looks clean"
   ]
  },
  {
   "cell_type": "code",
   "execution_count": 29,
   "id": "6ae2f507",
   "metadata": {
    "scrolled": true
   },
   "outputs": [
    {
     "name": "stdout",
     "output_type": "stream",
     "text": [
      "     House Number         Street First Name     Surname  Age  \\\n",
      "5356           28  Reindeer Road     Dennis  O'Sullivan   15   \n",
      "\n",
      "     Relationship to Head of House Marital Status Gender Occupation Infirmity  \\\n",
      "5356                          Head        Married   Male    Student      None   \n",
      "\n",
      "     Religion  \n",
      "5356      NaN  \n",
      "     House Number         Street First Name     Surname  Age  \\\n",
      "5357           28  Reindeer Road    Georgia  O'Sullivan   19   \n",
      "\n",
      "     Relationship to Head of House Marital Status  Gender          Occupation  \\\n",
      "5357                          Wife        Married  Female  University Student   \n",
      "\n",
      "     Infirmity Religion  \n",
      "5357      None      NaN  \n",
      "     House Number         Street First Name     Surname  Age  \\\n",
      "5358           28  Reindeer Road      Kelly  O'Sullivan    2   \n",
      "\n",
      "     Relationship to Head of House Marital Status  Gender Occupation  \\\n",
      "5358                      Daughter            NaN  Female      Child   \n",
      "\n",
      "     Infirmity Religion  \n",
      "5358      None      NaN  \n"
     ]
    }
   ],
   "source": [
    "# 15 year old student recorded as married with a child, listed as head of house\n",
    "# wife is over 18 - illegal relationship\n",
    "\n",
    "print(census_data.iloc[[5356]])\n",
    "print(census_data.iloc[[5357]])\n",
    "print(census_data.iloc[[5358]])"
   ]
  },
  {
   "cell_type": "markdown",
   "id": "0aa43676",
   "metadata": {},
   "source": [
    "- Investigation revealed a 15 year old student recorded as married with a child, listed as head of house\n",
    " and wife is over 18 years old. This is an illegal relationship.\n",
    "\n",
    "- Following the above discovery, i will drop the 3 rows containing information of 1 household."
   ]
  },
  {
   "cell_type": "code",
   "execution_count": 30,
   "id": "54c22fd6",
   "metadata": {},
   "outputs": [],
   "source": [
    "# Entire household should be expunged\n",
    "#census_data.drop\n",
    "census_data.drop(labels=[5356,5357,5358], inplace=True)"
   ]
  },
  {
   "cell_type": "markdown",
   "id": "caf7bc3b",
   "metadata": {},
   "source": [
    "# Data Cleaning - Marital Status"
   ]
  },
  {
   "cell_type": "code",
   "execution_count": 31,
   "id": "f1357ff0",
   "metadata": {},
   "outputs": [
    {
     "data": {
      "text/plain": [
       "array(['Married', nan, 'Single', 'Widowed', 'Divorced', ' '], dtype=object)"
      ]
     },
     "execution_count": 31,
     "metadata": {},
     "output_type": "execute_result"
    }
   ],
   "source": [
    "#Explore the data for inconsistencies\n",
    "census_data['Marital Status'].unique()"
   ]
  },
  {
   "cell_type": "code",
   "execution_count": 32,
   "id": "c8185ff4",
   "metadata": {},
   "outputs": [],
   "source": [
    "# nan and missing value ('') seen in Marital status"
   ]
  },
  {
   "cell_type": "code",
   "execution_count": 33,
   "id": "89fad239",
   "metadata": {},
   "outputs": [
    {
     "data": {
      "text/html": [
       "<div>\n",
       "<style scoped>\n",
       "    .dataframe tbody tr th:only-of-type {\n",
       "        vertical-align: middle;\n",
       "    }\n",
       "\n",
       "    .dataframe tbody tr th {\n",
       "        vertical-align: top;\n",
       "    }\n",
       "\n",
       "    .dataframe thead th {\n",
       "        text-align: right;\n",
       "    }\n",
       "</style>\n",
       "<table border=\"1\" class=\"dataframe\">\n",
       "  <thead>\n",
       "    <tr style=\"text-align: right;\">\n",
       "      <th></th>\n",
       "      <th>House Number</th>\n",
       "      <th>Street</th>\n",
       "      <th>First Name</th>\n",
       "      <th>Surname</th>\n",
       "      <th>Age</th>\n",
       "      <th>Relationship to Head of House</th>\n",
       "      <th>Marital Status</th>\n",
       "      <th>Gender</th>\n",
       "      <th>Occupation</th>\n",
       "      <th>Infirmity</th>\n",
       "      <th>Religion</th>\n",
       "    </tr>\n",
       "  </thead>\n",
       "  <tbody>\n",
       "    <tr>\n",
       "      <th>2</th>\n",
       "      <td>1</td>\n",
       "      <td>Bastille Plains</td>\n",
       "      <td>George</td>\n",
       "      <td>Marshall</td>\n",
       "      <td>9</td>\n",
       "      <td>Son</td>\n",
       "      <td>NaN</td>\n",
       "      <td>Male</td>\n",
       "      <td>Student</td>\n",
       "      <td>None</td>\n",
       "      <td>NaN</td>\n",
       "    </tr>\n",
       "    <tr>\n",
       "      <th>4</th>\n",
       "      <td>2</td>\n",
       "      <td>Bastille Plains</td>\n",
       "      <td>Hugh</td>\n",
       "      <td>Wilson</td>\n",
       "      <td>10</td>\n",
       "      <td>Son</td>\n",
       "      <td>NaN</td>\n",
       "      <td>Male</td>\n",
       "      <td>Student</td>\n",
       "      <td>None</td>\n",
       "      <td>NaN</td>\n",
       "    </tr>\n",
       "    <tr>\n",
       "      <th>5</th>\n",
       "      <td>2</td>\n",
       "      <td>Bastille Plains</td>\n",
       "      <td>Janice</td>\n",
       "      <td>Wilson</td>\n",
       "      <td>9</td>\n",
       "      <td>Daughter</td>\n",
       "      <td>NaN</td>\n",
       "      <td>Female</td>\n",
       "      <td>Student</td>\n",
       "      <td>None</td>\n",
       "      <td>NaN</td>\n",
       "    </tr>\n",
       "    <tr>\n",
       "      <th>6</th>\n",
       "      <td>2</td>\n",
       "      <td>Bastille Plains</td>\n",
       "      <td>Steven</td>\n",
       "      <td>Wilson</td>\n",
       "      <td>9</td>\n",
       "      <td>Son</td>\n",
       "      <td>NaN</td>\n",
       "      <td>Male</td>\n",
       "      <td>Student</td>\n",
       "      <td>None</td>\n",
       "      <td>NaN</td>\n",
       "    </tr>\n",
       "    <tr>\n",
       "      <th>7</th>\n",
       "      <td>2</td>\n",
       "      <td>Bastille Plains</td>\n",
       "      <td>Michael</td>\n",
       "      <td>Wilson</td>\n",
       "      <td>7</td>\n",
       "      <td>Son</td>\n",
       "      <td>NaN</td>\n",
       "      <td>Male</td>\n",
       "      <td>Student</td>\n",
       "      <td>None</td>\n",
       "      <td>NaN</td>\n",
       "    </tr>\n",
       "    <tr>\n",
       "      <th>...</th>\n",
       "      <td>...</td>\n",
       "      <td>...</td>\n",
       "      <td>...</td>\n",
       "      <td>...</td>\n",
       "      <td>...</td>\n",
       "      <td>...</td>\n",
       "      <td>...</td>\n",
       "      <td>...</td>\n",
       "      <td>...</td>\n",
       "      <td>...</td>\n",
       "      <td>...</td>\n",
       "    </tr>\n",
       "    <tr>\n",
       "      <th>9949</th>\n",
       "      <td>1</td>\n",
       "      <td>Holden Keep</td>\n",
       "      <td>Shaun</td>\n",
       "      <td>Ferguson</td>\n",
       "      <td>3</td>\n",
       "      <td>Son</td>\n",
       "      <td>NaN</td>\n",
       "      <td>Male</td>\n",
       "      <td>Child</td>\n",
       "      <td>None</td>\n",
       "      <td>NaN</td>\n",
       "    </tr>\n",
       "    <tr>\n",
       "      <th>9950</th>\n",
       "      <td>1</td>\n",
       "      <td>Holden Keep</td>\n",
       "      <td>Danny</td>\n",
       "      <td>Young-Ferguson</td>\n",
       "      <td>2</td>\n",
       "      <td>Son</td>\n",
       "      <td>NaN</td>\n",
       "      <td>Male</td>\n",
       "      <td>Child</td>\n",
       "      <td>Deaf</td>\n",
       "      <td>NaN</td>\n",
       "    </tr>\n",
       "    <tr>\n",
       "      <th>9951</th>\n",
       "      <td>1</td>\n",
       "      <td>Holden Keep</td>\n",
       "      <td>Christine</td>\n",
       "      <td>Young-Ferguson</td>\n",
       "      <td>0</td>\n",
       "      <td>Daughter</td>\n",
       "      <td>NaN</td>\n",
       "      <td>Female</td>\n",
       "      <td>Child</td>\n",
       "      <td>None</td>\n",
       "      <td>NaN</td>\n",
       "    </tr>\n",
       "    <tr>\n",
       "      <th>9959</th>\n",
       "      <td>1</td>\n",
       "      <td>Kraken Farmhouse</td>\n",
       "      <td>Dominic</td>\n",
       "      <td>Spencer-John</td>\n",
       "      <td>16</td>\n",
       "      <td>Son</td>\n",
       "      <td>NaN</td>\n",
       "      <td>Male</td>\n",
       "      <td>Student</td>\n",
       "      <td>None</td>\n",
       "      <td>NaN</td>\n",
       "    </tr>\n",
       "    <tr>\n",
       "      <th>9960</th>\n",
       "      <td>1</td>\n",
       "      <td>Kraken Farmhouse</td>\n",
       "      <td>Angela</td>\n",
       "      <td>Spencer-John</td>\n",
       "      <td>14</td>\n",
       "      <td>Daughter</td>\n",
       "      <td>NaN</td>\n",
       "      <td>Female</td>\n",
       "      <td>Student</td>\n",
       "      <td>None</td>\n",
       "      <td>NaN</td>\n",
       "    </tr>\n",
       "  </tbody>\n",
       "</table>\n",
       "<p>2453 rows × 11 columns</p>\n",
       "</div>"
      ],
      "text/plain": [
       "     House Number            Street First Name         Surname  Age  \\\n",
       "2               1   Bastille Plains     George        Marshall    9   \n",
       "4               2   Bastille Plains       Hugh          Wilson   10   \n",
       "5               2   Bastille Plains     Janice          Wilson    9   \n",
       "6               2   Bastille Plains     Steven          Wilson    9   \n",
       "7               2   Bastille Plains    Michael          Wilson    7   \n",
       "...           ...               ...        ...             ...  ...   \n",
       "9949            1       Holden Keep      Shaun        Ferguson    3   \n",
       "9950            1       Holden Keep      Danny  Young-Ferguson    2   \n",
       "9951            1       Holden Keep  Christine  Young-Ferguson    0   \n",
       "9959            1  Kraken Farmhouse    Dominic    Spencer-John   16   \n",
       "9960            1  Kraken Farmhouse     Angela    Spencer-John   14   \n",
       "\n",
       "     Relationship to Head of House Marital Status  Gender Occupation  \\\n",
       "2                              Son            NaN    Male    Student   \n",
       "4                              Son            NaN    Male    Student   \n",
       "5                         Daughter            NaN  Female    Student   \n",
       "6                              Son            NaN    Male    Student   \n",
       "7                              Son            NaN    Male    Student   \n",
       "...                            ...            ...     ...        ...   \n",
       "9949                           Son            NaN    Male      Child   \n",
       "9950                           Son            NaN    Male      Child   \n",
       "9951                      Daughter            NaN  Female      Child   \n",
       "9959                           Son            NaN    Male    Student   \n",
       "9960                      Daughter            NaN  Female    Student   \n",
       "\n",
       "     Infirmity Religion  \n",
       "2         None      NaN  \n",
       "4         None      NaN  \n",
       "5         None      NaN  \n",
       "6         None      NaN  \n",
       "7         None      NaN  \n",
       "...        ...      ...  \n",
       "9949      None      NaN  \n",
       "9950      Deaf      NaN  \n",
       "9951      None      NaN  \n",
       "9959      None      NaN  \n",
       "9960      None      NaN  \n",
       "\n",
       "[2453 rows x 11 columns]"
      ]
     },
     "execution_count": 33,
     "metadata": {},
     "output_type": "execute_result"
    }
   ],
   "source": [
    "census_data[census_data['Marital Status'].isna()]"
   ]
  },
  {
   "cell_type": "markdown",
   "id": "21b7ae60",
   "metadata": {},
   "source": [
    "- The list of individuals with NaN Marital status were noticed to be minors and sons or daughters of the Head of house.\n",
    "- They are all below 18 years old, live with parents hence can be classed as 'Single'."
   ]
  },
  {
   "cell_type": "code",
   "execution_count": 34,
   "id": "6331ea0b",
   "metadata": {},
   "outputs": [],
   "source": [
    " #First we change NaN values to 'None'\n",
    "census_data['Marital Status'] = census_data['Marital Status'].replace(np.nan,'None')\n"
   ]
  },
  {
   "cell_type": "code",
   "execution_count": 35,
   "id": "6ebc8180",
   "metadata": {},
   "outputs": [
    {
     "data": {
      "text/html": [
       "<div>\n",
       "<style scoped>\n",
       "    .dataframe tbody tr th:only-of-type {\n",
       "        vertical-align: middle;\n",
       "    }\n",
       "\n",
       "    .dataframe tbody tr th {\n",
       "        vertical-align: top;\n",
       "    }\n",
       "\n",
       "    .dataframe thead th {\n",
       "        text-align: right;\n",
       "    }\n",
       "</style>\n",
       "<table border=\"1\" class=\"dataframe\">\n",
       "  <thead>\n",
       "    <tr style=\"text-align: right;\">\n",
       "      <th></th>\n",
       "      <th>House Number</th>\n",
       "      <th>Street</th>\n",
       "      <th>First Name</th>\n",
       "      <th>Surname</th>\n",
       "      <th>Age</th>\n",
       "      <th>Relationship to Head of House</th>\n",
       "      <th>Marital Status</th>\n",
       "      <th>Gender</th>\n",
       "      <th>Occupation</th>\n",
       "      <th>Infirmity</th>\n",
       "      <th>Religion</th>\n",
       "    </tr>\n",
       "  </thead>\n",
       "  <tbody>\n",
       "  </tbody>\n",
       "</table>\n",
       "</div>"
      ],
      "text/plain": [
       "Empty DataFrame\n",
       "Columns: [House Number, Street, First Name, Surname, Age, Relationship to Head of House, Marital Status, Gender, Occupation, Infirmity, Religion]\n",
       "Index: []"
      ]
     },
     "execution_count": 35,
     "metadata": {},
     "output_type": "execute_result"
    }
   ],
   "source": [
    "#check for nan correction\n",
    "census_data[census_data['Marital Status'].isna()]"
   ]
  },
  {
   "cell_type": "code",
   "execution_count": 36,
   "id": "ab73b024",
   "metadata": {},
   "outputs": [
    {
     "data": {
      "text/html": [
       "<div>\n",
       "<style scoped>\n",
       "    .dataframe tbody tr th:only-of-type {\n",
       "        vertical-align: middle;\n",
       "    }\n",
       "\n",
       "    .dataframe tbody tr th {\n",
       "        vertical-align: top;\n",
       "    }\n",
       "\n",
       "    .dataframe thead th {\n",
       "        text-align: right;\n",
       "    }\n",
       "</style>\n",
       "<table border=\"1\" class=\"dataframe\">\n",
       "  <thead>\n",
       "    <tr style=\"text-align: right;\">\n",
       "      <th></th>\n",
       "      <th>House Number</th>\n",
       "      <th>Street</th>\n",
       "      <th>First Name</th>\n",
       "      <th>Surname</th>\n",
       "      <th>Age</th>\n",
       "      <th>Relationship to Head of House</th>\n",
       "      <th>Marital Status</th>\n",
       "      <th>Gender</th>\n",
       "      <th>Occupation</th>\n",
       "      <th>Infirmity</th>\n",
       "      <th>Religion</th>\n",
       "    </tr>\n",
       "  </thead>\n",
       "  <tbody>\n",
       "    <tr>\n",
       "      <th>2</th>\n",
       "      <td>1</td>\n",
       "      <td>Bastille Plains</td>\n",
       "      <td>George</td>\n",
       "      <td>Marshall</td>\n",
       "      <td>9</td>\n",
       "      <td>Son</td>\n",
       "      <td>None</td>\n",
       "      <td>Male</td>\n",
       "      <td>Student</td>\n",
       "      <td>None</td>\n",
       "      <td>NaN</td>\n",
       "    </tr>\n",
       "    <tr>\n",
       "      <th>4</th>\n",
       "      <td>2</td>\n",
       "      <td>Bastille Plains</td>\n",
       "      <td>Hugh</td>\n",
       "      <td>Wilson</td>\n",
       "      <td>10</td>\n",
       "      <td>Son</td>\n",
       "      <td>None</td>\n",
       "      <td>Male</td>\n",
       "      <td>Student</td>\n",
       "      <td>None</td>\n",
       "      <td>NaN</td>\n",
       "    </tr>\n",
       "    <tr>\n",
       "      <th>5</th>\n",
       "      <td>2</td>\n",
       "      <td>Bastille Plains</td>\n",
       "      <td>Janice</td>\n",
       "      <td>Wilson</td>\n",
       "      <td>9</td>\n",
       "      <td>Daughter</td>\n",
       "      <td>None</td>\n",
       "      <td>Female</td>\n",
       "      <td>Student</td>\n",
       "      <td>None</td>\n",
       "      <td>NaN</td>\n",
       "    </tr>\n",
       "    <tr>\n",
       "      <th>6</th>\n",
       "      <td>2</td>\n",
       "      <td>Bastille Plains</td>\n",
       "      <td>Steven</td>\n",
       "      <td>Wilson</td>\n",
       "      <td>9</td>\n",
       "      <td>Son</td>\n",
       "      <td>None</td>\n",
       "      <td>Male</td>\n",
       "      <td>Student</td>\n",
       "      <td>None</td>\n",
       "      <td>NaN</td>\n",
       "    </tr>\n",
       "    <tr>\n",
       "      <th>7</th>\n",
       "      <td>2</td>\n",
       "      <td>Bastille Plains</td>\n",
       "      <td>Michael</td>\n",
       "      <td>Wilson</td>\n",
       "      <td>7</td>\n",
       "      <td>Son</td>\n",
       "      <td>None</td>\n",
       "      <td>Male</td>\n",
       "      <td>Student</td>\n",
       "      <td>None</td>\n",
       "      <td>NaN</td>\n",
       "    </tr>\n",
       "    <tr>\n",
       "      <th>...</th>\n",
       "      <td>...</td>\n",
       "      <td>...</td>\n",
       "      <td>...</td>\n",
       "      <td>...</td>\n",
       "      <td>...</td>\n",
       "      <td>...</td>\n",
       "      <td>...</td>\n",
       "      <td>...</td>\n",
       "      <td>...</td>\n",
       "      <td>...</td>\n",
       "      <td>...</td>\n",
       "    </tr>\n",
       "    <tr>\n",
       "      <th>9949</th>\n",
       "      <td>1</td>\n",
       "      <td>Holden Keep</td>\n",
       "      <td>Shaun</td>\n",
       "      <td>Ferguson</td>\n",
       "      <td>3</td>\n",
       "      <td>Son</td>\n",
       "      <td>None</td>\n",
       "      <td>Male</td>\n",
       "      <td>Child</td>\n",
       "      <td>None</td>\n",
       "      <td>NaN</td>\n",
       "    </tr>\n",
       "    <tr>\n",
       "      <th>9950</th>\n",
       "      <td>1</td>\n",
       "      <td>Holden Keep</td>\n",
       "      <td>Danny</td>\n",
       "      <td>Young-Ferguson</td>\n",
       "      <td>2</td>\n",
       "      <td>Son</td>\n",
       "      <td>None</td>\n",
       "      <td>Male</td>\n",
       "      <td>Child</td>\n",
       "      <td>Deaf</td>\n",
       "      <td>NaN</td>\n",
       "    </tr>\n",
       "    <tr>\n",
       "      <th>9951</th>\n",
       "      <td>1</td>\n",
       "      <td>Holden Keep</td>\n",
       "      <td>Christine</td>\n",
       "      <td>Young-Ferguson</td>\n",
       "      <td>0</td>\n",
       "      <td>Daughter</td>\n",
       "      <td>None</td>\n",
       "      <td>Female</td>\n",
       "      <td>Child</td>\n",
       "      <td>None</td>\n",
       "      <td>NaN</td>\n",
       "    </tr>\n",
       "    <tr>\n",
       "      <th>9959</th>\n",
       "      <td>1</td>\n",
       "      <td>Kraken Farmhouse</td>\n",
       "      <td>Dominic</td>\n",
       "      <td>Spencer-John</td>\n",
       "      <td>16</td>\n",
       "      <td>Son</td>\n",
       "      <td>None</td>\n",
       "      <td>Male</td>\n",
       "      <td>Student</td>\n",
       "      <td>None</td>\n",
       "      <td>NaN</td>\n",
       "    </tr>\n",
       "    <tr>\n",
       "      <th>9960</th>\n",
       "      <td>1</td>\n",
       "      <td>Kraken Farmhouse</td>\n",
       "      <td>Angela</td>\n",
       "      <td>Spencer-John</td>\n",
       "      <td>14</td>\n",
       "      <td>Daughter</td>\n",
       "      <td>None</td>\n",
       "      <td>Female</td>\n",
       "      <td>Student</td>\n",
       "      <td>None</td>\n",
       "      <td>NaN</td>\n",
       "    </tr>\n",
       "  </tbody>\n",
       "</table>\n",
       "<p>2453 rows × 11 columns</p>\n",
       "</div>"
      ],
      "text/plain": [
       "     House Number            Street First Name         Surname  Age  \\\n",
       "2               1   Bastille Plains     George        Marshall    9   \n",
       "4               2   Bastille Plains       Hugh          Wilson   10   \n",
       "5               2   Bastille Plains     Janice          Wilson    9   \n",
       "6               2   Bastille Plains     Steven          Wilson    9   \n",
       "7               2   Bastille Plains    Michael          Wilson    7   \n",
       "...           ...               ...        ...             ...  ...   \n",
       "9949            1       Holden Keep      Shaun        Ferguson    3   \n",
       "9950            1       Holden Keep      Danny  Young-Ferguson    2   \n",
       "9951            1       Holden Keep  Christine  Young-Ferguson    0   \n",
       "9959            1  Kraken Farmhouse    Dominic    Spencer-John   16   \n",
       "9960            1  Kraken Farmhouse     Angela    Spencer-John   14   \n",
       "\n",
       "     Relationship to Head of House Marital Status  Gender Occupation  \\\n",
       "2                              Son           None    Male    Student   \n",
       "4                              Son           None    Male    Student   \n",
       "5                         Daughter           None  Female    Student   \n",
       "6                              Son           None    Male    Student   \n",
       "7                              Son           None    Male    Student   \n",
       "...                            ...            ...     ...        ...   \n",
       "9949                           Son           None    Male      Child   \n",
       "9950                           Son           None    Male      Child   \n",
       "9951                      Daughter           None  Female      Child   \n",
       "9959                           Son           None    Male    Student   \n",
       "9960                      Daughter           None  Female    Student   \n",
       "\n",
       "     Infirmity Religion  \n",
       "2         None      NaN  \n",
       "4         None      NaN  \n",
       "5         None      NaN  \n",
       "6         None      NaN  \n",
       "7         None      NaN  \n",
       "...        ...      ...  \n",
       "9949      None      NaN  \n",
       "9950      Deaf      NaN  \n",
       "9951      None      NaN  \n",
       "9959      None      NaN  \n",
       "9960      None      NaN  \n",
       "\n",
       "[2453 rows x 11 columns]"
      ]
     },
     "execution_count": 36,
     "metadata": {},
     "output_type": "execute_result"
    }
   ],
   "source": [
    "#Get the list of 'None' Marital Status and age 17 below\n",
    "census_data.loc[(census_data[\"Age\"]<=17) & (census_data[\"Marital Status\"]==\"None\")]"
   ]
  },
  {
   "cell_type": "code",
   "execution_count": 37,
   "id": "c0f75bb1",
   "metadata": {},
   "outputs": [],
   "source": [
    "# We convert all the marital status for children age 17 and below to single\n",
    "census_data['Marital Status'] = census_data['Marital Status'].replace('None','Single')"
   ]
  },
  {
   "cell_type": "code",
   "execution_count": 38,
   "id": "56ceaa05",
   "metadata": {},
   "outputs": [
    {
     "data": {
      "text/html": [
       "<div>\n",
       "<style scoped>\n",
       "    .dataframe tbody tr th:only-of-type {\n",
       "        vertical-align: middle;\n",
       "    }\n",
       "\n",
       "    .dataframe tbody tr th {\n",
       "        vertical-align: top;\n",
       "    }\n",
       "\n",
       "    .dataframe thead th {\n",
       "        text-align: right;\n",
       "    }\n",
       "</style>\n",
       "<table border=\"1\" class=\"dataframe\">\n",
       "  <thead>\n",
       "    <tr style=\"text-align: right;\">\n",
       "      <th></th>\n",
       "      <th>House Number</th>\n",
       "      <th>Street</th>\n",
       "      <th>First Name</th>\n",
       "      <th>Surname</th>\n",
       "      <th>Age</th>\n",
       "      <th>Relationship to Head of House</th>\n",
       "      <th>Marital Status</th>\n",
       "      <th>Gender</th>\n",
       "      <th>Occupation</th>\n",
       "      <th>Infirmity</th>\n",
       "      <th>Religion</th>\n",
       "    </tr>\n",
       "  </thead>\n",
       "  <tbody>\n",
       "  </tbody>\n",
       "</table>\n",
       "</div>"
      ],
      "text/plain": [
       "Empty DataFrame\n",
       "Columns: [House Number, Street, First Name, Surname, Age, Relationship to Head of House, Marital Status, Gender, Occupation, Infirmity, Religion]\n",
       "Index: []"
      ]
     },
     "execution_count": 38,
     "metadata": {},
     "output_type": "execute_result"
    }
   ],
   "source": [
    "#check after cleaning\n",
    "census_data.loc[census_data['Marital Status'] == '']"
   ]
  },
  {
   "cell_type": "code",
   "execution_count": 39,
   "id": "f687fbb8",
   "metadata": {},
   "outputs": [
    {
     "name": "stdout",
     "output_type": "stream",
     "text": [
      "     House Number          Street First Name Surname  Age  \\\n",
      "1219          106  Paladin Street     Cheryl  Thomas   18   \n",
      "\n",
      "     Relationship to Head of House Marital Status  Gender Occupation  \\\n",
      "1219                      Daughter        Widowed  Female    Student   \n",
      "\n",
      "     Infirmity Religion  \n",
      "1219      None     None  \n",
      "     House Number       Street First Name  Surname  Age  \\\n",
      "2436           28  Jones Wells      Harry  Roberts   18   \n",
      "\n",
      "     Relationship to Head of House Marital Status Gender Occupation Infirmity  \\\n",
      "2436                          Head        Widowed   Male    Student      None   \n",
      "\n",
      "     Religion  \n",
      "2436      NaN  \n",
      "     House Number         Street First Name  Surname  Age  \\\n",
      "5964          190  Reindeer Road     Bethan  Johnson   18   \n",
      "\n",
      "     Relationship to Head of House Marital Status  Gender Occupation  \\\n",
      "5964                      Daughter        Widowed  Female    Student   \n",
      "\n",
      "     Infirmity Religion  \n",
      "5964      None     None  \n"
     ]
    }
   ],
   "source": [
    "# Three individuals aged 18 were seen to have been recorded as widowed (Outlier)\n",
    "\n",
    "print(census_data.iloc[[1219]])\n",
    "print(census_data.iloc[[2436]])\n",
    "print(census_data.iloc[[5961]])\n"
   ]
  },
  {
   "cell_type": "markdown",
   "id": "f9fe36a9",
   "metadata": {},
   "source": [
    "- Three individuals aged 18 were seen to have been recorded as widowed (Outlier)\n",
    "- I will change these records from widowed to single\n"
   ]
  },
  {
   "cell_type": "code",
   "execution_count": 40,
   "id": "c80411ae",
   "metadata": {},
   "outputs": [],
   "source": [
    "#change the marital status for the above to single\n",
    "census_data.loc[1219, 'Marital Status'] = 'Single'\n",
    "census_data.loc[2436, 'Marital Status'] = 'Single'\n",
    "census_data.loc[5964, 'Marital Status'] = 'Single'\n"
   ]
  },
  {
   "cell_type": "code",
   "execution_count": 41,
   "id": "f1bd2f5f",
   "metadata": {},
   "outputs": [
    {
     "name": "stdout",
     "output_type": "stream",
     "text": [
      "     House Number          Street First Name Surname  Age  \\\n",
      "1219          106  Paladin Street     Cheryl  Thomas   18   \n",
      "\n",
      "     Relationship to Head of House Marital Status  Gender Occupation  \\\n",
      "1219                      Daughter         Single  Female    Student   \n",
      "\n",
      "     Infirmity Religion  \n",
      "1219      None     None  \n",
      "     House Number       Street First Name  Surname  Age  \\\n",
      "2436           28  Jones Wells      Harry  Roberts   18   \n",
      "\n",
      "     Relationship to Head of House Marital Status Gender Occupation Infirmity  \\\n",
      "2436                          Head         Single   Male    Student      None   \n",
      "\n",
      "     Religion  \n",
      "2436      NaN  \n",
      "     House Number         Street First Name  Surname  Age  \\\n",
      "5964          190  Reindeer Road     Bethan  Johnson   18   \n",
      "\n",
      "     Relationship to Head of House Marital Status  Gender Occupation  \\\n",
      "5964                      Daughter         Single  Female    Student   \n",
      "\n",
      "     Infirmity Religion  \n",
      "5964      None     None  \n"
     ]
    }
   ],
   "source": [
    "#Check corrected data\n",
    "print(census_data.iloc[[1219]])\n",
    "print(census_data.iloc[[2436]])\n",
    "print(census_data.iloc[[5961]])"
   ]
  },
  {
   "cell_type": "code",
   "execution_count": 42,
   "id": "9d19f4e5",
   "metadata": {},
   "outputs": [
    {
     "name": "stdout",
     "output_type": "stream",
     "text": [
      "    House Number          Street First Name Surname  Age  \\\n",
      "715           41  Mermaid Plains  Catherine   Price   36   \n",
      "\n",
      "    Relationship to Head of House Marital Status  Gender  \\\n",
      "715                      Daughter                 Female   \n",
      "\n",
      "               Occupation Infirmity Religion  \n",
      "715  Community pharmacist      None     None  \n"
     ]
    }
   ],
   "source": [
    "#Null marital status identified\n",
    "print(census_data.iloc[[715]])"
   ]
  },
  {
   "cell_type": "code",
   "execution_count": 43,
   "id": "45b7a367",
   "metadata": {},
   "outputs": [
    {
     "data": {
      "text/html": [
       "<div>\n",
       "<style scoped>\n",
       "    .dataframe tbody tr th:only-of-type {\n",
       "        vertical-align: middle;\n",
       "    }\n",
       "\n",
       "    .dataframe tbody tr th {\n",
       "        vertical-align: top;\n",
       "    }\n",
       "\n",
       "    .dataframe thead th {\n",
       "        text-align: right;\n",
       "    }\n",
       "</style>\n",
       "<table border=\"1\" class=\"dataframe\">\n",
       "  <thead>\n",
       "    <tr style=\"text-align: right;\">\n",
       "      <th></th>\n",
       "      <th>House Number</th>\n",
       "      <th>Street</th>\n",
       "      <th>First Name</th>\n",
       "      <th>Surname</th>\n",
       "      <th>Age</th>\n",
       "      <th>Relationship to Head of House</th>\n",
       "      <th>Marital Status</th>\n",
       "      <th>Gender</th>\n",
       "      <th>Occupation</th>\n",
       "      <th>Infirmity</th>\n",
       "      <th>Religion</th>\n",
       "    </tr>\n",
       "  </thead>\n",
       "  <tbody>\n",
       "    <tr>\n",
       "      <th>714</th>\n",
       "      <td>41</td>\n",
       "      <td>Mermaid Plains</td>\n",
       "      <td>Naomi</td>\n",
       "      <td>Price</td>\n",
       "      <td>67</td>\n",
       "      <td>Head</td>\n",
       "      <td>Widowed</td>\n",
       "      <td>Female</td>\n",
       "      <td>Engineer, energy</td>\n",
       "      <td>None</td>\n",
       "      <td>None</td>\n",
       "    </tr>\n",
       "    <tr>\n",
       "      <th>715</th>\n",
       "      <td>41</td>\n",
       "      <td>Mermaid Plains</td>\n",
       "      <td>Catherine</td>\n",
       "      <td>Price</td>\n",
       "      <td>36</td>\n",
       "      <td>Daughter</td>\n",
       "      <td></td>\n",
       "      <td>Female</td>\n",
       "      <td>Community pharmacist</td>\n",
       "      <td>None</td>\n",
       "      <td>None</td>\n",
       "    </tr>\n",
       "    <tr>\n",
       "      <th>716</th>\n",
       "      <td>41</td>\n",
       "      <td>Mermaid Plains</td>\n",
       "      <td>Carolyn</td>\n",
       "      <td>Price</td>\n",
       "      <td>31</td>\n",
       "      <td>Daughter</td>\n",
       "      <td>Single</td>\n",
       "      <td>Female</td>\n",
       "      <td>Artist</td>\n",
       "      <td>None</td>\n",
       "      <td>None</td>\n",
       "    </tr>\n",
       "    <tr>\n",
       "      <th>717</th>\n",
       "      <td>41</td>\n",
       "      <td>Mermaid Plains</td>\n",
       "      <td>Clare</td>\n",
       "      <td>Price</td>\n",
       "      <td>28</td>\n",
       "      <td>Daughter</td>\n",
       "      <td>Single</td>\n",
       "      <td>Female</td>\n",
       "      <td>Biochemist, clinical</td>\n",
       "      <td>None</td>\n",
       "      <td>None</td>\n",
       "    </tr>\n",
       "  </tbody>\n",
       "</table>\n",
       "</div>"
      ],
      "text/plain": [
       "    House Number          Street First Name Surname  Age  \\\n",
       "714           41  Mermaid Plains      Naomi   Price   67   \n",
       "715           41  Mermaid Plains  Catherine   Price   36   \n",
       "716           41  Mermaid Plains    Carolyn   Price   31   \n",
       "717           41  Mermaid Plains      Clare   Price   28   \n",
       "\n",
       "    Relationship to Head of House Marital Status  Gender  \\\n",
       "714                          Head        Widowed  Female   \n",
       "715                      Daughter                 Female   \n",
       "716                      Daughter         Single  Female   \n",
       "717                      Daughter         Single  Female   \n",
       "\n",
       "               Occupation Infirmity Religion  \n",
       "714      Engineer, energy      None     None  \n",
       "715  Community pharmacist      None     None  \n",
       "716                Artist      None     None  \n",
       "717  Biochemist, clinical      None     None  "
      ]
     },
     "execution_count": 43,
     "metadata": {},
     "output_type": "execute_result"
    }
   ],
   "source": [
    "# To replace the miss in marital status\n",
    "#This was done by making inference from the household\n",
    "\n",
    "census_data.loc[714:717]\n"
   ]
  },
  {
   "cell_type": "markdown",
   "id": "fb1849fb",
   "metadata": {},
   "source": [
    "- Having identified record of Null marital status, Individual was observed from the above to live with widowed mother\n",
    "and siblings who are also single.\n",
    "- I will change from \"\" to Single."
   ]
  },
  {
   "cell_type": "code",
   "execution_count": 44,
   "id": "b9c3784e",
   "metadata": {},
   "outputs": [],
   "source": [
    "census_data.loc[715, 'Marital Status'] = 'Single'"
   ]
  },
  {
   "cell_type": "code",
   "execution_count": 45,
   "id": "0d267099",
   "metadata": {},
   "outputs": [
    {
     "data": {
      "text/html": [
       "<div>\n",
       "<style scoped>\n",
       "    .dataframe tbody tr th:only-of-type {\n",
       "        vertical-align: middle;\n",
       "    }\n",
       "\n",
       "    .dataframe tbody tr th {\n",
       "        vertical-align: top;\n",
       "    }\n",
       "\n",
       "    .dataframe thead th {\n",
       "        text-align: right;\n",
       "    }\n",
       "</style>\n",
       "<table border=\"1\" class=\"dataframe\">\n",
       "  <thead>\n",
       "    <tr style=\"text-align: right;\">\n",
       "      <th></th>\n",
       "      <th>House Number</th>\n",
       "      <th>Street</th>\n",
       "      <th>First Name</th>\n",
       "      <th>Surname</th>\n",
       "      <th>Age</th>\n",
       "      <th>Relationship to Head of House</th>\n",
       "      <th>Marital Status</th>\n",
       "      <th>Gender</th>\n",
       "      <th>Occupation</th>\n",
       "      <th>Infirmity</th>\n",
       "      <th>Religion</th>\n",
       "    </tr>\n",
       "  </thead>\n",
       "  <tbody>\n",
       "  </tbody>\n",
       "</table>\n",
       "</div>"
      ],
      "text/plain": [
       "Empty DataFrame\n",
       "Columns: [House Number, Street, First Name, Surname, Age, Relationship to Head of House, Marital Status, Gender, Occupation, Infirmity, Religion]\n",
       "Index: []"
      ]
     },
     "execution_count": 45,
     "metadata": {},
     "output_type": "execute_result"
    }
   ],
   "source": [
    "census_data[census_data['Marital Status'].isna()]"
   ]
  },
  {
   "cell_type": "code",
   "execution_count": 46,
   "id": "36f7e745",
   "metadata": {
    "scrolled": true
   },
   "outputs": [
    {
     "data": {
      "text/plain": [
       "array(['Married', 'Single', 'Widowed', 'Divorced'], dtype=object)"
      ]
     },
     "execution_count": 46,
     "metadata": {},
     "output_type": "execute_result"
    }
   ],
   "source": [
    "census_data['Marital Status'].unique()"
   ]
  },
  {
   "cell_type": "code",
   "execution_count": 47,
   "id": "ac20eb2f",
   "metadata": {},
   "outputs": [
    {
     "name": "stdout",
     "output_type": "stream",
     "text": [
      "Single      5786\n",
      "Married     2808\n",
      "Divorced     970\n",
      "Widowed      412\n",
      "Name: Marital Status, dtype: int64\n"
     ]
    }
   ],
   "source": [
    "print(census_data['Marital Status'].value_counts() )"
   ]
  },
  {
   "cell_type": "markdown",
   "id": "d20482d0",
   "metadata": {},
   "source": [
    "- A cleaned Marital Status has been achieved above"
   ]
  },
  {
   "cell_type": "markdown",
   "id": "3f5c679a",
   "metadata": {},
   "source": [
    "# Data Cleaning - Gender"
   ]
  },
  {
   "cell_type": "code",
   "execution_count": 48,
   "id": "de5412bf",
   "metadata": {},
   "outputs": [
    {
     "data": {
      "text/plain": [
       "array(['Female', 'Male', 'FAMALE', 'MALE', ' ', 'FEMALE', 'F', 'M',\n",
       "       'Fe-male', 'Ma-le', 'famale', 'male', 'F.'], dtype=object)"
      ]
     },
     "execution_count": 48,
     "metadata": {},
     "output_type": "execute_result"
    }
   ],
   "source": [
    "#Explore data for incorrect/inconsistent records\n",
    "census_data['Gender'].unique()"
   ]
  },
  {
   "cell_type": "markdown",
   "id": "786d4469",
   "metadata": {},
   "source": [
    "- Incorrect gender spellings i.e FAMALE,Fe-male, Ma-le; abbreviations and missing value found in gender.\n",
    "- These will be replaced below accordingly"
   ]
  },
  {
   "cell_type": "code",
   "execution_count": 49,
   "id": "e60c4c79",
   "metadata": {},
   "outputs": [],
   "source": [
    "#Replace all incorrect gender data as appropriate\n",
    "census_data['Gender'] = census_data['Gender'].replace('FAMALE','Female')\n",
    "census_data['Gender'] = census_data['Gender'].replace('FEMALE','Female')\n",
    "census_data['Gender'] = census_data['Gender'].replace('F','Female')\n",
    "census_data['Gender'] = census_data['Gender'].replace('Fe-male','Female')\n",
    "census_data['Gender'] = census_data['Gender'].replace('famale','Female')\n",
    "census_data['Gender'] = census_data['Gender'].replace('F.','Female')\n",
    "census_data['Gender'] = census_data['Gender'].replace(' ','Female')\n",
    "census_data['Gender'] = census_data['Gender'].replace('MALE','Male')\n",
    "census_data['Gender'] = census_data['Gender'].replace('M','Male')\n",
    "census_data['Gender'] = census_data['Gender'].replace('Ma-le','Male')\n",
    "census_data['Gender'] = census_data['Gender'].replace('male','Male')"
   ]
  },
  {
   "cell_type": "code",
   "execution_count": 50,
   "id": "7f06c36c",
   "metadata": {},
   "outputs": [
    {
     "data": {
      "text/plain": [
       "array(['Female', 'Male'], dtype=object)"
      ]
     },
     "execution_count": 50,
     "metadata": {},
     "output_type": "execute_result"
    }
   ],
   "source": [
    "#Check cleaned data\n",
    "census_data['Gender'].unique()"
   ]
  },
  {
   "cell_type": "markdown",
   "id": "37b15e64",
   "metadata": {},
   "source": [
    "- Cleaned gender variable has been achieved as shown above."
   ]
  },
  {
   "cell_type": "markdown",
   "id": "b129db2e",
   "metadata": {},
   "source": [
    "# Data Cleaning - Religion"
   ]
  },
  {
   "cell_type": "code",
   "execution_count": 51,
   "id": "a341b08d",
   "metadata": {
    "scrolled": true
   },
   "outputs": [
    {
     "data": {
      "text/plain": [
       "array(['Methodist', nan, 'Christian', 'Catholic', 'None', 'Muslim',\n",
       "       'Sikh', 'Jewish', 'Orthodoxy', ' ', 'Baptist', 'METHO-DIST',\n",
       "       'Housekeeper', 'Hindu', 'Private', 'Agnostic', 'CATHOLIC', 'na'],\n",
       "      dtype=object)"
      ]
     },
     "execution_count": 51,
     "metadata": {},
     "output_type": "execute_result"
    }
   ],
   "source": [
    "#Explore data to ascertain only correct and real religions or 'None'\n",
    "census_data['Religion'].unique()"
   ]
  },
  {
   "cell_type": "code",
   "execution_count": 52,
   "id": "ceeb4344",
   "metadata": {},
   "outputs": [],
   "source": [
    "''' Non religions (Housekeeper, private),nan,na and blank value found in Religion. Mehodist, Catholic,\n",
    "Orthodoxy,Baptist,METHO-DIST (incorrectly spelt for Methodist), and CATHOLIC are all Christian denominations.\n",
    "we shall assume the rest of them to have no religion, hence change to None'''\n",
    "\n",
    "census_data['Religion'] = census_data['Religion'].replace('Private','None')\n",
    "census_data['Religion'] = census_data['Religion'].replace(' ','None')\n",
    "census_data['Religion'] = census_data['Religion'].replace('na','None')\n",
    "census_data['Religion'] = census_data['Religion'].replace('Housekeeper','None')\n",
    "census_data['Religion'] = census_data['Religion'].replace('METHO-DIST','Christian')\n",
    "census_data['Religion'] = census_data['Religion'].replace('Methodist','Christian')\n",
    "census_data['Religion'] = census_data['Religion'].replace('Catholic','Christian')\n",
    "census_data['Religion'] = census_data['Religion'].replace('Orthodoxy','Christian')\n",
    "census_data['Religion'] = census_data['Religion'].replace('Baptist','Christian')\n",
    "census_data['Religion'] = census_data['Religion'].replace('CATHOLIC','Christian')\n",
    "census_data.replace(np.nan,'None', inplace=True)\n"
   ]
  },
  {
   "cell_type": "code",
   "execution_count": 53,
   "id": "faad9a5e",
   "metadata": {},
   "outputs": [
    {
     "data": {
      "text/plain": [
       "array(['Christian', 'None', 'Muslim', 'Sikh', 'Jewish', 'Hindu',\n",
       "       'Agnostic'], dtype=object)"
      ]
     },
     "execution_count": 53,
     "metadata": {},
     "output_type": "execute_result"
    }
   ],
   "source": [
    "#Check the cleaned data\n",
    "census_data['Religion'].unique()"
   ]
  },
  {
   "cell_type": "code",
   "execution_count": 54,
   "id": "746a30e1",
   "metadata": {
    "scrolled": true
   },
   "outputs": [
    {
     "name": "stdout",
     "output_type": "stream",
     "text": [
      "None         5889\n",
      "Christian    3880\n",
      "Muslim        106\n",
      "Sikh           62\n",
      "Jewish         37\n",
      "Hindu           1\n",
      "Agnostic        1\n",
      "Name: Religion, dtype: int64\n"
     ]
    }
   ],
   "source": [
    "print(census_data['Religion'].value_counts() )"
   ]
  },
  {
   "cell_type": "markdown",
   "id": "53b453c4",
   "metadata": {},
   "source": [
    "- Non religions (Housekeeper, private), nan, na and blank value found in Religion. Mehodist, Catholic,\n",
    "Orthodoxy, Baptist, METHO-DIST (incorrectly spelt for Methodist), and CATHOLIC are all Christian denominations.\n",
    "I assumed the rest of them to have no religion, hence changed to \"None\"."
   ]
  },
  {
   "cell_type": "markdown",
   "id": "19dd73ff",
   "metadata": {},
   "source": [
    "# Data Cleaning - Relationship to Head of House"
   ]
  },
  {
   "cell_type": "code",
   "execution_count": 55,
   "id": "2d6860fa",
   "metadata": {},
   "outputs": [
    {
     "data": {
      "text/plain": [
       "array(['Head', 'Husband', 'Son', 'Daughter', 'Granddaughter', 'None',\n",
       "       'Step-Daughter', 'Step-Son', 'Wife', 'Grandson', 'Partner',\n",
       "       'Lodger', 'Sibling', 'Adopted Daughter', 'Cousin', 'Neice',\n",
       "       'Nephew', 'Adopted Son', 'Visitor', 'Son-in-law',\n",
       "       'Adopted Grandson', 'Daughter-in-law'], dtype=object)"
      ]
     },
     "execution_count": 55,
     "metadata": {},
     "output_type": "execute_result"
    }
   ],
   "source": [
    "#Explore the data for inconsistencies\n",
    "census_data['Relationship to Head of House'].unique() "
   ]
  },
  {
   "cell_type": "markdown",
   "id": "6a985bea",
   "metadata": {},
   "source": [
    "- Data looks good, requires no action."
   ]
  },
  {
   "cell_type": "markdown",
   "id": "76e5ebe2",
   "metadata": {},
   "source": [
    "# Data Cleaning - Infirmity"
   ]
  },
  {
   "cell_type": "code",
   "execution_count": 56,
   "id": "65413e03",
   "metadata": {},
   "outputs": [
    {
     "data": {
      "text/plain": [
       "array(['None', 'Physical Disability', 'Blind', ' ', 'Disabled',\n",
       "       'Mental Disability', 'Deaf', 'Unknown Infection'], dtype=object)"
      ]
     },
     "execution_count": 56,
     "metadata": {},
     "output_type": "execute_result"
    }
   ],
   "source": [
    "#Explore data for inconsistencies\n",
    "census_data['Infirmity'].unique()"
   ]
  },
  {
   "cell_type": "markdown",
   "id": "b52b61f7",
   "metadata": {},
   "source": [
    "- Missing values found in infirmity, this will be assumed as \"None\"."
   ]
  },
  {
   "cell_type": "code",
   "execution_count": 57,
   "id": "fdeea53b",
   "metadata": {},
   "outputs": [],
   "source": [
    "# Missing values found in infirmity, this will be assumed as None\n",
    "\n",
    "census_data['Infirmity'] = census_data['Infirmity'].replace(' ','None')\n"
   ]
  },
  {
   "cell_type": "code",
   "execution_count": 58,
   "id": "a5b0a69b",
   "metadata": {},
   "outputs": [
    {
     "data": {
      "text/plain": [
       "array(['None', 'Physical Disability', 'Blind', 'Disabled',\n",
       "       'Mental Disability', 'Deaf', 'Unknown Infection'], dtype=object)"
      ]
     },
     "execution_count": 58,
     "metadata": {},
     "output_type": "execute_result"
    }
   ],
   "source": [
    "#Check cleaned data\n",
    "census_data['Infirmity'].unique()"
   ]
  },
  {
   "cell_type": "code",
   "execution_count": 59,
   "id": "7fa6612e",
   "metadata": {},
   "outputs": [
    {
     "name": "stdout",
     "output_type": "stream",
     "text": [
      "None                   9910\n",
      "Disabled                 15\n",
      "Physical Disability      14\n",
      "Blind                    12\n",
      "Mental Disability         9\n",
      "Unknown Infection         8\n",
      "Deaf                      8\n",
      "Name: Infirmity, dtype: int64\n"
     ]
    }
   ],
   "source": [
    "print(census_data['Infirmity'].value_counts() )"
   ]
  },
  {
   "cell_type": "markdown",
   "id": "7fdc6188",
   "metadata": {},
   "source": [
    "# Data Cleaning - Occupation"
   ]
  },
  {
   "cell_type": "code",
   "execution_count": 60,
   "id": "433cc9a3",
   "metadata": {},
   "outputs": [
    {
     "data": {
      "text/plain": [
       "array(['Further education lecturer', 'Physiotherapist', 'Student', ...,\n",
       "       'Retired Tree surgeon', 'Retired Tax inspector',\n",
       "       'Retired Community arts worker'], dtype=object)"
      ]
     },
     "execution_count": 60,
     "metadata": {},
     "output_type": "execute_result"
    }
   ],
   "source": [
    "#Explore the data for inconsistencies\n",
    "census_data['Occupation'].unique()"
   ]
  },
  {
   "cell_type": "markdown",
   "id": "d9a5c15b",
   "metadata": {},
   "source": [
    "- Here, there are over 1000 different occupations. To aid our analysis, I plan to narrow down the number \n",
    "of occupations to as few as 5."
   ]
  },
  {
   "cell_type": "code",
   "execution_count": 61,
   "id": "bd467f0a",
   "metadata": {
    "scrolled": true
   },
   "outputs": [
    {
     "data": {
      "text/html": [
       "<div>\n",
       "<style scoped>\n",
       "    .dataframe tbody tr th:only-of-type {\n",
       "        vertical-align: middle;\n",
       "    }\n",
       "\n",
       "    .dataframe tbody tr th {\n",
       "        vertical-align: top;\n",
       "    }\n",
       "\n",
       "    .dataframe thead th {\n",
       "        text-align: right;\n",
       "    }\n",
       "</style>\n",
       "<table border=\"1\" class=\"dataframe\">\n",
       "  <thead>\n",
       "    <tr style=\"text-align: right;\">\n",
       "      <th></th>\n",
       "      <th>House Number</th>\n",
       "      <th>Street</th>\n",
       "      <th>First Name</th>\n",
       "      <th>Surname</th>\n",
       "      <th>Age</th>\n",
       "      <th>Relationship to Head of House</th>\n",
       "      <th>Marital Status</th>\n",
       "      <th>Gender</th>\n",
       "      <th>Occupation</th>\n",
       "      <th>Infirmity</th>\n",
       "      <th>Religion</th>\n",
       "    </tr>\n",
       "  </thead>\n",
       "  <tbody>\n",
       "  </tbody>\n",
       "</table>\n",
       "</div>"
      ],
      "text/plain": [
       "Empty DataFrame\n",
       "Columns: [House Number, Street, First Name, Surname, Age, Relationship to Head of House, Marital Status, Gender, Occupation, Infirmity, Religion]\n",
       "Index: []"
      ]
     },
     "execution_count": 61,
     "metadata": {},
     "output_type": "execute_result"
    }
   ],
   "source": [
    "#check for nan values\n",
    "census_data[census_data['Occupation'].isna()]"
   ]
  },
  {
   "cell_type": "code",
   "execution_count": 62,
   "id": "81a75e09",
   "metadata": {},
   "outputs": [
    {
     "data": {
      "text/html": [
       "<div>\n",
       "<style scoped>\n",
       "    .dataframe tbody tr th:only-of-type {\n",
       "        vertical-align: middle;\n",
       "    }\n",
       "\n",
       "    .dataframe tbody tr th {\n",
       "        vertical-align: top;\n",
       "    }\n",
       "\n",
       "    .dataframe thead th {\n",
       "        text-align: right;\n",
       "    }\n",
       "</style>\n",
       "<table border=\"1\" class=\"dataframe\">\n",
       "  <thead>\n",
       "    <tr style=\"text-align: right;\">\n",
       "      <th></th>\n",
       "      <th>House Number</th>\n",
       "      <th>Street</th>\n",
       "      <th>First Name</th>\n",
       "      <th>Surname</th>\n",
       "      <th>Age</th>\n",
       "      <th>Relationship to Head of House</th>\n",
       "      <th>Marital Status</th>\n",
       "      <th>Gender</th>\n",
       "      <th>Occupation</th>\n",
       "      <th>Infirmity</th>\n",
       "      <th>Religion</th>\n",
       "    </tr>\n",
       "  </thead>\n",
       "  <tbody>\n",
       "    <tr>\n",
       "      <th>918</th>\n",
       "      <td>11</td>\n",
       "      <td>Paladin Street</td>\n",
       "      <td>Natalie</td>\n",
       "      <td>Rowe</td>\n",
       "      <td>64</td>\n",
       "      <td>Wife</td>\n",
       "      <td>Married</td>\n",
       "      <td>Female</td>\n",
       "      <td></td>\n",
       "      <td>None</td>\n",
       "      <td>None</td>\n",
       "    </tr>\n",
       "    <tr>\n",
       "      <th>1157</th>\n",
       "      <td>87</td>\n",
       "      <td>Paladin Street</td>\n",
       "      <td>Joanne</td>\n",
       "      <td>Williamson-Harding</td>\n",
       "      <td>25</td>\n",
       "      <td>Partner</td>\n",
       "      <td>Single</td>\n",
       "      <td>Female</td>\n",
       "      <td></td>\n",
       "      <td>None</td>\n",
       "      <td>None</td>\n",
       "    </tr>\n",
       "    <tr>\n",
       "      <th>5644</th>\n",
       "      <td>106</td>\n",
       "      <td>Reindeer Road</td>\n",
       "      <td>Bernard</td>\n",
       "      <td>Johnson</td>\n",
       "      <td>33</td>\n",
       "      <td>Son</td>\n",
       "      <td>Single</td>\n",
       "      <td>Male</td>\n",
       "      <td></td>\n",
       "      <td>None</td>\n",
       "      <td>Christian</td>\n",
       "    </tr>\n",
       "    <tr>\n",
       "      <th>5827</th>\n",
       "      <td>156</td>\n",
       "      <td>Reindeer Road</td>\n",
       "      <td>Rachael</td>\n",
       "      <td>Wallace</td>\n",
       "      <td>38</td>\n",
       "      <td>Head</td>\n",
       "      <td>Married</td>\n",
       "      <td>Female</td>\n",
       "      <td></td>\n",
       "      <td>None</td>\n",
       "      <td>Christian</td>\n",
       "    </tr>\n",
       "    <tr>\n",
       "      <th>9642</th>\n",
       "      <td>34</td>\n",
       "      <td>Brown Manors</td>\n",
       "      <td>Sandra</td>\n",
       "      <td>Edwards</td>\n",
       "      <td>7</td>\n",
       "      <td>Daughter</td>\n",
       "      <td>Single</td>\n",
       "      <td>Female</td>\n",
       "      <td></td>\n",
       "      <td>None</td>\n",
       "      <td>None</td>\n",
       "    </tr>\n",
       "  </tbody>\n",
       "</table>\n",
       "</div>"
      ],
      "text/plain": [
       "     House Number          Street First Name             Surname  Age  \\\n",
       "918            11  Paladin Street    Natalie                Rowe   64   \n",
       "1157           87  Paladin Street     Joanne  Williamson-Harding   25   \n",
       "5644          106   Reindeer Road    Bernard             Johnson   33   \n",
       "5827          156   Reindeer Road    Rachael             Wallace   38   \n",
       "9642           34    Brown Manors     Sandra             Edwards    7   \n",
       "\n",
       "     Relationship to Head of House Marital Status  Gender Occupation  \\\n",
       "918                           Wife        Married  Female              \n",
       "1157                       Partner         Single  Female              \n",
       "5644                           Son         Single    Male              \n",
       "5827                          Head        Married  Female              \n",
       "9642                      Daughter         Single  Female              \n",
       "\n",
       "     Infirmity   Religion  \n",
       "918       None       None  \n",
       "1157      None       None  \n",
       "5644      None  Christian  \n",
       "5827      None  Christian  \n",
       "9642      None       None  "
      ]
     },
     "execution_count": 62,
     "metadata": {},
     "output_type": "execute_result"
    }
   ],
   "source": [
    "#check for blank values\n",
    "census_data.loc[census_data['Occupation'] == ' ']"
   ]
  },
  {
   "cell_type": "code",
   "execution_count": 63,
   "id": "2698bc59",
   "metadata": {},
   "outputs": [
    {
     "name": "stdout",
     "output_type": "stream",
     "text": [
      "    House Number          Street First Name Surname  Age  \\\n",
      "918           11  Paladin Street    Natalie    Rowe   64   \n",
      "\n",
      "    Relationship to Head of House Marital Status  Gender Occupation Infirmity  \\\n",
      "918                          Wife        Married  Female                 None   \n",
      "\n",
      "    Religion  \n",
      "918     None  \n",
      "     House Number          Street First Name             Surname  Age  \\\n",
      "1157           87  Paladin Street     Joanne  Williamson-Harding   25   \n",
      "\n",
      "     Relationship to Head of House Marital Status  Gender Occupation  \\\n",
      "1157                       Partner         Single  Female              \n",
      "\n",
      "     Infirmity Religion  \n",
      "1157      None     None  \n",
      "     House Number         Street First Name  Surname  Age  \\\n",
      "5644          106  Reindeer Road    Bernard  Johnson   33   \n",
      "\n",
      "     Relationship to Head of House Marital Status Gender Occupation Infirmity  \\\n",
      "5644                           Son         Single   Male                 None   \n",
      "\n",
      "       Religion  \n",
      "5644  Christian  \n",
      "     House Number         Street First Name  Surname  Age  \\\n",
      "5827          156  Reindeer Road    Rachael  Wallace   38   \n",
      "\n",
      "     Relationship to Head of House Marital Status  Gender Occupation  \\\n",
      "5827                          Head        Married  Female              \n",
      "\n",
      "     Infirmity   Religion  \n",
      "5827      None  Christian  \n",
      "     House Number        Street First Name  Surname  Age  \\\n",
      "9642           34  Brown Manors     Sandra  Edwards    7   \n",
      "\n",
      "     Relationship to Head of House Marital Status  Gender Occupation  \\\n",
      "9642                      Daughter         Single  Female              \n",
      "\n",
      "     Infirmity Religion  \n",
      "9642      None     None  \n"
     ]
    }
   ],
   "source": [
    "print(census_data.iloc[[918]])\n",
    "print(census_data.iloc[[1157]])\n",
    "print(census_data.iloc[[5641]])\n",
    "print(census_data.iloc[[5824]])\n",
    "print(census_data.iloc[[9639]])\n"
   ]
  },
  {
   "cell_type": "code",
   "execution_count": 64,
   "id": "7526b81f",
   "metadata": {},
   "outputs": [],
   "source": [
    "#Individuals with blank occupations will be corrected based on the commonest occupation of their age group\n",
    "census_data.loc[918, 'Occupation'] = 'Unemployed'\n",
    "census_data.loc[1157, 'Occupation'] = 'University Student'\n",
    "census_data.loc[5644, 'Occupation'] = 'Unemployed'\n",
    "census_data.loc[5827, 'Occupation'] = 'Unemployed'\n",
    "census_data.loc[9642, 'Occupation'] = 'Child'\n"
   ]
  },
  {
   "cell_type": "code",
   "execution_count": 65,
   "id": "30934a40",
   "metadata": {},
   "outputs": [
    {
     "data": {
      "text/html": [
       "<div>\n",
       "<style scoped>\n",
       "    .dataframe tbody tr th:only-of-type {\n",
       "        vertical-align: middle;\n",
       "    }\n",
       "\n",
       "    .dataframe tbody tr th {\n",
       "        vertical-align: top;\n",
       "    }\n",
       "\n",
       "    .dataframe thead th {\n",
       "        text-align: right;\n",
       "    }\n",
       "</style>\n",
       "<table border=\"1\" class=\"dataframe\">\n",
       "  <thead>\n",
       "    <tr style=\"text-align: right;\">\n",
       "      <th></th>\n",
       "      <th>House Number</th>\n",
       "      <th>Street</th>\n",
       "      <th>First Name</th>\n",
       "      <th>Surname</th>\n",
       "      <th>Age</th>\n",
       "      <th>Relationship to Head of House</th>\n",
       "      <th>Marital Status</th>\n",
       "      <th>Gender</th>\n",
       "      <th>Occupation</th>\n",
       "      <th>Infirmity</th>\n",
       "      <th>Religion</th>\n",
       "    </tr>\n",
       "  </thead>\n",
       "  <tbody>\n",
       "  </tbody>\n",
       "</table>\n",
       "</div>"
      ],
      "text/plain": [
       "Empty DataFrame\n",
       "Columns: [House Number, Street, First Name, Surname, Age, Relationship to Head of House, Marital Status, Gender, Occupation, Infirmity, Religion]\n",
       "Index: []"
      ]
     },
     "execution_count": 65,
     "metadata": {},
     "output_type": "execute_result"
    }
   ],
   "source": [
    "#check after correction\n",
    "census_data.loc[census_data['Occupation'] == ' ']"
   ]
  },
  {
   "cell_type": "code",
   "execution_count": 66,
   "id": "3c4401be",
   "metadata": {},
   "outputs": [],
   "source": [
    "# Change occupation listed as 'stu-dent' to student\n",
    "census_data['Occupation'] = census_data['Occupation'].replace('Stu-dent', 'Student')\n"
   ]
  },
  {
   "cell_type": "code",
   "execution_count": 67,
   "id": "3d28cb07",
   "metadata": {},
   "outputs": [
    {
     "data": {
      "text/html": [
       "<div>\n",
       "<style scoped>\n",
       "    .dataframe tbody tr th:only-of-type {\n",
       "        vertical-align: middle;\n",
       "    }\n",
       "\n",
       "    .dataframe tbody tr th {\n",
       "        vertical-align: top;\n",
       "    }\n",
       "\n",
       "    .dataframe thead th {\n",
       "        text-align: right;\n",
       "    }\n",
       "</style>\n",
       "<table border=\"1\" class=\"dataframe\">\n",
       "  <thead>\n",
       "    <tr style=\"text-align: right;\">\n",
       "      <th></th>\n",
       "      <th>House Number</th>\n",
       "      <th>Street</th>\n",
       "      <th>First Name</th>\n",
       "      <th>Surname</th>\n",
       "      <th>Age</th>\n",
       "      <th>Relationship to Head of House</th>\n",
       "      <th>Marital Status</th>\n",
       "      <th>Gender</th>\n",
       "      <th>Occupation</th>\n",
       "      <th>Infirmity</th>\n",
       "      <th>Religion</th>\n",
       "    </tr>\n",
       "  </thead>\n",
       "  <tbody>\n",
       "    <tr>\n",
       "      <th>113</th>\n",
       "      <td>30</td>\n",
       "      <td>Carr Parkways</td>\n",
       "      <td>Jade</td>\n",
       "      <td>Jones</td>\n",
       "      <td>67</td>\n",
       "      <td>Head</td>\n",
       "      <td>Married</td>\n",
       "      <td>Female</td>\n",
       "      <td>Unemployed</td>\n",
       "      <td>None</td>\n",
       "      <td>Christian</td>\n",
       "    </tr>\n",
       "    <tr>\n",
       "      <th>162</th>\n",
       "      <td>49</td>\n",
       "      <td>Carr Parkways</td>\n",
       "      <td>Chloe</td>\n",
       "      <td>Lowe</td>\n",
       "      <td>69</td>\n",
       "      <td>Head</td>\n",
       "      <td>Divorced</td>\n",
       "      <td>Female</td>\n",
       "      <td>Unemployed</td>\n",
       "      <td>None</td>\n",
       "      <td>None</td>\n",
       "    </tr>\n",
       "    <tr>\n",
       "      <th>342</th>\n",
       "      <td>114</td>\n",
       "      <td>Carr Parkways</td>\n",
       "      <td>Yvonne</td>\n",
       "      <td>Richards</td>\n",
       "      <td>79</td>\n",
       "      <td>Head</td>\n",
       "      <td>Widowed</td>\n",
       "      <td>Female</td>\n",
       "      <td>Unemployed</td>\n",
       "      <td>None</td>\n",
       "      <td>None</td>\n",
       "    </tr>\n",
       "    <tr>\n",
       "      <th>348</th>\n",
       "      <td>115</td>\n",
       "      <td>Carr Parkways</td>\n",
       "      <td>Julie</td>\n",
       "      <td>Chapman</td>\n",
       "      <td>70</td>\n",
       "      <td>Head</td>\n",
       "      <td>Widowed</td>\n",
       "      <td>Female</td>\n",
       "      <td>Unemployed</td>\n",
       "      <td>None</td>\n",
       "      <td>Christian</td>\n",
       "    </tr>\n",
       "    <tr>\n",
       "      <th>470</th>\n",
       "      <td>163</td>\n",
       "      <td>Carr Parkways</td>\n",
       "      <td>Emily</td>\n",
       "      <td>Donnelly</td>\n",
       "      <td>68</td>\n",
       "      <td>Head</td>\n",
       "      <td>Widowed</td>\n",
       "      <td>Female</td>\n",
       "      <td>Unemployed</td>\n",
       "      <td>None</td>\n",
       "      <td>None</td>\n",
       "    </tr>\n",
       "    <tr>\n",
       "      <th>745</th>\n",
       "      <td>49</td>\n",
       "      <td>Mermaid Plains</td>\n",
       "      <td>Sophie</td>\n",
       "      <td>Lee</td>\n",
       "      <td>68</td>\n",
       "      <td>Head</td>\n",
       "      <td>Married</td>\n",
       "      <td>Female</td>\n",
       "      <td>Unemployed</td>\n",
       "      <td>None</td>\n",
       "      <td>None</td>\n",
       "    </tr>\n",
       "    <tr>\n",
       "      <th>800</th>\n",
       "      <td>7</td>\n",
       "      <td>Shaw Green</td>\n",
       "      <td>Carolyn</td>\n",
       "      <td>Carroll</td>\n",
       "      <td>74</td>\n",
       "      <td>Head</td>\n",
       "      <td>Divorced</td>\n",
       "      <td>Female</td>\n",
       "      <td>Unemployed</td>\n",
       "      <td>None</td>\n",
       "      <td>None</td>\n",
       "    </tr>\n",
       "    <tr>\n",
       "      <th>994</th>\n",
       "      <td>37</td>\n",
       "      <td>Paladin Street</td>\n",
       "      <td>Rebecca</td>\n",
       "      <td>Stewart</td>\n",
       "      <td>76</td>\n",
       "      <td>Wife</td>\n",
       "      <td>Married</td>\n",
       "      <td>Female</td>\n",
       "      <td>Unemployed</td>\n",
       "      <td>None</td>\n",
       "      <td>None</td>\n",
       "    </tr>\n",
       "    <tr>\n",
       "      <th>1002</th>\n",
       "      <td>39</td>\n",
       "      <td>Paladin Street</td>\n",
       "      <td>Denise</td>\n",
       "      <td>Rees</td>\n",
       "      <td>87</td>\n",
       "      <td>Wife</td>\n",
       "      <td>Married</td>\n",
       "      <td>Female</td>\n",
       "      <td>Unemployed</td>\n",
       "      <td>None</td>\n",
       "      <td>Christian</td>\n",
       "    </tr>\n",
       "    <tr>\n",
       "      <th>1179</th>\n",
       "      <td>95</td>\n",
       "      <td>Paladin Street</td>\n",
       "      <td>Natalie</td>\n",
       "      <td>Phillips</td>\n",
       "      <td>81</td>\n",
       "      <td>Head</td>\n",
       "      <td>Single</td>\n",
       "      <td>Female</td>\n",
       "      <td>Unemployed</td>\n",
       "      <td>None</td>\n",
       "      <td>None</td>\n",
       "    </tr>\n",
       "    <tr>\n",
       "      <th>1515</th>\n",
       "      <td>27</td>\n",
       "      <td>Alba Avenue</td>\n",
       "      <td>Dawn</td>\n",
       "      <td>Turner</td>\n",
       "      <td>74</td>\n",
       "      <td>Head</td>\n",
       "      <td>Divorced</td>\n",
       "      <td>Female</td>\n",
       "      <td>Unemployed</td>\n",
       "      <td>None</td>\n",
       "      <td>Christian</td>\n",
       "    </tr>\n",
       "    <tr>\n",
       "      <th>1581</th>\n",
       "      <td>13</td>\n",
       "      <td>Trurobail Avenue</td>\n",
       "      <td>Angela</td>\n",
       "      <td>Willis</td>\n",
       "      <td>75</td>\n",
       "      <td>Head</td>\n",
       "      <td>Married</td>\n",
       "      <td>Female</td>\n",
       "      <td>Unemployed</td>\n",
       "      <td>None</td>\n",
       "      <td>Christian</td>\n",
       "    </tr>\n",
       "    <tr>\n",
       "      <th>1582</th>\n",
       "      <td>13</td>\n",
       "      <td>Trurobail Avenue</td>\n",
       "      <td>Jacob</td>\n",
       "      <td>Willis</td>\n",
       "      <td>77</td>\n",
       "      <td>Husband</td>\n",
       "      <td>Married</td>\n",
       "      <td>Male</td>\n",
       "      <td>Unemployed</td>\n",
       "      <td>None</td>\n",
       "      <td>None</td>\n",
       "    </tr>\n",
       "    <tr>\n",
       "      <th>1804</th>\n",
       "      <td>14</td>\n",
       "      <td>Mercybank Road</td>\n",
       "      <td>George</td>\n",
       "      <td>Stephens</td>\n",
       "      <td>88</td>\n",
       "      <td>Husband</td>\n",
       "      <td>Married</td>\n",
       "      <td>Male</td>\n",
       "      <td>Unemployed</td>\n",
       "      <td>None</td>\n",
       "      <td>None</td>\n",
       "    </tr>\n",
       "    <tr>\n",
       "      <th>2408</th>\n",
       "      <td>9</td>\n",
       "      <td>Jones Wells</td>\n",
       "      <td>Andrea</td>\n",
       "      <td>Stone</td>\n",
       "      <td>82</td>\n",
       "      <td>Head</td>\n",
       "      <td>Single</td>\n",
       "      <td>Female</td>\n",
       "      <td>Unemployed</td>\n",
       "      <td>None</td>\n",
       "      <td>Christian</td>\n",
       "    </tr>\n",
       "    <tr>\n",
       "      <th>2443</th>\n",
       "      <td>34</td>\n",
       "      <td>Jones Wells</td>\n",
       "      <td>Eric</td>\n",
       "      <td>Lawrence</td>\n",
       "      <td>86</td>\n",
       "      <td>Head</td>\n",
       "      <td>Married</td>\n",
       "      <td>Male</td>\n",
       "      <td>Unemployed</td>\n",
       "      <td>None</td>\n",
       "      <td>Christian</td>\n",
       "    </tr>\n",
       "    <tr>\n",
       "      <th>2448</th>\n",
       "      <td>37</td>\n",
       "      <td>Jones Wells</td>\n",
       "      <td>Leah</td>\n",
       "      <td>Franklin</td>\n",
       "      <td>75</td>\n",
       "      <td>Head</td>\n",
       "      <td>Widowed</td>\n",
       "      <td>Female</td>\n",
       "      <td>Unemployed</td>\n",
       "      <td>None</td>\n",
       "      <td>Christian</td>\n",
       "    </tr>\n",
       "    <tr>\n",
       "      <th>2459</th>\n",
       "      <td>1</td>\n",
       "      <td>Edinburgh Meadows</td>\n",
       "      <td>Sheila</td>\n",
       "      <td>Parker</td>\n",
       "      <td>70</td>\n",
       "      <td>Head</td>\n",
       "      <td>Married</td>\n",
       "      <td>Female</td>\n",
       "      <td>Unemployed</td>\n",
       "      <td>None</td>\n",
       "      <td>Christian</td>\n",
       "    </tr>\n",
       "    <tr>\n",
       "      <th>2998</th>\n",
       "      <td>166</td>\n",
       "      <td>Shilling Corner</td>\n",
       "      <td>Stephanie</td>\n",
       "      <td>Perry</td>\n",
       "      <td>77</td>\n",
       "      <td>Head</td>\n",
       "      <td>Single</td>\n",
       "      <td>Female</td>\n",
       "      <td>Unemployed</td>\n",
       "      <td>None</td>\n",
       "      <td>None</td>\n",
       "    </tr>\n",
       "    <tr>\n",
       "      <th>3324</th>\n",
       "      <td>18</td>\n",
       "      <td>Walsh Lane</td>\n",
       "      <td>Katie</td>\n",
       "      <td>Forster</td>\n",
       "      <td>70</td>\n",
       "      <td>Head</td>\n",
       "      <td>Single</td>\n",
       "      <td>Female</td>\n",
       "      <td>Unemployed</td>\n",
       "      <td>None</td>\n",
       "      <td>Christian</td>\n",
       "    </tr>\n",
       "    <tr>\n",
       "      <th>3463</th>\n",
       "      <td>53</td>\n",
       "      <td>Walsh Lane</td>\n",
       "      <td>Kyle</td>\n",
       "      <td>Powell</td>\n",
       "      <td>67</td>\n",
       "      <td>Head</td>\n",
       "      <td>Widowed</td>\n",
       "      <td>Male</td>\n",
       "      <td>Unemployed</td>\n",
       "      <td>None</td>\n",
       "      <td>Christian</td>\n",
       "    </tr>\n",
       "    <tr>\n",
       "      <th>4363</th>\n",
       "      <td>19</td>\n",
       "      <td>Sykes Street</td>\n",
       "      <td>Brandon</td>\n",
       "      <td>Pollard</td>\n",
       "      <td>69</td>\n",
       "      <td>Husband</td>\n",
       "      <td>Married</td>\n",
       "      <td>Male</td>\n",
       "      <td>Unemployed</td>\n",
       "      <td>None</td>\n",
       "      <td>None</td>\n",
       "    </tr>\n",
       "    <tr>\n",
       "      <th>4593</th>\n",
       "      <td>14</td>\n",
       "      <td>Shaw Lights</td>\n",
       "      <td>Cheryl</td>\n",
       "      <td>Stevenson</td>\n",
       "      <td>67</td>\n",
       "      <td>Head</td>\n",
       "      <td>Widowed</td>\n",
       "      <td>Female</td>\n",
       "      <td>Unemployed</td>\n",
       "      <td>None</td>\n",
       "      <td>Christian</td>\n",
       "    </tr>\n",
       "    <tr>\n",
       "      <th>4631</th>\n",
       "      <td>31</td>\n",
       "      <td>Shaw Lights</td>\n",
       "      <td>Deborah</td>\n",
       "      <td>Allen</td>\n",
       "      <td>68</td>\n",
       "      <td>Head</td>\n",
       "      <td>Widowed</td>\n",
       "      <td>Female</td>\n",
       "      <td>Unemployed</td>\n",
       "      <td>None</td>\n",
       "      <td>None</td>\n",
       "    </tr>\n",
       "    <tr>\n",
       "      <th>4658</th>\n",
       "      <td>10</td>\n",
       "      <td>Crown Street</td>\n",
       "      <td>Tracy</td>\n",
       "      <td>Payne</td>\n",
       "      <td>66</td>\n",
       "      <td>Head</td>\n",
       "      <td>Widowed</td>\n",
       "      <td>Female</td>\n",
       "      <td>Unemployed</td>\n",
       "      <td>None</td>\n",
       "      <td>None</td>\n",
       "    </tr>\n",
       "    <tr>\n",
       "      <th>4824</th>\n",
       "      <td>126</td>\n",
       "      <td>Crown Street</td>\n",
       "      <td>Jacqueline</td>\n",
       "      <td>Knowles</td>\n",
       "      <td>78</td>\n",
       "      <td>Head</td>\n",
       "      <td>Widowed</td>\n",
       "      <td>Female</td>\n",
       "      <td>Unemployed</td>\n",
       "      <td>None</td>\n",
       "      <td>Christian</td>\n",
       "    </tr>\n",
       "    <tr>\n",
       "      <th>4908</th>\n",
       "      <td>177</td>\n",
       "      <td>Crown Street</td>\n",
       "      <td>Alison</td>\n",
       "      <td>Taylor</td>\n",
       "      <td>70</td>\n",
       "      <td>Head</td>\n",
       "      <td>Single</td>\n",
       "      <td>Female</td>\n",
       "      <td>Unemployed</td>\n",
       "      <td>None</td>\n",
       "      <td>Christian</td>\n",
       "    </tr>\n",
       "    <tr>\n",
       "      <th>4959</th>\n",
       "      <td>208</td>\n",
       "      <td>Crown Street</td>\n",
       "      <td>Charlotte</td>\n",
       "      <td>Carter</td>\n",
       "      <td>86</td>\n",
       "      <td>Head</td>\n",
       "      <td>Widowed</td>\n",
       "      <td>Female</td>\n",
       "      <td>Unemployed</td>\n",
       "      <td>None</td>\n",
       "      <td>Christian</td>\n",
       "    </tr>\n",
       "    <tr>\n",
       "      <th>5326</th>\n",
       "      <td>19</td>\n",
       "      <td>Reindeer Road</td>\n",
       "      <td>Danielle</td>\n",
       "      <td>Green</td>\n",
       "      <td>71</td>\n",
       "      <td>Cousin</td>\n",
       "      <td>Divorced</td>\n",
       "      <td>Female</td>\n",
       "      <td>Unemployed</td>\n",
       "      <td>None</td>\n",
       "      <td>None</td>\n",
       "    </tr>\n",
       "    <tr>\n",
       "      <th>5655</th>\n",
       "      <td>110</td>\n",
       "      <td>Reindeer Road</td>\n",
       "      <td>Paige</td>\n",
       "      <td>Duffy</td>\n",
       "      <td>77</td>\n",
       "      <td>Head</td>\n",
       "      <td>Widowed</td>\n",
       "      <td>Female</td>\n",
       "      <td>Unemployed</td>\n",
       "      <td>None</td>\n",
       "      <td>Christian</td>\n",
       "    </tr>\n",
       "    <tr>\n",
       "      <th>5920</th>\n",
       "      <td>179</td>\n",
       "      <td>Reindeer Road</td>\n",
       "      <td>Brenda</td>\n",
       "      <td>Cook</td>\n",
       "      <td>67</td>\n",
       "      <td>Head</td>\n",
       "      <td>Divorced</td>\n",
       "      <td>Female</td>\n",
       "      <td>Unemployed</td>\n",
       "      <td>None</td>\n",
       "      <td>None</td>\n",
       "    </tr>\n",
       "    <tr>\n",
       "      <th>6755</th>\n",
       "      <td>8</td>\n",
       "      <td>Matthews Island</td>\n",
       "      <td>Melissa</td>\n",
       "      <td>Fitzgerald</td>\n",
       "      <td>66</td>\n",
       "      <td>Head</td>\n",
       "      <td>Married</td>\n",
       "      <td>Female</td>\n",
       "      <td>Unemployed</td>\n",
       "      <td>None</td>\n",
       "      <td>Christian</td>\n",
       "    </tr>\n",
       "    <tr>\n",
       "      <th>7191</th>\n",
       "      <td>12</td>\n",
       "      <td>Rhodes Freeway</td>\n",
       "      <td>Michelle</td>\n",
       "      <td>O'Donnell</td>\n",
       "      <td>84</td>\n",
       "      <td>Head</td>\n",
       "      <td>Divorced</td>\n",
       "      <td>Female</td>\n",
       "      <td>Unemployed</td>\n",
       "      <td>None</td>\n",
       "      <td>Christian</td>\n",
       "    </tr>\n",
       "    <tr>\n",
       "      <th>7420</th>\n",
       "      <td>23</td>\n",
       "      <td>White Dale</td>\n",
       "      <td>Rebecca</td>\n",
       "      <td>Andrews</td>\n",
       "      <td>69</td>\n",
       "      <td>Head</td>\n",
       "      <td>Divorced</td>\n",
       "      <td>Female</td>\n",
       "      <td>Unemployed</td>\n",
       "      <td>None</td>\n",
       "      <td>None</td>\n",
       "    </tr>\n",
       "    <tr>\n",
       "      <th>7465</th>\n",
       "      <td>5</td>\n",
       "      <td>White Turnpike</td>\n",
       "      <td>Ryan</td>\n",
       "      <td>Kelly</td>\n",
       "      <td>67</td>\n",
       "      <td>Husband</td>\n",
       "      <td>Married</td>\n",
       "      <td>Male</td>\n",
       "      <td>Unemployed</td>\n",
       "      <td>None</td>\n",
       "      <td>Christian</td>\n",
       "    </tr>\n",
       "    <tr>\n",
       "      <th>7586</th>\n",
       "      <td>23</td>\n",
       "      <td>White Turnpike</td>\n",
       "      <td>Bradley</td>\n",
       "      <td>Davies</td>\n",
       "      <td>101</td>\n",
       "      <td>Husband</td>\n",
       "      <td>Married</td>\n",
       "      <td>Male</td>\n",
       "      <td>Unemployed</td>\n",
       "      <td>None</td>\n",
       "      <td>Christian</td>\n",
       "    </tr>\n",
       "    <tr>\n",
       "      <th>7882</th>\n",
       "      <td>7</td>\n",
       "      <td>Mitchell Heights</td>\n",
       "      <td>Joan</td>\n",
       "      <td>Walsh</td>\n",
       "      <td>71</td>\n",
       "      <td>Head</td>\n",
       "      <td>Single</td>\n",
       "      <td>Female</td>\n",
       "      <td>Unemployed</td>\n",
       "      <td>None</td>\n",
       "      <td>Christian</td>\n",
       "    </tr>\n",
       "    <tr>\n",
       "      <th>8073</th>\n",
       "      <td>42</td>\n",
       "      <td>Fornax Neck</td>\n",
       "      <td>Charlie</td>\n",
       "      <td>White</td>\n",
       "      <td>66</td>\n",
       "      <td>Head</td>\n",
       "      <td>Widowed</td>\n",
       "      <td>Male</td>\n",
       "      <td>Unemployed</td>\n",
       "      <td>None</td>\n",
       "      <td>None</td>\n",
       "    </tr>\n",
       "    <tr>\n",
       "      <th>8265</th>\n",
       "      <td>6</td>\n",
       "      <td>Fox Hills</td>\n",
       "      <td>Liam</td>\n",
       "      <td>Marshall</td>\n",
       "      <td>73</td>\n",
       "      <td>Head</td>\n",
       "      <td>Married</td>\n",
       "      <td>Male</td>\n",
       "      <td>Unemployed</td>\n",
       "      <td>None</td>\n",
       "      <td>Christian</td>\n",
       "    </tr>\n",
       "    <tr>\n",
       "      <th>8346</th>\n",
       "      <td>13</td>\n",
       "      <td>Zigzagpart Lane</td>\n",
       "      <td>Lauren</td>\n",
       "      <td>Newton</td>\n",
       "      <td>66</td>\n",
       "      <td>Head</td>\n",
       "      <td>Divorced</td>\n",
       "      <td>Female</td>\n",
       "      <td>Unemployed</td>\n",
       "      <td>None</td>\n",
       "      <td>Christian</td>\n",
       "    </tr>\n",
       "    <tr>\n",
       "      <th>8390</th>\n",
       "      <td>28</td>\n",
       "      <td>Zigzagpart Lane</td>\n",
       "      <td>Joanne</td>\n",
       "      <td>Green</td>\n",
       "      <td>70</td>\n",
       "      <td>Head</td>\n",
       "      <td>Widowed</td>\n",
       "      <td>Female</td>\n",
       "      <td>Unemployed</td>\n",
       "      <td>None</td>\n",
       "      <td>Christian</td>\n",
       "    </tr>\n",
       "    <tr>\n",
       "      <th>8644</th>\n",
       "      <td>15</td>\n",
       "      <td>Davis Parkway</td>\n",
       "      <td>Jeremy</td>\n",
       "      <td>Allen</td>\n",
       "      <td>68</td>\n",
       "      <td>Head</td>\n",
       "      <td>Widowed</td>\n",
       "      <td>Male</td>\n",
       "      <td>Unemployed</td>\n",
       "      <td>None</td>\n",
       "      <td>Jewish</td>\n",
       "    </tr>\n",
       "    <tr>\n",
       "      <th>9013</th>\n",
       "      <td>7</td>\n",
       "      <td>Sheppard Road</td>\n",
       "      <td>Katy</td>\n",
       "      <td>Robinson</td>\n",
       "      <td>68</td>\n",
       "      <td>Wife</td>\n",
       "      <td>Married</td>\n",
       "      <td>Female</td>\n",
       "      <td>Unemployed</td>\n",
       "      <td>None</td>\n",
       "      <td>Christian</td>\n",
       "    </tr>\n",
       "    <tr>\n",
       "      <th>9303</th>\n",
       "      <td>21</td>\n",
       "      <td>February Expressway</td>\n",
       "      <td>Oliver</td>\n",
       "      <td>Chandler</td>\n",
       "      <td>76</td>\n",
       "      <td>Head</td>\n",
       "      <td>Widowed</td>\n",
       "      <td>Male</td>\n",
       "      <td>Unemployed</td>\n",
       "      <td>None</td>\n",
       "      <td>Christian</td>\n",
       "    </tr>\n",
       "    <tr>\n",
       "      <th>9493</th>\n",
       "      <td>42</td>\n",
       "      <td>Lunar Avenue</td>\n",
       "      <td>Robin</td>\n",
       "      <td>Carr</td>\n",
       "      <td>93</td>\n",
       "      <td>Head</td>\n",
       "      <td>Married</td>\n",
       "      <td>Male</td>\n",
       "      <td>Unemployed</td>\n",
       "      <td>None</td>\n",
       "      <td>Christian</td>\n",
       "    </tr>\n",
       "    <tr>\n",
       "      <th>9626</th>\n",
       "      <td>29</td>\n",
       "      <td>Brown Manors</td>\n",
       "      <td>Laura</td>\n",
       "      <td>Owens</td>\n",
       "      <td>66</td>\n",
       "      <td>Head</td>\n",
       "      <td>Divorced</td>\n",
       "      <td>Female</td>\n",
       "      <td>Unemployed</td>\n",
       "      <td>None</td>\n",
       "      <td>Christian</td>\n",
       "    </tr>\n",
       "  </tbody>\n",
       "</table>\n",
       "</div>"
      ],
      "text/plain": [
       "     House Number               Street  First Name     Surname  Age  \\\n",
       "113            30        Carr Parkways        Jade       Jones   67   \n",
       "162            49        Carr Parkways       Chloe        Lowe   69   \n",
       "342           114        Carr Parkways      Yvonne    Richards   79   \n",
       "348           115        Carr Parkways       Julie     Chapman   70   \n",
       "470           163        Carr Parkways       Emily    Donnelly   68   \n",
       "745            49       Mermaid Plains      Sophie         Lee   68   \n",
       "800             7           Shaw Green     Carolyn     Carroll   74   \n",
       "994            37       Paladin Street     Rebecca     Stewart   76   \n",
       "1002           39       Paladin Street      Denise        Rees   87   \n",
       "1179           95       Paladin Street     Natalie    Phillips   81   \n",
       "1515           27          Alba Avenue        Dawn      Turner   74   \n",
       "1581           13     Trurobail Avenue      Angela      Willis   75   \n",
       "1582           13     Trurobail Avenue       Jacob      Willis   77   \n",
       "1804           14       Mercybank Road      George    Stephens   88   \n",
       "2408            9          Jones Wells      Andrea       Stone   82   \n",
       "2443           34          Jones Wells        Eric    Lawrence   86   \n",
       "2448           37          Jones Wells        Leah    Franklin   75   \n",
       "2459            1    Edinburgh Meadows      Sheila      Parker   70   \n",
       "2998          166      Shilling Corner   Stephanie       Perry   77   \n",
       "3324           18           Walsh Lane       Katie     Forster   70   \n",
       "3463           53           Walsh Lane        Kyle      Powell   67   \n",
       "4363           19         Sykes Street     Brandon     Pollard   69   \n",
       "4593           14          Shaw Lights      Cheryl   Stevenson   67   \n",
       "4631           31          Shaw Lights     Deborah       Allen   68   \n",
       "4658           10         Crown Street       Tracy       Payne   66   \n",
       "4824          126         Crown Street  Jacqueline     Knowles   78   \n",
       "4908          177         Crown Street      Alison      Taylor   70   \n",
       "4959          208         Crown Street   Charlotte      Carter   86   \n",
       "5326           19        Reindeer Road    Danielle       Green   71   \n",
       "5655          110        Reindeer Road       Paige       Duffy   77   \n",
       "5920          179        Reindeer Road      Brenda        Cook   67   \n",
       "6755            8      Matthews Island     Melissa  Fitzgerald   66   \n",
       "7191           12       Rhodes Freeway    Michelle   O'Donnell   84   \n",
       "7420           23           White Dale     Rebecca     Andrews   69   \n",
       "7465            5       White Turnpike        Ryan       Kelly   67   \n",
       "7586           23       White Turnpike     Bradley      Davies  101   \n",
       "7882            7     Mitchell Heights        Joan       Walsh   71   \n",
       "8073           42          Fornax Neck     Charlie       White   66   \n",
       "8265            6            Fox Hills        Liam    Marshall   73   \n",
       "8346           13      Zigzagpart Lane      Lauren      Newton   66   \n",
       "8390           28      Zigzagpart Lane      Joanne       Green   70   \n",
       "8644           15        Davis Parkway      Jeremy       Allen   68   \n",
       "9013            7        Sheppard Road        Katy    Robinson   68   \n",
       "9303           21  February Expressway      Oliver    Chandler   76   \n",
       "9493           42         Lunar Avenue       Robin        Carr   93   \n",
       "9626           29         Brown Manors       Laura       Owens   66   \n",
       "\n",
       "     Relationship to Head of House Marital Status  Gender  Occupation  \\\n",
       "113                           Head        Married  Female  Unemployed   \n",
       "162                           Head       Divorced  Female  Unemployed   \n",
       "342                           Head        Widowed  Female  Unemployed   \n",
       "348                           Head        Widowed  Female  Unemployed   \n",
       "470                           Head        Widowed  Female  Unemployed   \n",
       "745                           Head        Married  Female  Unemployed   \n",
       "800                           Head       Divorced  Female  Unemployed   \n",
       "994                           Wife        Married  Female  Unemployed   \n",
       "1002                          Wife        Married  Female  Unemployed   \n",
       "1179                          Head         Single  Female  Unemployed   \n",
       "1515                          Head       Divorced  Female  Unemployed   \n",
       "1581                          Head        Married  Female  Unemployed   \n",
       "1582                       Husband        Married    Male  Unemployed   \n",
       "1804                       Husband        Married    Male  Unemployed   \n",
       "2408                          Head         Single  Female  Unemployed   \n",
       "2443                          Head        Married    Male  Unemployed   \n",
       "2448                          Head        Widowed  Female  Unemployed   \n",
       "2459                          Head        Married  Female  Unemployed   \n",
       "2998                          Head         Single  Female  Unemployed   \n",
       "3324                          Head         Single  Female  Unemployed   \n",
       "3463                          Head        Widowed    Male  Unemployed   \n",
       "4363                       Husband        Married    Male  Unemployed   \n",
       "4593                          Head        Widowed  Female  Unemployed   \n",
       "4631                          Head        Widowed  Female  Unemployed   \n",
       "4658                          Head        Widowed  Female  Unemployed   \n",
       "4824                          Head        Widowed  Female  Unemployed   \n",
       "4908                          Head         Single  Female  Unemployed   \n",
       "4959                          Head        Widowed  Female  Unemployed   \n",
       "5326                        Cousin       Divorced  Female  Unemployed   \n",
       "5655                          Head        Widowed  Female  Unemployed   \n",
       "5920                          Head       Divorced  Female  Unemployed   \n",
       "6755                          Head        Married  Female  Unemployed   \n",
       "7191                          Head       Divorced  Female  Unemployed   \n",
       "7420                          Head       Divorced  Female  Unemployed   \n",
       "7465                       Husband        Married    Male  Unemployed   \n",
       "7586                       Husband        Married    Male  Unemployed   \n",
       "7882                          Head         Single  Female  Unemployed   \n",
       "8073                          Head        Widowed    Male  Unemployed   \n",
       "8265                          Head        Married    Male  Unemployed   \n",
       "8346                          Head       Divorced  Female  Unemployed   \n",
       "8390                          Head        Widowed  Female  Unemployed   \n",
       "8644                          Head        Widowed    Male  Unemployed   \n",
       "9013                          Wife        Married  Female  Unemployed   \n",
       "9303                          Head        Widowed    Male  Unemployed   \n",
       "9493                          Head        Married    Male  Unemployed   \n",
       "9626                          Head       Divorced  Female  Unemployed   \n",
       "\n",
       "     Infirmity   Religion  \n",
       "113       None  Christian  \n",
       "162       None       None  \n",
       "342       None       None  \n",
       "348       None  Christian  \n",
       "470       None       None  \n",
       "745       None       None  \n",
       "800       None       None  \n",
       "994       None       None  \n",
       "1002      None  Christian  \n",
       "1179      None       None  \n",
       "1515      None  Christian  \n",
       "1581      None  Christian  \n",
       "1582      None       None  \n",
       "1804      None       None  \n",
       "2408      None  Christian  \n",
       "2443      None  Christian  \n",
       "2448      None  Christian  \n",
       "2459      None  Christian  \n",
       "2998      None       None  \n",
       "3324      None  Christian  \n",
       "3463      None  Christian  \n",
       "4363      None       None  \n",
       "4593      None  Christian  \n",
       "4631      None       None  \n",
       "4658      None       None  \n",
       "4824      None  Christian  \n",
       "4908      None  Christian  \n",
       "4959      None  Christian  \n",
       "5326      None       None  \n",
       "5655      None  Christian  \n",
       "5920      None       None  \n",
       "6755      None  Christian  \n",
       "7191      None  Christian  \n",
       "7420      None       None  \n",
       "7465      None  Christian  \n",
       "7586      None  Christian  \n",
       "7882      None  Christian  \n",
       "8073      None       None  \n",
       "8265      None  Christian  \n",
       "8346      None  Christian  \n",
       "8390      None  Christian  \n",
       "8644      None     Jewish  \n",
       "9013      None  Christian  \n",
       "9303      None  Christian  \n",
       "9493      None  Christian  \n",
       "9626      None  Christian  "
      ]
     },
     "execution_count": 67,
     "metadata": {},
     "output_type": "execute_result"
    }
   ],
   "source": [
    "# Get details of individuals above age 65 recorded as unemployed\n",
    "\n",
    "census_data.loc[(census_data[\"Age\"] >65) & (census_data[\"Occupation\"]==\"Unemployed\")]"
   ]
  },
  {
   "cell_type": "markdown",
   "id": "ec0c5036",
   "metadata": {},
   "source": [
    "- Above shows records of individuals above age 65 recorded as unemployed. I have decided to change these to \"Retired\" below:"
   ]
  },
  {
   "cell_type": "code",
   "execution_count": 68,
   "id": "e06ab5c5",
   "metadata": {},
   "outputs": [],
   "source": [
    "# Change record from 'Unemployed' to 'Retired' for individuals over 65\n",
    "\n",
    "census_data.loc[[113,162,342,348,470,745,800,994,1002,1179,1515,1581,1582,1804,2408,2443,2448],\"Occupation\"] = 'Retired'\n",
    "census_data.loc[[2459,2998,3324,3463,4363,4593,4631,4658,4824,4908,4959,5326,5652,5917,6752],\"Occupation\"] = 'Retired'\n",
    "census_data.loc[[7188,7417,7462,7583,7879,8070,8262,8343,8387,8641,9010,9300,9490,9623],\"Occupation\"] = 'Retired'\n"
   ]
  },
  {
   "cell_type": "code",
   "execution_count": 69,
   "id": "dff0a1c5",
   "metadata": {
    "scrolled": false
   },
   "outputs": [
    {
     "data": {
      "text/html": [
       "<div>\n",
       "<style scoped>\n",
       "    .dataframe tbody tr th:only-of-type {\n",
       "        vertical-align: middle;\n",
       "    }\n",
       "\n",
       "    .dataframe tbody tr th {\n",
       "        vertical-align: top;\n",
       "    }\n",
       "\n",
       "    .dataframe thead th {\n",
       "        text-align: right;\n",
       "    }\n",
       "</style>\n",
       "<table border=\"1\" class=\"dataframe\">\n",
       "  <thead>\n",
       "    <tr style=\"text-align: right;\">\n",
       "      <th></th>\n",
       "      <th>House Number</th>\n",
       "      <th>Street</th>\n",
       "      <th>First Name</th>\n",
       "      <th>Surname</th>\n",
       "      <th>Age</th>\n",
       "      <th>Relationship to Head of House</th>\n",
       "      <th>Marital Status</th>\n",
       "      <th>Gender</th>\n",
       "      <th>Occupation</th>\n",
       "      <th>Infirmity</th>\n",
       "      <th>Religion</th>\n",
       "    </tr>\n",
       "  </thead>\n",
       "  <tbody>\n",
       "    <tr>\n",
       "      <th>11</th>\n",
       "      <td>4</td>\n",
       "      <td>Bastille Plains</td>\n",
       "      <td>Ruth</td>\n",
       "      <td>Lewis</td>\n",
       "      <td>79</td>\n",
       "      <td>Head</td>\n",
       "      <td>Widowed</td>\n",
       "      <td>Female</td>\n",
       "      <td>Retired Surveyor, insurance</td>\n",
       "      <td>None</td>\n",
       "      <td>Christian</td>\n",
       "    </tr>\n",
       "    <tr>\n",
       "      <th>31</th>\n",
       "      <td>1</td>\n",
       "      <td>Carr Parkways</td>\n",
       "      <td>Sheila</td>\n",
       "      <td>Collins</td>\n",
       "      <td>71</td>\n",
       "      <td>Head</td>\n",
       "      <td>Single</td>\n",
       "      <td>Female</td>\n",
       "      <td>Retired Adult guidance worker</td>\n",
       "      <td>None</td>\n",
       "      <td>Christian</td>\n",
       "    </tr>\n",
       "    <tr>\n",
       "      <th>50</th>\n",
       "      <td>6</td>\n",
       "      <td>Carr Parkways</td>\n",
       "      <td>Iain</td>\n",
       "      <td>Ford</td>\n",
       "      <td>77</td>\n",
       "      <td>Head</td>\n",
       "      <td>Widowed</td>\n",
       "      <td>Male</td>\n",
       "      <td>Retired Field seismologist</td>\n",
       "      <td>None</td>\n",
       "      <td>Christian</td>\n",
       "    </tr>\n",
       "    <tr>\n",
       "      <th>62</th>\n",
       "      <td>10</td>\n",
       "      <td>Carr Parkways</td>\n",
       "      <td>Martyn</td>\n",
       "      <td>Goddard</td>\n",
       "      <td>71</td>\n",
       "      <td>Head</td>\n",
       "      <td>Widowed</td>\n",
       "      <td>Male</td>\n",
       "      <td>Retired Engineer, petroleum</td>\n",
       "      <td>None</td>\n",
       "      <td>Christian</td>\n",
       "    </tr>\n",
       "    <tr>\n",
       "      <th>114</th>\n",
       "      <td>30</td>\n",
       "      <td>Carr Parkways</td>\n",
       "      <td>Nigel</td>\n",
       "      <td>Jones</td>\n",
       "      <td>70</td>\n",
       "      <td>Husband</td>\n",
       "      <td>Married</td>\n",
       "      <td>Male</td>\n",
       "      <td>Retired Warden/ranger</td>\n",
       "      <td>None</td>\n",
       "      <td>None</td>\n",
       "    </tr>\n",
       "    <tr>\n",
       "      <th>...</th>\n",
       "      <td>...</td>\n",
       "      <td>...</td>\n",
       "      <td>...</td>\n",
       "      <td>...</td>\n",
       "      <td>...</td>\n",
       "      <td>...</td>\n",
       "      <td>...</td>\n",
       "      <td>...</td>\n",
       "      <td>...</td>\n",
       "      <td>...</td>\n",
       "      <td>...</td>\n",
       "    </tr>\n",
       "    <tr>\n",
       "      <th>9879</th>\n",
       "      <td>1</td>\n",
       "      <td>Williams Common</td>\n",
       "      <td>Judith</td>\n",
       "      <td>Lewis</td>\n",
       "      <td>74</td>\n",
       "      <td>Head</td>\n",
       "      <td>Married</td>\n",
       "      <td>Female</td>\n",
       "      <td>Retired Medical laboratory scientific officer</td>\n",
       "      <td>None</td>\n",
       "      <td>None</td>\n",
       "    </tr>\n",
       "    <tr>\n",
       "      <th>9880</th>\n",
       "      <td>1</td>\n",
       "      <td>Williams Common</td>\n",
       "      <td>Denis</td>\n",
       "      <td>Lewis</td>\n",
       "      <td>71</td>\n",
       "      <td>Husband</td>\n",
       "      <td>Married</td>\n",
       "      <td>Male</td>\n",
       "      <td>Retired Equities trader</td>\n",
       "      <td>None</td>\n",
       "      <td>None</td>\n",
       "    </tr>\n",
       "    <tr>\n",
       "      <th>9902</th>\n",
       "      <td>1</td>\n",
       "      <td>King House</td>\n",
       "      <td>Elizabeth</td>\n",
       "      <td>Davies</td>\n",
       "      <td>77</td>\n",
       "      <td>Head</td>\n",
       "      <td>Married</td>\n",
       "      <td>Female</td>\n",
       "      <td>Retired Catering manager</td>\n",
       "      <td>None</td>\n",
       "      <td>Christian</td>\n",
       "    </tr>\n",
       "    <tr>\n",
       "      <th>9903</th>\n",
       "      <td>1</td>\n",
       "      <td>King House</td>\n",
       "      <td>Phillip</td>\n",
       "      <td>Davies</td>\n",
       "      <td>76</td>\n",
       "      <td>Husband</td>\n",
       "      <td>Married</td>\n",
       "      <td>Male</td>\n",
       "      <td>Retired Computer games developer</td>\n",
       "      <td>None</td>\n",
       "      <td>Christian</td>\n",
       "    </tr>\n",
       "    <tr>\n",
       "      <th>9952</th>\n",
       "      <td>1</td>\n",
       "      <td>Causeway House</td>\n",
       "      <td>Trevor</td>\n",
       "      <td>Martin</td>\n",
       "      <td>78</td>\n",
       "      <td>Head</td>\n",
       "      <td>Widowed</td>\n",
       "      <td>Male</td>\n",
       "      <td>Retired Community arts worker</td>\n",
       "      <td>None</td>\n",
       "      <td>Christian</td>\n",
       "    </tr>\n",
       "  </tbody>\n",
       "</table>\n",
       "<p>913 rows × 11 columns</p>\n",
       "</div>"
      ],
      "text/plain": [
       "     House Number           Street First Name  Surname  Age  \\\n",
       "11              4  Bastille Plains       Ruth    Lewis   79   \n",
       "31              1    Carr Parkways     Sheila  Collins   71   \n",
       "50              6    Carr Parkways       Iain     Ford   77   \n",
       "62             10    Carr Parkways     Martyn  Goddard   71   \n",
       "114            30    Carr Parkways      Nigel    Jones   70   \n",
       "...           ...              ...        ...      ...  ...   \n",
       "9879            1  Williams Common     Judith    Lewis   74   \n",
       "9880            1  Williams Common      Denis    Lewis   71   \n",
       "9902            1       King House  Elizabeth   Davies   77   \n",
       "9903            1       King House    Phillip   Davies   76   \n",
       "9952            1   Causeway House     Trevor   Martin   78   \n",
       "\n",
       "     Relationship to Head of House Marital Status  Gender  \\\n",
       "11                            Head        Widowed  Female   \n",
       "31                            Head         Single  Female   \n",
       "50                            Head        Widowed    Male   \n",
       "62                            Head        Widowed    Male   \n",
       "114                        Husband        Married    Male   \n",
       "...                            ...            ...     ...   \n",
       "9879                          Head        Married  Female   \n",
       "9880                       Husband        Married    Male   \n",
       "9902                          Head        Married  Female   \n",
       "9903                       Husband        Married    Male   \n",
       "9952                          Head        Widowed    Male   \n",
       "\n",
       "                                         Occupation Infirmity   Religion  \n",
       "11                      Retired Surveyor, insurance      None  Christian  \n",
       "31                    Retired Adult guidance worker      None  Christian  \n",
       "50                       Retired Field seismologist      None  Christian  \n",
       "62                      Retired Engineer, petroleum      None  Christian  \n",
       "114                           Retired Warden/ranger      None       None  \n",
       "...                                             ...       ...        ...  \n",
       "9879  Retired Medical laboratory scientific officer      None       None  \n",
       "9880                        Retired Equities trader      None       None  \n",
       "9902                       Retired Catering manager      None  Christian  \n",
       "9903               Retired Computer games developer      None  Christian  \n",
       "9952                  Retired Community arts worker      None  Christian  \n",
       "\n",
       "[913 rows x 11 columns]"
      ]
     },
     "execution_count": 69,
     "metadata": {},
     "output_type": "execute_result"
    }
   ],
   "source": [
    "#All individuals age 68 and above are retired from different occupations\n",
    "#census_data.loc(census_data[\"Age\"]>=68)\n",
    "census_data.loc[census_data['Age']>=68]"
   ]
  },
  {
   "cell_type": "markdown",
   "id": "3cc67cbe",
   "metadata": {},
   "source": [
    "- Above is a list of 913 individuals retired from various fields. I have decided to simplify these and change to \"Retired\""
   ]
  },
  {
   "cell_type": "code",
   "execution_count": 70,
   "id": "278d9ab9",
   "metadata": {},
   "outputs": [],
   "source": [
    "#To narrow down on occupation categories\n",
    "#We use the function\n",
    "def occupation_category(occupation):\n",
    "    if occupation.startswith(\"Retired\"):\n",
    "        return \"Retired\"\n",
    "    elif occupation == \"Unemployed\":\n",
    "        return \"Unemployed\"\n",
    "    elif \"Student\" in occupation:\n",
    "        return \"Student\"\n",
    "    elif occupation == \"Child\":\n",
    "        return \"Child\"\n",
    "    else:\n",
    "        return \"Employed\""
   ]
  },
  {
   "cell_type": "code",
   "execution_count": 71,
   "id": "fd7deae2",
   "metadata": {},
   "outputs": [],
   "source": [
    "census_data[\"Occupation_Class\"] = census_data[\"Occupation\"].apply(lambda x :occupation_category(x))"
   ]
  },
  {
   "cell_type": "code",
   "execution_count": 72,
   "id": "cfd52674",
   "metadata": {},
   "outputs": [
    {
     "data": {
      "text/plain": [
       "9976"
      ]
     },
     "execution_count": 72,
     "metadata": {},
     "output_type": "execute_result"
    }
   ],
   "source": [
    "census_data.groupby(['Occupation_Class']).size().sum()"
   ]
  },
  {
   "cell_type": "code",
   "execution_count": 73,
   "id": "60750bf0",
   "metadata": {},
   "outputs": [
    {
     "data": {
      "text/plain": [
       "array(['Employed', 'Student', 'Retired', 'Child', 'Unemployed'],\n",
       "      dtype=object)"
      ]
     },
     "execution_count": 73,
     "metadata": {},
     "output_type": "execute_result"
    }
   ],
   "source": [
    "census_data[\"Occupation_Class\"].unique()"
   ]
  },
  {
   "cell_type": "code",
   "execution_count": 74,
   "id": "2f308f66",
   "metadata": {},
   "outputs": [
    {
     "name": "stdout",
     "output_type": "stream",
     "text": [
      "Employed      5289\n",
      "Student       2603\n",
      "Retired        926\n",
      "Child          580\n",
      "Unemployed     578\n",
      "Name: Occupation_Class, dtype: int64\n"
     ]
    }
   ],
   "source": [
    "print(census_data['Occupation_Class'].value_counts() )"
   ]
  },
  {
   "cell_type": "markdown",
   "id": "cd740197",
   "metadata": {},
   "source": [
    "- The Occupation Class has been streamlined into 5 as shown above."
   ]
  },
  {
   "cell_type": "markdown",
   "id": "d4632441",
   "metadata": {},
   "source": [
    "# Data Cleaning - House Number"
   ]
  },
  {
   "cell_type": "code",
   "execution_count": 75,
   "id": "b8b8019a",
   "metadata": {},
   "outputs": [
    {
     "data": {
      "text/plain": [
       "array(['ONE', '1', '2', '3', '4', '5', '6', '7', '8', '9', '10', '11',\n",
       "       '12', ' ', '14', '15', '16', '17', '18', '19', '20', '21', '22',\n",
       "       '23', '24', '25', '26', '27', '28', '29', '30', '31', '32', '33',\n",
       "       '34', '35', '36', '37', '38', '39', '40', '41', '42', '43', '44',\n",
       "       '45', '46', '47', '48', '49', '50', '51', '52', '53', '54', '55',\n",
       "       '56', '57', '58', '59', '60', '61', '62', '63', '64', '65', '66',\n",
       "       '67', '68', '69', '70', '71', '72', '73', '74', '75', '76', '77',\n",
       "       '78', '79', '80', '81', '82', '83', '84', '85', '86', '87', '88',\n",
       "       '89', '90', '91', '92', '93', '94', '95', '96', '97', '98', '99',\n",
       "       '100', '101', '102', '103', '104', '105', '106', '107', '108',\n",
       "       '109', '110', '111', '112', '113', '114', '115', '116', '117',\n",
       "       '118', '119', '120', '121', '122', '123', '124', '125', '126',\n",
       "       '127', '128', '129', '130', '131', '132', '133', '134', '135',\n",
       "       '136', '137', '138', '139', '140', '141', '142', '143', '144',\n",
       "       '145', '146', '147', '148', '149', '150', '151', '152', '153',\n",
       "       '154', '155', '156', '157', '158', '159', '160', '161', '162',\n",
       "       '163', '164', '165', '166', '167', '168', '169', '170', '171',\n",
       "       '172', '173', '174', '175', '176', '13', '177', '178', '179',\n",
       "       '180', '181', '182', '183', '184', '185', '186', '187', '188',\n",
       "       '189', '190', '191', '192', '193', '194', '195', '196', '197',\n",
       "       '198', '199', '200', '201', '202', '203', '204', '205', '206',\n",
       "       '207', '208', '209', '210', '211', '212', '213', '214', '215',\n",
       "       '216', 'TWENTY', '217', '218', '219', '220', '221', '222', '223',\n",
       "       '224', '225', '226', '227', '228', '229', '230', '231', '232',\n",
       "       '233', '234', '235', 'None'], dtype=object)"
      ]
     },
     "execution_count": 75,
     "metadata": {},
     "output_type": "execute_result"
    }
   ],
   "source": [
    "#Explore the data for inconsistencies\n",
    "census_data['House Number'].unique()"
   ]
  },
  {
   "cell_type": "markdown",
   "id": "6fca1344",
   "metadata": {},
   "source": [
    "- Word numbers (E.g 'ONE'),missing number ('') and nan value detected in House Number. All numbers in str type"
   ]
  },
  {
   "cell_type": "code",
   "execution_count": 76,
   "id": "1c82eae1",
   "metadata": {},
   "outputs": [
    {
     "data": {
      "text/html": [
       "<div>\n",
       "<style scoped>\n",
       "    .dataframe tbody tr th:only-of-type {\n",
       "        vertical-align: middle;\n",
       "    }\n",
       "\n",
       "    .dataframe tbody tr th {\n",
       "        vertical-align: top;\n",
       "    }\n",
       "\n",
       "    .dataframe thead th {\n",
       "        text-align: right;\n",
       "    }\n",
       "</style>\n",
       "<table border=\"1\" class=\"dataframe\">\n",
       "  <thead>\n",
       "    <tr style=\"text-align: right;\">\n",
       "      <th></th>\n",
       "      <th>House Number</th>\n",
       "      <th>Street</th>\n",
       "      <th>First Name</th>\n",
       "      <th>Surname</th>\n",
       "      <th>Age</th>\n",
       "      <th>Relationship to Head of House</th>\n",
       "      <th>Marital Status</th>\n",
       "      <th>Gender</th>\n",
       "      <th>Occupation</th>\n",
       "      <th>Infirmity</th>\n",
       "      <th>Religion</th>\n",
       "      <th>Occupation_Class</th>\n",
       "    </tr>\n",
       "  </thead>\n",
       "  <tbody>\n",
       "    <tr>\n",
       "      <th>71</th>\n",
       "      <td></td>\n",
       "      <td>Carr Parkways</td>\n",
       "      <td>Leanne</td>\n",
       "      <td>Chambers</td>\n",
       "      <td>47</td>\n",
       "      <td>Head</td>\n",
       "      <td>Married</td>\n",
       "      <td>Female</td>\n",
       "      <td>Airline pilot</td>\n",
       "      <td>None</td>\n",
       "      <td>Christian</td>\n",
       "      <td>Employed</td>\n",
       "    </tr>\n",
       "    <tr>\n",
       "      <th>72</th>\n",
       "      <td></td>\n",
       "      <td>Carr Parkways</td>\n",
       "      <td>Ashley</td>\n",
       "      <td>Chambers</td>\n",
       "      <td>44</td>\n",
       "      <td>Husband</td>\n",
       "      <td>Married</td>\n",
       "      <td>Male</td>\n",
       "      <td>Visual merchandiser</td>\n",
       "      <td>None</td>\n",
       "      <td>Christian</td>\n",
       "      <td>Employed</td>\n",
       "    </tr>\n",
       "    <tr>\n",
       "      <th>73</th>\n",
       "      <td></td>\n",
       "      <td>Carr Parkways</td>\n",
       "      <td>Diana</td>\n",
       "      <td>Chambers</td>\n",
       "      <td>10</td>\n",
       "      <td>Daughter</td>\n",
       "      <td>Single</td>\n",
       "      <td>Female</td>\n",
       "      <td>Student</td>\n",
       "      <td>None</td>\n",
       "      <td>None</td>\n",
       "      <td>Student</td>\n",
       "    </tr>\n",
       "    <tr>\n",
       "      <th>74</th>\n",
       "      <td></td>\n",
       "      <td>Carr Parkways</td>\n",
       "      <td>Catherine</td>\n",
       "      <td>Chambers</td>\n",
       "      <td>3</td>\n",
       "      <td>Daughter</td>\n",
       "      <td>Single</td>\n",
       "      <td>Female</td>\n",
       "      <td>Child</td>\n",
       "      <td>None</td>\n",
       "      <td>None</td>\n",
       "      <td>Child</td>\n",
       "    </tr>\n",
       "    <tr>\n",
       "      <th>6225</th>\n",
       "      <td></td>\n",
       "      <td>Cannontun Drive</td>\n",
       "      <td>Shannon</td>\n",
       "      <td>Baldwin</td>\n",
       "      <td>41</td>\n",
       "      <td>Head</td>\n",
       "      <td>Widowed</td>\n",
       "      <td>Female</td>\n",
       "      <td>Operational investment banker</td>\n",
       "      <td>None</td>\n",
       "      <td>Christian</td>\n",
       "      <td>Employed</td>\n",
       "    </tr>\n",
       "    <tr>\n",
       "      <th>6226</th>\n",
       "      <td></td>\n",
       "      <td>Cannontun Drive</td>\n",
       "      <td>Sean</td>\n",
       "      <td>Baldwin</td>\n",
       "      <td>14</td>\n",
       "      <td>Son</td>\n",
       "      <td>Single</td>\n",
       "      <td>Male</td>\n",
       "      <td>Student</td>\n",
       "      <td>None</td>\n",
       "      <td>None</td>\n",
       "      <td>Student</td>\n",
       "    </tr>\n",
       "  </tbody>\n",
       "</table>\n",
       "</div>"
      ],
      "text/plain": [
       "     House Number           Street First Name   Surname  Age  \\\n",
       "71                   Carr Parkways     Leanne  Chambers   47   \n",
       "72                   Carr Parkways     Ashley  Chambers   44   \n",
       "73                   Carr Parkways      Diana  Chambers   10   \n",
       "74                   Carr Parkways  Catherine  Chambers    3   \n",
       "6225               Cannontun Drive    Shannon   Baldwin   41   \n",
       "6226               Cannontun Drive       Sean   Baldwin   14   \n",
       "\n",
       "     Relationship to Head of House Marital Status  Gender  \\\n",
       "71                            Head        Married  Female   \n",
       "72                         Husband        Married    Male   \n",
       "73                        Daughter         Single  Female   \n",
       "74                        Daughter         Single  Female   \n",
       "6225                          Head        Widowed  Female   \n",
       "6226                           Son         Single    Male   \n",
       "\n",
       "                         Occupation Infirmity   Religion Occupation_Class  \n",
       "71                    Airline pilot      None  Christian         Employed  \n",
       "72              Visual merchandiser      None  Christian         Employed  \n",
       "73                          Student      None       None          Student  \n",
       "74                            Child      None       None            Child  \n",
       "6225  Operational investment banker      None  Christian         Employed  \n",
       "6226                        Student      None       None          Student  "
      ]
     },
     "execution_count": 76,
     "metadata": {},
     "output_type": "execute_result"
    }
   ],
   "source": [
    "census_data.loc[census_data['House Number'] == ' ']"
   ]
  },
  {
   "cell_type": "code",
   "execution_count": 77,
   "id": "e9dac955",
   "metadata": {},
   "outputs": [
    {
     "name": "stdout",
     "output_type": "stream",
     "text": [
      "   House Number         Street First Name   Surname  Age  \\\n",
      "70           12  Carr Parkways    Jeffrey      Bell    5   \n",
      "71               Carr Parkways     Leanne  Chambers   47   \n",
      "72               Carr Parkways     Ashley  Chambers   44   \n",
      "73               Carr Parkways      Diana  Chambers   10   \n",
      "74               Carr Parkways  Catherine  Chambers    3   \n",
      "75           14  Carr Parkways     Andrea     Burns   46   \n",
      "\n",
      "   Relationship to Head of House Marital Status  Gender           Occupation  \\\n",
      "70                           Son         Single    Male              Student   \n",
      "71                          Head        Married  Female        Airline pilot   \n",
      "72                       Husband        Married    Male  Visual merchandiser   \n",
      "73                      Daughter         Single  Female              Student   \n",
      "74                      Daughter         Single  Female                Child   \n",
      "75                          Head        Married  Female     Marine scientist   \n",
      "\n",
      "   Infirmity   Religion Occupation_Class  \n",
      "70      None       None          Student  \n",
      "71      None  Christian         Employed  \n",
      "72      None  Christian         Employed  \n",
      "73      None       None          Student  \n",
      "74      None       None            Child  \n",
      "75      None  Christian         Employed  \n",
      "     House Number           Street First Name Surname  Age  \\\n",
      "6227           14  Cannontun Drive        Amy  Davies   61   \n",
      "6228           14  Cannontun Drive     Victor  Davies   66   \n",
      "6229           15  Cannontun Drive     Teresa   Patel   72   \n",
      "6230           16  Cannontun Drive     Kieran  Barker   24   \n",
      "\n",
      "     Relationship to Head of House Marital Status  Gender  \\\n",
      "6227                          Head        Married  Female   \n",
      "6228                       Husband        Married    Male   \n",
      "6229                          Head        Widowed  Female   \n",
      "6230                          Head         Single    Male   \n",
      "\n",
      "                         Occupation Infirmity   Religion Occupation_Class  \n",
      "6227           Community pharmacist      None       None         Employed  \n",
      "6228                     Astronomer      None       None         Employed  \n",
      "6229  Retired Forensic psychologist      None  Christian          Retired  \n",
      "6230       Customer service manager      None     Muslim         Employed  \n"
     ]
    }
   ],
   "source": [
    "#Retrieve details of missing House Numbers plus House numbers before and after the missing number\n",
    "\n",
    "print(census_data.iloc[[70,71,72,73,74,75]])\n",
    "print(census_data.iloc[[6224,6225,6226,6227]])"
   ]
  },
  {
   "cell_type": "code",
   "execution_count": 78,
   "id": "94c791b5",
   "metadata": {},
   "outputs": [],
   "source": [
    "#Replace missing house number \n",
    "#13 is the missing number between 12 and 14 on both Streets\n",
    "census_data['House Number'] = census_data['House Number'].replace(' ', 13)"
   ]
  },
  {
   "cell_type": "code",
   "execution_count": 79,
   "id": "aae6eb6a",
   "metadata": {},
   "outputs": [],
   "source": [
    "# Replace House numbers recorded in words to numbers\n",
    "census_data['House Number'] = census_data['House Number'].replace('ONE', 1)\n",
    "census_data['House Number'] = census_data['House Number'].replace('TWENTY', 20)\n"
   ]
  },
  {
   "cell_type": "markdown",
   "id": "2a296349",
   "metadata": {},
   "source": [
    "- The correct details of missing House Numbers were derived from House numbers before and after the missing number.\n",
    "These have been replaced appropriately above.\n"
   ]
  },
  {
   "cell_type": "code",
   "execution_count": 80,
   "id": "f8ae2029",
   "metadata": {},
   "outputs": [
    {
     "data": {
      "text/html": [
       "<div>\n",
       "<style scoped>\n",
       "    .dataframe tbody tr th:only-of-type {\n",
       "        vertical-align: middle;\n",
       "    }\n",
       "\n",
       "    .dataframe tbody tr th {\n",
       "        vertical-align: top;\n",
       "    }\n",
       "\n",
       "    .dataframe thead th {\n",
       "        text-align: right;\n",
       "    }\n",
       "</style>\n",
       "<table border=\"1\" class=\"dataframe\">\n",
       "  <thead>\n",
       "    <tr style=\"text-align: right;\">\n",
       "      <th></th>\n",
       "      <th>House Number</th>\n",
       "      <th>Street</th>\n",
       "      <th>First Name</th>\n",
       "      <th>Surname</th>\n",
       "      <th>Age</th>\n",
       "      <th>Relationship to Head of House</th>\n",
       "      <th>Marital Status</th>\n",
       "      <th>Gender</th>\n",
       "      <th>Occupation</th>\n",
       "      <th>Infirmity</th>\n",
       "      <th>Religion</th>\n",
       "      <th>Occupation_Class</th>\n",
       "    </tr>\n",
       "  </thead>\n",
       "  <tbody>\n",
       "  </tbody>\n",
       "</table>\n",
       "</div>"
      ],
      "text/plain": [
       "Empty DataFrame\n",
       "Columns: [House Number, Street, First Name, Surname, Age, Relationship to Head of House, Marital Status, Gender, Occupation, Infirmity, Religion, Occupation_Class]\n",
       "Index: []"
      ]
     },
     "execution_count": 80,
     "metadata": {},
     "output_type": "execute_result"
    }
   ],
   "source": [
    "#Check for NaN House Numbers\n",
    "census_data[census_data['House Number'].isna()]"
   ]
  },
  {
   "cell_type": "code",
   "execution_count": 81,
   "id": "03945d6e",
   "metadata": {},
   "outputs": [
    {
     "name": "stdout",
     "output_type": "stream",
     "text": [
      "     House Number         Street First Name  Surname  Age  \\\n",
      "5705          123  Reindeer Road       Anne  Doherty   36   \n",
      "5706          123  Reindeer Road        Sam  Doherty   36   \n",
      "5707          123  Reindeer Road    Shannon  Doherty   33   \n",
      "\n",
      "     Relationship to Head of House Marital Status  Gender  \\\n",
      "5705                      Daughter         Single  Female   \n",
      "5706                           Son       Divorced    Male   \n",
      "5707                      Daughter         Single  Female   \n",
      "\n",
      "                 Occupation Infirmity Religion Occupation_Class  \n",
      "5705           Tree surgeon      None     None         Employed  \n",
      "5706             Unemployed      None     None       Unemployed  \n",
      "5707  Private music teacher      None     None         Employed  \n",
      "     House Number     Street First Name Surname  Age  \\\n",
      "8289           12  Fox Hills      Brian  Watson    1   \n",
      "8290           13  Fox Hills   Danielle  Miller   34   \n",
      "8291           13  Fox Hills      David  Miller   37   \n",
      "\n",
      "     Relationship to Head of House Marital Status  Gender  \\\n",
      "8289                           Son         Single    Male   \n",
      "8290                          Head        Married  Female   \n",
      "8291                       Husband        Married    Male   \n",
      "\n",
      "                       Occupation Infirmity Religion Occupation_Class  \n",
      "8289                        Child      None     None            Child  \n",
      "8290  Engineer, building services      None     None         Employed  \n",
      "8291                Warden/ranger      None     None         Employed  \n",
      "     House Number           Street First Name  Surname  Age  \\\n",
      "9802            3  Arrows Parkways     Amanda    Clark   15   \n",
      "9803            4  Arrows Parkways     Gareth     Kirk   51   \n",
      "9804            4  Arrows Parkways       Josh  Kennedy   18   \n",
      "\n",
      "     Relationship to Head of House Marital Status  Gender  \\\n",
      "9802                      Daughter         Single  Female   \n",
      "9803                          Head         Single    Male   \n",
      "9804                          None         Single    Male   \n",
      "\n",
      "                       Occupation Infirmity Religion Occupation_Class  \n",
      "9802                      Student      None     None          Student  \n",
      "9803  Clinical research associate      None     None         Employed  \n",
      "9804                      Student      None     None          Student  \n",
      "     House Number           Street First Name Surname  Age  \\\n",
      "9811            8  Arrows Parkways     Gareth  Fraser   65   \n",
      "9812            8  Arrows Parkways    Phillip  Fraser   30   \n",
      "9813            9  Arrows Parkways     Jeremy  Harris   72   \n",
      "\n",
      "     Relationship to Head of House Marital Status Gender  \\\n",
      "9811                       Husband        Married   Male   \n",
      "9812                           Son         Single   Male   \n",
      "9813                          Head        Widowed   Male   \n",
      "\n",
      "                   Occupation Infirmity   Religion Occupation_Class  \n",
      "9811         Product designer      None       None         Employed  \n",
      "9812          Arboriculturist      None       None         Employed  \n",
      "9813  Retired Legal executive      None  Christian          Retired  \n"
     ]
    }
   ],
   "source": [
    "#Retrieve details of NaN House Numbers plus House number before and after the missing number\n",
    "print(census_data.iloc[[5702,5703,5704]])\n",
    "print(census_data.iloc[[8286,8287,8288]])\n",
    "print(census_data.iloc[[9799,9800,9801]])\n",
    "print(census_data.iloc[[9808,9809,9810]])\n"
   ]
  },
  {
   "cell_type": "code",
   "execution_count": 82,
   "id": "fc1d301b",
   "metadata": {},
   "outputs": [],
   "source": [
    "#inferring from other household members above\n",
    "#replace missing House Numbers\n",
    "census_data.loc[5703, 'House Number'] = 123\n",
    "census_data.loc[8287, 'House Number'] = 12\n",
    "census_data.loc[9800, 'House Number'] = 2\n",
    "census_data.loc[9809, 'House Number'] = 7\n"
   ]
  },
  {
   "cell_type": "markdown",
   "id": "dfbe494c",
   "metadata": {},
   "source": [
    "- Missing house numbers were derived by inferring from other household members above."
   ]
  },
  {
   "cell_type": "code",
   "execution_count": 83,
   "id": "77cc06a0",
   "metadata": {},
   "outputs": [
    {
     "data": {
      "text/html": [
       "<div>\n",
       "<style scoped>\n",
       "    .dataframe tbody tr th:only-of-type {\n",
       "        vertical-align: middle;\n",
       "    }\n",
       "\n",
       "    .dataframe tbody tr th {\n",
       "        vertical-align: top;\n",
       "    }\n",
       "\n",
       "    .dataframe thead th {\n",
       "        text-align: right;\n",
       "    }\n",
       "</style>\n",
       "<table border=\"1\" class=\"dataframe\">\n",
       "  <thead>\n",
       "    <tr style=\"text-align: right;\">\n",
       "      <th></th>\n",
       "      <th>House Number</th>\n",
       "      <th>Street</th>\n",
       "      <th>First Name</th>\n",
       "      <th>Surname</th>\n",
       "      <th>Age</th>\n",
       "      <th>Relationship to Head of House</th>\n",
       "      <th>Marital Status</th>\n",
       "      <th>Gender</th>\n",
       "      <th>Occupation</th>\n",
       "      <th>Infirmity</th>\n",
       "      <th>Religion</th>\n",
       "      <th>Occupation_Class</th>\n",
       "    </tr>\n",
       "  </thead>\n",
       "  <tbody>\n",
       "  </tbody>\n",
       "</table>\n",
       "</div>"
      ],
      "text/plain": [
       "Empty DataFrame\n",
       "Columns: [House Number, Street, First Name, Surname, Age, Relationship to Head of House, Marital Status, Gender, Occupation, Infirmity, Religion, Occupation_Class]\n",
       "Index: []"
      ]
     },
     "execution_count": 83,
     "metadata": {},
     "output_type": "execute_result"
    }
   ],
   "source": [
    "#checked cleaned data\n",
    "census_data[census_data['House Number'].isna()]"
   ]
  },
  {
   "cell_type": "code",
   "execution_count": 84,
   "id": "8721d8c3",
   "metadata": {},
   "outputs": [
    {
     "data": {
      "text/html": [
       "<div>\n",
       "<style scoped>\n",
       "    .dataframe tbody tr th:only-of-type {\n",
       "        vertical-align: middle;\n",
       "    }\n",
       "\n",
       "    .dataframe tbody tr th {\n",
       "        vertical-align: top;\n",
       "    }\n",
       "\n",
       "    .dataframe thead th {\n",
       "        text-align: right;\n",
       "    }\n",
       "</style>\n",
       "<table border=\"1\" class=\"dataframe\">\n",
       "  <thead>\n",
       "    <tr style=\"text-align: right;\">\n",
       "      <th></th>\n",
       "      <th>House Number</th>\n",
       "      <th>Street</th>\n",
       "      <th>First Name</th>\n",
       "      <th>Surname</th>\n",
       "      <th>Age</th>\n",
       "      <th>Relationship to Head of House</th>\n",
       "      <th>Marital Status</th>\n",
       "      <th>Gender</th>\n",
       "      <th>Occupation</th>\n",
       "      <th>Infirmity</th>\n",
       "      <th>Religion</th>\n",
       "      <th>Occupation_Class</th>\n",
       "    </tr>\n",
       "  </thead>\n",
       "  <tbody>\n",
       "  </tbody>\n",
       "</table>\n",
       "</div>"
      ],
      "text/plain": [
       "Empty DataFrame\n",
       "Columns: [House Number, Street, First Name, Surname, Age, Relationship to Head of House, Marital Status, Gender, Occupation, Infirmity, Religion, Occupation_Class]\n",
       "Index: []"
      ]
     },
     "execution_count": 84,
     "metadata": {},
     "output_type": "execute_result"
    }
   ],
   "source": [
    "#check the cleaned data\n",
    "census_data[census_data['House Number'] == ' ']"
   ]
  },
  {
   "cell_type": "code",
   "execution_count": 85,
   "id": "54c91859",
   "metadata": {},
   "outputs": [],
   "source": [
    "#Cast data type in house number to integer\n",
    "census_data['House Number'] = [float(b) for b in census_data['House Number']]\n",
    "census_data['House Number'] = [int(b) for b in census_data['House Number']]"
   ]
  },
  {
   "cell_type": "markdown",
   "id": "fdb8dda0",
   "metadata": {},
   "source": [
    "- House numbers in float were converted to integer above."
   ]
  },
  {
   "cell_type": "code",
   "execution_count": 86,
   "id": "8d3de812",
   "metadata": {},
   "outputs": [
    {
     "data": {
      "text/plain": [
       "array([  1,   2,   3,   4,   5,   6,   7,   8,   9,  10,  11,  12,  13,\n",
       "        14,  15,  16,  17,  18,  19,  20,  21,  22,  23,  24,  25,  26,\n",
       "        27,  28,  29,  30,  31,  32,  33,  34,  35,  36,  37,  38,  39,\n",
       "        40,  41,  42,  43,  44,  45,  46,  47,  48,  49,  50,  51,  52,\n",
       "        53,  54,  55,  56,  57,  58,  59,  60,  61,  62,  63,  64,  65,\n",
       "        66,  67,  68,  69,  70,  71,  72,  73,  74,  75,  76,  77,  78,\n",
       "        79,  80,  81,  82,  83,  84,  85,  86,  87,  88,  89,  90,  91,\n",
       "        92,  93,  94,  95,  96,  97,  98,  99, 100, 101, 102, 103, 104,\n",
       "       105, 106, 107, 108, 109, 110, 111, 112, 113, 114, 115, 116, 117,\n",
       "       118, 119, 120, 121, 122, 123, 124, 125, 126, 127, 128, 129, 130,\n",
       "       131, 132, 133, 134, 135, 136, 137, 138, 139, 140, 141, 142, 143,\n",
       "       144, 145, 146, 147, 148, 149, 150, 151, 152, 153, 154, 155, 156,\n",
       "       157, 158, 159, 160, 161, 162, 163, 164, 165, 166, 167, 168, 169,\n",
       "       170, 171, 172, 173, 174, 175, 176, 177, 178, 179, 180, 181, 182,\n",
       "       183, 184, 185, 186, 187, 188, 189, 190, 191, 192, 193, 194, 195,\n",
       "       196, 197, 198, 199, 200, 201, 202, 203, 204, 205, 206, 207, 208,\n",
       "       209, 210, 211, 212, 213, 214, 215, 216, 217, 218, 219, 220, 221,\n",
       "       222, 223, 224, 225, 226, 227, 228, 229, 230, 231, 232, 233, 234,\n",
       "       235], dtype=int64)"
      ]
     },
     "execution_count": 86,
     "metadata": {},
     "output_type": "execute_result"
    }
   ],
   "source": [
    "#Check the cleaned data\n",
    "census_data['House Number'].unique()"
   ]
  },
  {
   "cell_type": "code",
   "execution_count": 87,
   "id": "3ca2353f",
   "metadata": {},
   "outputs": [],
   "source": [
    "#Importing the function\n",
    "from pandas_profiling import ProfileReport\n",
    "#Generate the report. We would use the mpg dataset as sample, \n",
    "#title parameter for naming our report, and explorative parameter set to True for Deeper exploration.\n",
    "profile = ProfileReport(census_data, title='census_data Pandas Profiling Report', explorative = True)\n"
   ]
  },
  {
   "cell_type": "code",
   "execution_count": 88,
   "id": "d18e57ac",
   "metadata": {
    "scrolled": true
   },
   "outputs": [],
   "source": [
    "#profile"
   ]
  },
  {
   "cell_type": "code",
   "execution_count": 89,
   "id": "097b3714",
   "metadata": {},
   "outputs": [
    {
     "data": {
      "text/plain": [
       "House Number                     False\n",
       "Street                           False\n",
       "First Name                       False\n",
       "Surname                          False\n",
       "Age                              False\n",
       "Relationship to Head of House    False\n",
       "Marital Status                   False\n",
       "Gender                           False\n",
       "Occupation                       False\n",
       "Infirmity                        False\n",
       "Religion                         False\n",
       "Occupation_Class                 False\n",
       "dtype: bool"
      ]
     },
     "execution_count": 89,
     "metadata": {},
     "output_type": "execute_result"
    }
   ],
   "source": [
    "#double check for null values in all data\n",
    "census_data.isnull().any()"
   ]
  },
  {
   "cell_type": "markdown",
   "id": "afaa2c45",
   "metadata": {},
   "source": [
    "- All null values have been successfully replaced."
   ]
  },
  {
   "cell_type": "code",
   "execution_count": 90,
   "id": "e1343431",
   "metadata": {},
   "outputs": [
    {
     "name": "stdout",
     "output_type": "stream",
     "text": [
      "<class 'pandas.core.frame.DataFrame'>\n",
      "Int64Index: 9976 entries, 0 to 9978\n",
      "Data columns (total 12 columns):\n",
      "House Number                     9976 non-null int64\n",
      "Street                           9976 non-null object\n",
      "First Name                       9976 non-null object\n",
      "Surname                          9976 non-null object\n",
      "Age                              9976 non-null int64\n",
      "Relationship to Head of House    9976 non-null object\n",
      "Marital Status                   9976 non-null object\n",
      "Gender                           9976 non-null object\n",
      "Occupation                       9976 non-null object\n",
      "Infirmity                        9976 non-null object\n",
      "Religion                         9976 non-null object\n",
      "Occupation_Class                 9976 non-null object\n",
      "dtypes: int64(2), object(10)\n",
      "memory usage: 1.3+ MB\n"
     ]
    }
   ],
   "source": [
    "#After cleaning, check the new look of our data\n",
    "census_data.info()"
   ]
  },
  {
   "cell_type": "markdown",
   "id": "587d087b",
   "metadata": {},
   "source": [
    "# Visualization"
   ]
  },
  {
   "cell_type": "code",
   "execution_count": 91,
   "id": "5e775fbd",
   "metadata": {},
   "outputs": [],
   "source": [
    "import seaborn as sns\n",
    "import numpy as np\n",
    "import matplotlib.pyplot as plt\n"
   ]
  },
  {
   "cell_type": "code",
   "execution_count": 92,
   "id": "41dfaa73",
   "metadata": {},
   "outputs": [],
   "source": [
    "%matplotlib inline"
   ]
  },
  {
   "cell_type": "code",
   "execution_count": 93,
   "id": "5d0e191a",
   "metadata": {},
   "outputs": [
    {
     "data": {
      "text/plain": [
       "<AxesSubplot:xlabel='Age', ylabel='Count'>"
      ]
     },
     "execution_count": 93,
     "metadata": {},
     "output_type": "execute_result"
    },
    {
     "data": {
      "image/png": "[encoded data removed]",
      "text/plain": [
       "<Figure size 432x288 with 1 Axes>"
      ]
     },
     "metadata": {
      "needs_background": "light"
     },
     "output_type": "display_data"
    }
   ],
   "source": [
    "#Age distribution\n",
    "age_binwidth = (census_data['Age'].max() - census_data['Age'].min())/15\n",
    "age_binwidth = int(age_binwidth)\n",
    "sns.histplot(x = census_data['Age'], binwidth =age_binwidth)"
   ]
  },
  {
   "cell_type": "markdown",
   "id": "f5052932",
   "metadata": {},
   "source": [
    "- From the plot, we see that majority of the population are between age 20 and 45."
   ]
  },
  {
   "cell_type": "code",
   "execution_count": 94,
   "id": "2fb18b61",
   "metadata": {},
   "outputs": [
    {
     "data": {
      "image/png": "[encoded data removed]",
      "text/plain": [
       "<Figure size 432x288 with 1 Axes>"
      ]
     },
     "metadata": {
      "needs_background": "light"
     },
     "output_type": "display_data"
    }
   ],
   "source": [
    "#Age by Marital Status Plot\n",
    "sns.boxplot(data = census_data, x = 'Age', y = 'Marital Status')\n",
    "plt.show()"
   ]
  },
  {
   "cell_type": "markdown",
   "id": "98bbb352",
   "metadata": {},
   "source": [
    "- We can infer from the plot that majority of the popuplation are single while the widowed form a minority."
   ]
  },
  {
   "cell_type": "code",
   "execution_count": 95,
   "id": "3e0202da",
   "metadata": {},
   "outputs": [
    {
     "data": {
      "text/plain": [
       "<AxesSubplot:xlabel='Age', ylabel='Relationship to Head of House'>"
      ]
     },
     "execution_count": 95,
     "metadata": {},
     "output_type": "execute_result"
    },
    {
     "data": {
      "image/png": "[encoded data removed]",
      "text/plain": [
       "<Figure size 864x576 with 1 Axes>"
      ]
     },
     "metadata": {
      "needs_background": "light"
     },
     "output_type": "display_data"
    }
   ],
   "source": [
    "#Relationship to Head of House Vs Age conditioned by Marital Status\n",
    "plt.figure(figsize = (12,8))\n",
    "sns.scatterplot(data = census_data, x= 'Age', y = 'Relationship to Head of House', hue = 'Marital Status')"
   ]
  },
  {
   "cell_type": "markdown",
   "id": "aaad3eab",
   "metadata": {},
   "source": [
    "- We can also observe here that \"single\" people whose relationship to head of house are son/daughter, \n",
    "adopted son/daughter, grandson/granddaughter, stepson/stepdaughter, nephew/niece etc account for the largest\n",
    "part of the population.\n"
   ]
  },
  {
   "cell_type": "code",
   "execution_count": 96,
   "id": "86d7ef16",
   "metadata": {},
   "outputs": [
    {
     "data": {
      "image/png": "[encoded data removed]",
      "text/plain": [
       "<Figure size 432x288 with 1 Axes>"
      ]
     },
     "metadata": {
      "needs_background": "light"
     },
     "output_type": "display_data"
    }
   ],
   "source": [
    "sns.barplot(data = census_data, x = 'Marital Status', y = 'Age')\n",
    "plt.title('Distribution of Marital Status by Age')\n",
    "plt.xlabel('Marital Status')\n",
    "plt.ylabel('Mean Age')\n",
    "plt.show()"
   ]
  },
  {
   "cell_type": "markdown",
   "id": "f18312b6",
   "metadata": {},
   "source": [
    "- The above plot reveals that individuals who are widowed are the oldest with a mean age of 69,\n",
    "while single people in the population have a mean age of 24.  "
   ]
  },
  {
   "cell_type": "code",
   "execution_count": 97,
   "id": "76886687",
   "metadata": {},
   "outputs": [
    {
     "data": {
      "text/plain": [
       "<seaborn.axisgrid.FacetGrid at 0x22b0e63f250>"
      ]
     },
     "execution_count": 97,
     "metadata": {},
     "output_type": "execute_result"
    },
    {
     "data": {
      "image/png": "[encoded data removed]",
      "text/plain": [
       "<Figure size 441.5x360 with 1 Axes>"
      ]
     },
     "metadata": {
      "needs_background": "light"
     },
     "output_type": "display_data"
    }
   ],
   "source": [
    "# Age conditioned by marital status distribution plot\n",
    "sns.displot(census_data, x = 'Age', hue = 'Marital Status', binwidth = 10)"
   ]
  },
  {
   "cell_type": "markdown",
   "id": "230dcace",
   "metadata": {},
   "source": [
    "- Single people in the population are observed to be the largest chunk."
   ]
  },
  {
   "cell_type": "code",
   "execution_count": 98,
   "id": "743d44cf",
   "metadata": {},
   "outputs": [
    {
     "data": {
      "image/png": "[encoded data removed]",
      "text/plain": [
       "<Figure size 432x288 with 1 Axes>"
      ]
     },
     "metadata": {
      "needs_background": "light"
     },
     "output_type": "display_data"
    }
   ],
   "source": [
    "#Age by Religion Plot\n",
    "sns.boxplot(data = census_data, x = 'Age', y = 'Religion')\n",
    "plt.title('Distribution of Age by Religion')\n",
    "plt.show()"
   ]
  },
  {
   "cell_type": "markdown",
   "id": "b4360aba",
   "metadata": {},
   "source": [
    "- From the plot, it is obvious that the religions Hindu and Agnostic are new or growing judging by the few individuals \n",
    "under both."
   ]
  },
  {
   "cell_type": "code",
   "execution_count": 100,
   "id": "888acee2",
   "metadata": {},
   "outputs": [
    {
     "data": {
      "image/png": "[encoded data removed]",
      "text/plain": [
       "<Figure size 432x288 with 1 Axes>"
      ]
     },
     "metadata": {
      "needs_background": "light"
     },
     "output_type": "display_data"
    }
   ],
   "source": [
    "#Distribution of Individuals by Occupation\n",
    "sns.countplot(x = \"Occupation_Class\", data = census_data)\n",
    "plt.title(\"Distribution of Individuals by Occupation\")\n",
    "plt.show()\n"
   ]
  },
  {
   "cell_type": "markdown",
   "id": "3e62dcae",
   "metadata": {},
   "source": [
    "- The above plot shows that more than half of the population is employed."
   ]
  },
  {
   "cell_type": "code",
   "execution_count": 101,
   "id": "7b7cfdbd",
   "metadata": {},
   "outputs": [
    {
     "data": {
      "image/png": "[encoded data removed]",
      "text/plain": [
       "<Figure size 432.125x360 with 1 Axes>"
      ]
     },
     "metadata": {
      "needs_background": "light"
     },
     "output_type": "display_data"
    }
   ],
   "source": [
    "# distribution of age vs Employment conditioned by gender\n",
    "Unemployed = (census_data[\"Occupation\"]==\"Unemployed\")\n",
    "sns.displot(data=census_data, x='Age',hue='Gender')\n",
    "plt.show()"
   ]
  },
  {
   "cell_type": "markdown",
   "id": "f6c65f57",
   "metadata": {},
   "source": [
    "- Based on the above plot, we seem to have more unemployed females between age 25 and 55."
   ]
  },
  {
   "cell_type": "code",
   "execution_count": 102,
   "id": "efeb3007",
   "metadata": {},
   "outputs": [
    {
     "data": {
      "text/html": [
       "<div>\n",
       "<style scoped>\n",
       "    .dataframe tbody tr th:only-of-type {\n",
       "        vertical-align: middle;\n",
       "    }\n",
       "\n",
       "    .dataframe tbody tr th {\n",
       "        vertical-align: top;\n",
       "    }\n",
       "\n",
       "    .dataframe thead th {\n",
       "        text-align: right;\n",
       "    }\n",
       "</style>\n",
       "<table border=\"1\" class=\"dataframe\">\n",
       "  <thead>\n",
       "    <tr style=\"text-align: right;\">\n",
       "      <th></th>\n",
       "      <th></th>\n",
       "      <th>Age_mean</th>\n",
       "    </tr>\n",
       "    <tr>\n",
       "      <th>Gender</th>\n",
       "      <th>Marital Status</th>\n",
       "      <th></th>\n",
       "    </tr>\n",
       "  </thead>\n",
       "  <tbody>\n",
       "    <tr>\n",
       "      <th rowspan=\"4\" valign=\"top\">Female</th>\n",
       "      <th>Divorced</th>\n",
       "      <td>44.0</td>\n",
       "    </tr>\n",
       "    <tr>\n",
       "      <th>Married</th>\n",
       "      <td>49.0</td>\n",
       "    </tr>\n",
       "    <tr>\n",
       "      <th>Single</th>\n",
       "      <td>26.0</td>\n",
       "    </tr>\n",
       "    <tr>\n",
       "      <th>Widowed</th>\n",
       "      <td>68.0</td>\n",
       "    </tr>\n",
       "    <tr>\n",
       "      <th rowspan=\"4\" valign=\"top\">Male</th>\n",
       "      <th>Divorced</th>\n",
       "      <td>38.0</td>\n",
       "    </tr>\n",
       "    <tr>\n",
       "      <th>Married</th>\n",
       "      <td>51.0</td>\n",
       "    </tr>\n",
       "    <tr>\n",
       "      <th>Single</th>\n",
       "      <td>24.0</td>\n",
       "    </tr>\n",
       "    <tr>\n",
       "      <th>Widowed</th>\n",
       "      <td>68.0</td>\n",
       "    </tr>\n",
       "  </tbody>\n",
       "</table>\n",
       "</div>"
      ],
      "text/plain": [
       "                       Age_mean\n",
       "Gender Marital Status          \n",
       "Female Divorced            44.0\n",
       "       Married             49.0\n",
       "       Single              26.0\n",
       "       Widowed             68.0\n",
       "Male   Divorced            38.0\n",
       "       Married             51.0\n",
       "       Single              24.0\n",
       "       Widowed             68.0"
      ]
     },
     "execution_count": 102,
     "metadata": {},
     "output_type": "execute_result"
    }
   ],
   "source": [
    "#Average age of individuals by gender and marital status\n",
    "meanagemar = census_data.groupby(['Gender','Marital Status']).agg({'Age': ['mean']})\n",
    "meanagemar.columns = ['Age_mean']\n",
    "\n",
    "round(meanagemar)"
   ]
  },
  {
   "cell_type": "code",
   "execution_count": 103,
   "id": "da49e1eb",
   "metadata": {},
   "outputs": [],
   "source": [
    "#To build population age band by gender, we use the function\n",
    "def Age_gender(p):\n",
    "    if p > 110:\n",
    "        return '110+'\n",
    "    elif p > 104 and p < 110:\n",
    "        return '105 - 109'\n",
    "    elif p > 99 and p < 105:\n",
    "        return '100 - 104'    \n",
    "    elif p > 94 and p < 100:\n",
    "        return '95 - 99'\n",
    "    elif p > 89 and p < 95:\n",
    "        return '90 - 94'\n",
    "    elif p > 84 and p < 90:\n",
    "        return '85 - 89'\n",
    "    elif p > 79 and p < 85:\n",
    "        return '80 - 84'\n",
    "    elif p > 74 and p < 80:\n",
    "        return '75 - 79'\n",
    "    elif p > 69 and p < 75:\n",
    "        return '70 - 74'\n",
    "    elif p > 64 and p < 70:\n",
    "        return '65 - 69'\n",
    "    elif p > 59 and p < 65:\n",
    "        return '60 - 64'\n",
    "    elif p > 54 and p < 60:\n",
    "        return '55 - 59'\n",
    "    elif p > 49 and p < 55:\n",
    "        return '50 - 54'\n",
    "    elif p > 44 and p < 50:\n",
    "        return '45 - 49'\n",
    "    elif p > 39 and p < 45:\n",
    "        return '40 - 44'\n",
    "    elif p > 34 and p < 40:\n",
    "        return '35 - 39'\n",
    "    elif p > 29 and p < 35:\n",
    "        return '30 - 34'\n",
    "    elif p > 24 and p < 30:\n",
    "        return '25 - 29'\n",
    "    elif p > 19 and p < 25:\n",
    "        return '20 - 24'\n",
    "    elif p > 14 and p < 20:\n",
    "        return '15 - 19'\n",
    "    elif p > 9 and p < 15:\n",
    "        return '10 - 14'\n",
    "    elif p > 4 and p < 10:\n",
    "        return '5 - 9'\n",
    "    else:\n",
    "        if p < 5:\n",
    "            return '0 - 4'"
   ]
  },
  {
   "cell_type": "code",
   "execution_count": 106,
   "id": "7ef951ab",
   "metadata": {},
   "outputs": [],
   "source": [
    "census_data['Age_col'] = census_data['Age'].apply(lambda p : Age_gender(p))"
   ]
  },
  {
   "cell_type": "code",
   "execution_count": 107,
   "id": "08b297cd",
   "metadata": {},
   "outputs": [
    {
     "data": {
      "text/html": [
       "<div>\n",
       "<style scoped>\n",
       "    .dataframe tbody tr th:only-of-type {\n",
       "        vertical-align: middle;\n",
       "    }\n",
       "\n",
       "    .dataframe tbody tr th {\n",
       "        vertical-align: top;\n",
       "    }\n",
       "\n",
       "    .dataframe thead th {\n",
       "        text-align: right;\n",
       "    }\n",
       "</style>\n",
       "<table border=\"1\" class=\"dataframe\">\n",
       "  <thead>\n",
       "    <tr style=\"text-align: right;\">\n",
       "      <th></th>\n",
       "      <th>House Number</th>\n",
       "      <th>Street</th>\n",
       "      <th>First Name</th>\n",
       "      <th>Surname</th>\n",
       "      <th>Age</th>\n",
       "      <th>Relationship to Head of House</th>\n",
       "      <th>Marital Status</th>\n",
       "      <th>Gender</th>\n",
       "      <th>Occupation</th>\n",
       "      <th>Infirmity</th>\n",
       "      <th>Religion</th>\n",
       "      <th>Occupation_Class</th>\n",
       "      <th>Age_col</th>\n",
       "    </tr>\n",
       "  </thead>\n",
       "  <tbody>\n",
       "    <tr>\n",
       "      <th>0</th>\n",
       "      <td>1</td>\n",
       "      <td>Bastille Plains</td>\n",
       "      <td>Elizabeth</td>\n",
       "      <td>Marshall</td>\n",
       "      <td>39</td>\n",
       "      <td>Head</td>\n",
       "      <td>Married</td>\n",
       "      <td>Female</td>\n",
       "      <td>Further education lecturer</td>\n",
       "      <td>None</td>\n",
       "      <td>Christian</td>\n",
       "      <td>Employed</td>\n",
       "      <td>35 - 39</td>\n",
       "    </tr>\n",
       "    <tr>\n",
       "      <th>1</th>\n",
       "      <td>1</td>\n",
       "      <td>Bastille Plains</td>\n",
       "      <td>Glenn</td>\n",
       "      <td>Marshall</td>\n",
       "      <td>46</td>\n",
       "      <td>Husband</td>\n",
       "      <td>Married</td>\n",
       "      <td>Male</td>\n",
       "      <td>Physiotherapist</td>\n",
       "      <td>None</td>\n",
       "      <td>Christian</td>\n",
       "      <td>Employed</td>\n",
       "      <td>45 - 49</td>\n",
       "    </tr>\n",
       "    <tr>\n",
       "      <th>2</th>\n",
       "      <td>1</td>\n",
       "      <td>Bastille Plains</td>\n",
       "      <td>George</td>\n",
       "      <td>Marshall</td>\n",
       "      <td>9</td>\n",
       "      <td>Son</td>\n",
       "      <td>Single</td>\n",
       "      <td>Male</td>\n",
       "      <td>Student</td>\n",
       "      <td>None</td>\n",
       "      <td>None</td>\n",
       "      <td>Student</td>\n",
       "      <td>5 - 9</td>\n",
       "    </tr>\n",
       "    <tr>\n",
       "      <th>3</th>\n",
       "      <td>2</td>\n",
       "      <td>Bastille Plains</td>\n",
       "      <td>Joanne</td>\n",
       "      <td>Wilson</td>\n",
       "      <td>35</td>\n",
       "      <td>Head</td>\n",
       "      <td>Single</td>\n",
       "      <td>Female</td>\n",
       "      <td>Games developer</td>\n",
       "      <td>None</td>\n",
       "      <td>Christian</td>\n",
       "      <td>Employed</td>\n",
       "      <td>35 - 39</td>\n",
       "    </tr>\n",
       "    <tr>\n",
       "      <th>4</th>\n",
       "      <td>2</td>\n",
       "      <td>Bastille Plains</td>\n",
       "      <td>Hugh</td>\n",
       "      <td>Wilson</td>\n",
       "      <td>10</td>\n",
       "      <td>Son</td>\n",
       "      <td>Single</td>\n",
       "      <td>Male</td>\n",
       "      <td>Student</td>\n",
       "      <td>None</td>\n",
       "      <td>None</td>\n",
       "      <td>Student</td>\n",
       "      <td>10 - 14</td>\n",
       "    </tr>\n",
       "  </tbody>\n",
       "</table>\n",
       "</div>"
      ],
      "text/plain": [
       "   House Number           Street First Name   Surname  Age  \\\n",
       "0             1  Bastille Plains  Elizabeth  Marshall   39   \n",
       "1             1  Bastille Plains      Glenn  Marshall   46   \n",
       "2             1  Bastille Plains     George  Marshall    9   \n",
       "3             2  Bastille Plains     Joanne    Wilson   35   \n",
       "4             2  Bastille Plains       Hugh    Wilson   10   \n",
       "\n",
       "  Relationship to Head of House Marital Status  Gender  \\\n",
       "0                          Head        Married  Female   \n",
       "1                       Husband        Married    Male   \n",
       "2                           Son         Single    Male   \n",
       "3                          Head         Single  Female   \n",
       "4                           Son         Single    Male   \n",
       "\n",
       "                   Occupation Infirmity   Religion Occupation_Class  Age_col  \n",
       "0  Further education lecturer      None  Christian         Employed  35 - 39  \n",
       "1             Physiotherapist      None  Christian         Employed  45 - 49  \n",
       "2                     Student      None       None          Student    5 - 9  \n",
       "3             Games developer      None  Christian         Employed  35 - 39  \n",
       "4                     Student      None       None          Student  10 - 14  "
      ]
     },
     "execution_count": 107,
     "metadata": {},
     "output_type": "execute_result"
    }
   ],
   "source": [
    "census_data.head()"
   ]
  },
  {
   "cell_type": "markdown",
   "id": "21530935",
   "metadata": {},
   "source": [
    "- The age group column named \"Age_col\" has been added to the dataframe above.\n",
    "This is to aid in determning the population age band by gender."
   ]
  },
  {
   "cell_type": "code",
   "execution_count": 108,
   "id": "244a181f",
   "metadata": {},
   "outputs": [
    {
     "data": {
      "text/plain": [
       "Age_col    Gender\n",
       "0 - 4      Female    277\n",
       "           Male      302\n",
       "10 - 14    Female    351\n",
       "           Male      359\n",
       "100 - 104  Female      5\n",
       "           Male       10\n",
       "105 - 109  Female      1\n",
       "           Male        2\n",
       "15 - 19    Female    371\n",
       "           Male      407\n",
       "20 - 24    Female    362\n",
       "           Male      344\n",
       "25 - 29    Female    393\n",
       "           Male      321\n",
       "30 - 34    Female    399\n",
       "           Male      348\n",
       "35 - 39    Female    421\n",
       "           Male      347\n",
       "40 - 44    Female    451\n",
       "           Male      344\n",
       "45 - 49    Female    402\n",
       "           Male      326\n",
       "5 - 9      Female    347\n",
       "           Male      390\n",
       "50 - 54    Female    346\n",
       "           Male      286\n",
       "55 - 59    Female    285\n",
       "           Male      278\n",
       "60 - 64    Female    202\n",
       "           Male      211\n",
       "65 - 69    Female    176\n",
       "           Male      148\n",
       "70 - 74    Female    177\n",
       "           Male      127\n",
       "75 - 79    Female    115\n",
       "           Male       99\n",
       "80 - 84    Female     70\n",
       "           Male       78\n",
       "85 - 89    Female     41\n",
       "           Male       36\n",
       "90 - 94    Female      6\n",
       "           Male       10\n",
       "95 - 99    Female      5\n",
       "dtype: int64"
      ]
     },
     "execution_count": 108,
     "metadata": {},
     "output_type": "execute_result"
    }
   ],
   "source": [
    "census_data.groupby(['Age_col', 'Gender']).size()"
   ]
  },
  {
   "cell_type": "code",
   "execution_count": 109,
   "id": "99a00707",
   "metadata": {},
   "outputs": [
    {
     "name": "stdout",
     "output_type": "stream",
     "text": [
      "<class 'pandas.core.frame.DataFrame'>\n",
      "Int64Index: 9976 entries, 0 to 9978\n",
      "Data columns (total 13 columns):\n",
      "House Number                     9976 non-null int64\n",
      "Street                           9976 non-null object\n",
      "First Name                       9976 non-null object\n",
      "Surname                          9976 non-null object\n",
      "Age                              9976 non-null int64\n",
      "Relationship to Head of House    9976 non-null object\n",
      "Marital Status                   9976 non-null object\n",
      "Gender                           9976 non-null object\n",
      "Occupation                       9976 non-null object\n",
      "Infirmity                        9976 non-null object\n",
      "Religion                         9976 non-null object\n",
      "Occupation_Class                 9976 non-null object\n",
      "Age_col                          9976 non-null object\n",
      "dtypes: int64(2), object(11)\n",
      "memory usage: 1.4+ MB\n"
     ]
    }
   ],
   "source": [
    "census_data.info() #Adding 'Age col' to our cleaned data"
   ]
  },
  {
   "cell_type": "code",
   "execution_count": 110,
   "id": "d2e57233",
   "metadata": {},
   "outputs": [
    {
     "data": {
      "text/plain": [
       "0"
      ]
     },
     "execution_count": 110,
     "metadata": {},
     "output_type": "execute_result"
    }
   ],
   "source": [
    "census_data['Age_col'].isna().sum()"
   ]
  },
  {
   "cell_type": "code",
   "execution_count": 111,
   "id": "599ba14d",
   "metadata": {},
   "outputs": [
    {
     "data": {
      "text/plain": [
       "array(['35 - 39', '45 - 49', '5 - 9', '10 - 14', '50 - 54', '60 - 64',\n",
       "       '30 - 34', '75 - 79', '20 - 24', '15 - 19', '25 - 29', '0 - 4',\n",
       "       '40 - 44', '65 - 69', '70 - 74', '55 - 59', '80 - 84', '85 - 89',\n",
       "       '90 - 94', '95 - 99', '100 - 104', '105 - 109'], dtype=object)"
      ]
     },
     "execution_count": 111,
     "metadata": {},
     "output_type": "execute_result"
    }
   ],
   "source": [
    "census_data['Age_col'].unique()"
   ]
  },
  {
   "cell_type": "code",
   "execution_count": 112,
   "id": "d5841335",
   "metadata": {},
   "outputs": [
    {
     "name": "stdout",
     "output_type": "stream",
     "text": [
      "40 - 44      795\n",
      "15 - 19      778\n",
      "35 - 39      768\n",
      "30 - 34      747\n",
      "5 - 9        737\n",
      "45 - 49      728\n",
      "25 - 29      714\n",
      "10 - 14      710\n",
      "20 - 24      706\n",
      "50 - 54      632\n",
      "0 - 4        579\n",
      "55 - 59      563\n",
      "60 - 64      413\n",
      "65 - 69      324\n",
      "70 - 74      304\n",
      "75 - 79      214\n",
      "80 - 84      148\n",
      "85 - 89       77\n",
      "90 - 94       16\n",
      "100 - 104     15\n",
      "95 - 99        5\n",
      "105 - 109      3\n",
      "Name: Age_col, dtype: int64\n"
     ]
    }
   ],
   "source": [
    "print(census_data['Age_col'].value_counts() )"
   ]
  },
  {
   "cell_type": "code",
   "execution_count": 113,
   "id": "978179bb",
   "metadata": {},
   "outputs": [],
   "source": [
    "Census2data = pd.DataFrame({'Age':['0-4','5-9','10-14','15-19','20-24','25-29','30-34','35-39','40-44','45-49',\n",
    "                                   '50-54','55-59','60-64','65-69','70-74','75-79','80-84','85-89','90-94','95-99','100-104','105-109','110+'],\n",
    "                           'male':[-302,-390,-359,-408,-344,-321,-348,-347,-344,-326,-286,-278,-211,-148,-127,-99,-78,-36,-10,0,-10,-2,0],\n",
    "                           'female':[278,347,351,372,362,393,399,421,451,402,346,285,202,176,177,115,70,41,6,5,5,1,0]})\n",
    "Age_class = ['110+','105-109','100-104','95-99','90-94','85-89','80-84','75-79','70-74','65-69','60-64','55-59','50-54','45-49','40-44','35-39','30-34','25-29','20-24','15-19','10-14','5-9','0-4']"
   ]
  },
  {
   "cell_type": "code",
   "execution_count": 114,
   "id": "d408428f",
   "metadata": {
    "scrolled": false
   },
   "outputs": [
    {
     "data": {
      "image/png": "[encoded data removed]",
      "text/plain": [
       "<Figure size 432x288 with 1 Axes>"
      ]
     },
     "metadata": {
      "needs_background": "light"
     },
     "output_type": "display_data"
    }
   ],
   "source": [
    "Population_Pyramid = sns.barplot(x = 'male', y = 'Age', data= Census2data, order = Age_class, color= ('green'), label='Male')\n",
    "Population_Pyramid = sns.barplot(x = 'female', y = 'Age', data= Census2data, order = Age_class, color= ('blue'), label='Female')\n",
    "Population_Pyramid.legend()\n",
    "\n",
    "plt.title('Population~Pyramid')\n",
    "Population_Pyramid.set(xlabel='Population', ylabel= 'Age_class')\n",
    "sns.set(rc={'figure.figsize':(20,10)})"
   ]
  },
  {
   "cell_type": "markdown",
   "id": "6ae0c330",
   "metadata": {},
   "source": [
    "- The population pyramid above shows the distribution by age and gender.\n",
    "- It is obvious that there are more females than male respondents.\n",
    "- We can also see that there are fewer aged individuals in the population particularly from 60 years upwards."
   ]
  },
  {
   "cell_type": "code",
   "execution_count": 115,
   "id": "db329b77",
   "metadata": {},
   "outputs": [],
   "source": [
    "census_data.to_csv('census_data.csv')"
   ]
  },
  {
   "cell_type": "code",
   "execution_count": 116,
   "id": "52e06661",
   "metadata": {},
   "outputs": [
    {
     "data": {
      "text/html": [
       "<div>\n",
       "<style scoped>\n",
       "    .dataframe tbody tr th:only-of-type {\n",
       "        vertical-align: middle;\n",
       "    }\n",
       "\n",
       "    .dataframe tbody tr th {\n",
       "        vertical-align: top;\n",
       "    }\n",
       "\n",
       "    .dataframe thead th {\n",
       "        text-align: right;\n",
       "    }\n",
       "</style>\n",
       "<table border=\"1\" class=\"dataframe\">\n",
       "  <thead>\n",
       "    <tr style=\"text-align: right;\">\n",
       "      <th></th>\n",
       "      <th>Unnamed: 0</th>\n",
       "      <th>House Number</th>\n",
       "      <th>Street</th>\n",
       "      <th>First Name</th>\n",
       "      <th>Surname</th>\n",
       "      <th>Age</th>\n",
       "      <th>Relationship to Head of House</th>\n",
       "      <th>Marital Status</th>\n",
       "      <th>Gender</th>\n",
       "      <th>Occupation</th>\n",
       "      <th>Infirmity</th>\n",
       "      <th>Religion</th>\n",
       "      <th>Occupation_Class</th>\n",
       "      <th>Age_col</th>\n",
       "    </tr>\n",
       "  </thead>\n",
       "  <tbody>\n",
       "    <tr>\n",
       "      <th>0</th>\n",
       "      <td>0</td>\n",
       "      <td>1</td>\n",
       "      <td>Bastille Plains</td>\n",
       "      <td>Elizabeth</td>\n",
       "      <td>Marshall</td>\n",
       "      <td>39</td>\n",
       "      <td>Head</td>\n",
       "      <td>Married</td>\n",
       "      <td>Female</td>\n",
       "      <td>Further education lecturer</td>\n",
       "      <td>None</td>\n",
       "      <td>Christian</td>\n",
       "      <td>Employed</td>\n",
       "      <td>35 - 39</td>\n",
       "    </tr>\n",
       "    <tr>\n",
       "      <th>1</th>\n",
       "      <td>1</td>\n",
       "      <td>1</td>\n",
       "      <td>Bastille Plains</td>\n",
       "      <td>Glenn</td>\n",
       "      <td>Marshall</td>\n",
       "      <td>46</td>\n",
       "      <td>Husband</td>\n",
       "      <td>Married</td>\n",
       "      <td>Male</td>\n",
       "      <td>Physiotherapist</td>\n",
       "      <td>None</td>\n",
       "      <td>Christian</td>\n",
       "      <td>Employed</td>\n",
       "      <td>45 - 49</td>\n",
       "    </tr>\n",
       "    <tr>\n",
       "      <th>2</th>\n",
       "      <td>2</td>\n",
       "      <td>1</td>\n",
       "      <td>Bastille Plains</td>\n",
       "      <td>George</td>\n",
       "      <td>Marshall</td>\n",
       "      <td>9</td>\n",
       "      <td>Son</td>\n",
       "      <td>Single</td>\n",
       "      <td>Male</td>\n",
       "      <td>Student</td>\n",
       "      <td>None</td>\n",
       "      <td>None</td>\n",
       "      <td>Student</td>\n",
       "      <td>5 - 9</td>\n",
       "    </tr>\n",
       "    <tr>\n",
       "      <th>3</th>\n",
       "      <td>3</td>\n",
       "      <td>2</td>\n",
       "      <td>Bastille Plains</td>\n",
       "      <td>Joanne</td>\n",
       "      <td>Wilson</td>\n",
       "      <td>35</td>\n",
       "      <td>Head</td>\n",
       "      <td>Single</td>\n",
       "      <td>Female</td>\n",
       "      <td>Games developer</td>\n",
       "      <td>None</td>\n",
       "      <td>Christian</td>\n",
       "      <td>Employed</td>\n",
       "      <td>35 - 39</td>\n",
       "    </tr>\n",
       "    <tr>\n",
       "      <th>4</th>\n",
       "      <td>4</td>\n",
       "      <td>2</td>\n",
       "      <td>Bastille Plains</td>\n",
       "      <td>Hugh</td>\n",
       "      <td>Wilson</td>\n",
       "      <td>10</td>\n",
       "      <td>Son</td>\n",
       "      <td>Single</td>\n",
       "      <td>Male</td>\n",
       "      <td>Student</td>\n",
       "      <td>None</td>\n",
       "      <td>None</td>\n",
       "      <td>Student</td>\n",
       "      <td>10 - 14</td>\n",
       "    </tr>\n",
       "    <tr>\n",
       "      <th>...</th>\n",
       "      <td>...</td>\n",
       "      <td>...</td>\n",
       "      <td>...</td>\n",
       "      <td>...</td>\n",
       "      <td>...</td>\n",
       "      <td>...</td>\n",
       "      <td>...</td>\n",
       "      <td>...</td>\n",
       "      <td>...</td>\n",
       "      <td>...</td>\n",
       "      <td>...</td>\n",
       "      <td>...</td>\n",
       "      <td>...</td>\n",
       "      <td>...</td>\n",
       "    </tr>\n",
       "    <tr>\n",
       "      <th>9971</th>\n",
       "      <td>9974</td>\n",
       "      <td>1</td>\n",
       "      <td>Stephenson Ranch</td>\n",
       "      <td>Josh</td>\n",
       "      <td>Hussain</td>\n",
       "      <td>23</td>\n",
       "      <td>None</td>\n",
       "      <td>Single</td>\n",
       "      <td>Male</td>\n",
       "      <td>Special effects artist</td>\n",
       "      <td>None</td>\n",
       "      <td>Christian</td>\n",
       "      <td>Employed</td>\n",
       "      <td>20 - 24</td>\n",
       "    </tr>\n",
       "    <tr>\n",
       "      <th>9972</th>\n",
       "      <td>9975</td>\n",
       "      <td>1</td>\n",
       "      <td>Stephenson Ranch</td>\n",
       "      <td>Raymond</td>\n",
       "      <td>Baker</td>\n",
       "      <td>40</td>\n",
       "      <td>None</td>\n",
       "      <td>Single</td>\n",
       "      <td>Male</td>\n",
       "      <td>Restaurant manager</td>\n",
       "      <td>None</td>\n",
       "      <td>None</td>\n",
       "      <td>Employed</td>\n",
       "      <td>40 - 44</td>\n",
       "    </tr>\n",
       "    <tr>\n",
       "      <th>9973</th>\n",
       "      <td>9976</td>\n",
       "      <td>1</td>\n",
       "      <td>Stephenson Ranch</td>\n",
       "      <td>Shaun</td>\n",
       "      <td>Stanley</td>\n",
       "      <td>39</td>\n",
       "      <td>None</td>\n",
       "      <td>Single</td>\n",
       "      <td>Male</td>\n",
       "      <td>Market researcher</td>\n",
       "      <td>None</td>\n",
       "      <td>None</td>\n",
       "      <td>Employed</td>\n",
       "      <td>35 - 39</td>\n",
       "    </tr>\n",
       "    <tr>\n",
       "      <th>9974</th>\n",
       "      <td>9977</td>\n",
       "      <td>1</td>\n",
       "      <td>Stephenson Ranch</td>\n",
       "      <td>Katie</td>\n",
       "      <td>Douglas</td>\n",
       "      <td>44</td>\n",
       "      <td>None</td>\n",
       "      <td>Single</td>\n",
       "      <td>Female</td>\n",
       "      <td>Homeopath</td>\n",
       "      <td>None</td>\n",
       "      <td>None</td>\n",
       "      <td>Employed</td>\n",
       "      <td>40 - 44</td>\n",
       "    </tr>\n",
       "    <tr>\n",
       "      <th>9975</th>\n",
       "      <td>9978</td>\n",
       "      <td>1</td>\n",
       "      <td>Stephenson Ranch</td>\n",
       "      <td>Abigail</td>\n",
       "      <td>Davies</td>\n",
       "      <td>29</td>\n",
       "      <td>None</td>\n",
       "      <td>Single</td>\n",
       "      <td>Female</td>\n",
       "      <td>Psychotherapist, child</td>\n",
       "      <td>None</td>\n",
       "      <td>Christian</td>\n",
       "      <td>Employed</td>\n",
       "      <td>25 - 29</td>\n",
       "    </tr>\n",
       "  </tbody>\n",
       "</table>\n",
       "<p>9976 rows × 14 columns</p>\n",
       "</div>"
      ],
      "text/plain": [
       "      Unnamed: 0  House Number            Street First Name   Surname  Age  \\\n",
       "0              0             1   Bastille Plains  Elizabeth  Marshall   39   \n",
       "1              1             1   Bastille Plains      Glenn  Marshall   46   \n",
       "2              2             1   Bastille Plains     George  Marshall    9   \n",
       "3              3             2   Bastille Plains     Joanne    Wilson   35   \n",
       "4              4             2   Bastille Plains       Hugh    Wilson   10   \n",
       "...          ...           ...               ...        ...       ...  ...   \n",
       "9971        9974             1  Stephenson Ranch       Josh   Hussain   23   \n",
       "9972        9975             1  Stephenson Ranch    Raymond     Baker   40   \n",
       "9973        9976             1  Stephenson Ranch      Shaun   Stanley   39   \n",
       "9974        9977             1  Stephenson Ranch      Katie   Douglas   44   \n",
       "9975        9978             1  Stephenson Ranch    Abigail    Davies   29   \n",
       "\n",
       "     Relationship to Head of House Marital Status  Gender  \\\n",
       "0                             Head        Married  Female   \n",
       "1                          Husband        Married    Male   \n",
       "2                              Son         Single    Male   \n",
       "3                             Head         Single  Female   \n",
       "4                              Son         Single    Male   \n",
       "...                            ...            ...     ...   \n",
       "9971                          None         Single    Male   \n",
       "9972                          None         Single    Male   \n",
       "9973                          None         Single    Male   \n",
       "9974                          None         Single  Female   \n",
       "9975                          None         Single  Female   \n",
       "\n",
       "                      Occupation Infirmity   Religion Occupation_Class  \\\n",
       "0     Further education lecturer      None  Christian         Employed   \n",
       "1                Physiotherapist      None  Christian         Employed   \n",
       "2                        Student      None       None          Student   \n",
       "3                Games developer      None  Christian         Employed   \n",
       "4                        Student      None       None          Student   \n",
       "...                          ...       ...        ...              ...   \n",
       "9971      Special effects artist      None  Christian         Employed   \n",
       "9972          Restaurant manager      None       None         Employed   \n",
       "9973           Market researcher      None       None         Employed   \n",
       "9974                   Homeopath      None       None         Employed   \n",
       "9975      Psychotherapist, child      None  Christian         Employed   \n",
       "\n",
       "      Age_col  \n",
       "0     35 - 39  \n",
       "1     45 - 49  \n",
       "2       5 - 9  \n",
       "3     35 - 39  \n",
       "4     10 - 14  \n",
       "...       ...  \n",
       "9971  20 - 24  \n",
       "9972  40 - 44  \n",
       "9973  35 - 39  \n",
       "9974  40 - 44  \n",
       "9975  25 - 29  \n",
       "\n",
       "[9976 rows x 14 columns]"
      ]
     },
     "execution_count": 116,
     "metadata": {},
     "output_type": "execute_result"
    }
   ],
   "source": [
    "census_09 = pd.read_csv('census_data.csv', delimiter=',')\n",
    "census_09"
   ]
  },
  {
   "cell_type": "code",
   "execution_count": 117,
   "id": "e5f609b7",
   "metadata": {},
   "outputs": [],
   "source": [
    "totalpopulation = len(census_09)"
   ]
  },
  {
   "cell_type": "code",
   "execution_count": 118,
   "id": "a89dd7d3",
   "metadata": {},
   "outputs": [
    {
     "data": {
      "text/plain": [
       "9976"
      ]
     },
     "execution_count": 118,
     "metadata": {},
     "output_type": "execute_result"
    }
   ],
   "source": [
    "totalpopulation"
   ]
  },
  {
   "cell_type": "markdown",
   "id": "92f7fdb2",
   "metadata": {},
   "source": [
    "# Crude Birth Rate"
   ]
  },
  {
   "attachments": {
    "image.png": {
     "image/png": "[encoded data removed]"
    }
   },
   "cell_type": "markdown",
   "id": "dd0eecca",
   "metadata": {},
   "source": [
    "![image.png](attachment:image.png)"
   ]
  },
  {
   "cell_type": "code",
   "execution_count": 119,
   "id": "72d08c05",
   "metadata": {},
   "outputs": [
    {
     "data": {
      "text/plain": [
       "89"
      ]
     },
     "execution_count": 119,
     "metadata": {},
     "output_type": "execute_result"
    }
   ],
   "source": [
    "len(census_09[census_09['Age'] == 0]) # a proxy of children born in the census year"
   ]
  },
  {
   "cell_type": "code",
   "execution_count": 120,
   "id": "11fa0846",
   "metadata": {},
   "outputs": [
    {
     "name": "stdout",
     "output_type": "stream",
     "text": [
      "8.9 births per thousand\n"
     ]
    }
   ],
   "source": [
    "livebirths = len(census_09[census_09['Age'] == 0])\n",
    "# cbrate = Crude Birth Rate\n",
    "cbrate = (livebirths/totalpopulation)*1000\n",
    "#cbrate\n",
    "print(f\"{cbrate:.1f} births per thousand\")"
   ]
  },
  {
   "cell_type": "code",
   "execution_count": 121,
   "id": "6c6cf912",
   "metadata": {},
   "outputs": [
    {
     "name": "stdout",
     "output_type": "stream",
     "text": [
      "Present Crude Birthrate is : 8.9 births per 1000\n",
      "Previous Crude Birthrate was : 13.3 births per 1000\n",
      "Present CBR Change from Previous is: -4.4 births per 1000\n"
     ]
    }
   ],
   "source": [
    "#To determine current crude birth rate,previous birth rate and change in crude birth rate\n",
    "#We take children with age 0 as a proxy of children born in the census year\n",
    "#we take children age 4 (bage4) as born during the last census\n",
    "#and children age 8 (bage8) as born in the previous census\n",
    "\n",
    "bage0 = census_09['Age']== 0\n",
    "bage4 = census_09['Age']== 4\n",
    "bage8 = census_09['Age']== 8\n",
    "\n",
    "crudebr = (len(census_09[bage0])/totalpopulation)*1000 \n",
    "\n",
    "crudebr4year = (len(census_09[bage4])/len(census_09))*1000\n",
    "\n",
    "print(f\"Present Crude Birthrate is : {crudebr:.1f} births per 1000\")\n",
    "print(f\"Previous Crude Birthrate was : {crudebr4year:.1f} births per 1000\")\n",
    "\n",
    "\n",
    "print(f\"Present CBR Change from Previous is: {crudebr-crudebr4year:.1f} births per 1000\")\n"
   ]
  },
  {
   "cell_type": "markdown",
   "id": "67ab6d60",
   "metadata": {},
   "source": [
    "# Crude Death Rate"
   ]
  },
  {
   "attachments": {
    "image.png": {
     "image/png": "[encoded data removed]"
    }
   },
   "cell_type": "markdown",
   "id": "7a0f7c1c",
   "metadata": {},
   "source": [
    "![image.png](attachment:image.png)"
   ]
  },
  {
   "cell_type": "code",
   "execution_count": 122,
   "id": "5274bc96",
   "metadata": {},
   "outputs": [
    {
     "data": {
      "text/plain": [
       "Age\n",
       "107     1\n",
       "105     2\n",
       "104     3\n",
       "103     1\n",
       "102     4\n",
       "101     4\n",
       "100     3\n",
       "99      1\n",
       "98      2\n",
       "97      2\n",
       "94      3\n",
       "93      5\n",
       "92      1\n",
       "91      3\n",
       "90      4\n",
       "89      9\n",
       "88     10\n",
       "87     20\n",
       "86     22\n",
       "85     16\n",
       "84     27\n",
       "83     37\n",
       "82     34\n",
       "81     25\n",
       "80     25\n",
       "79     40\n",
       "78     35\n",
       "77     51\n",
       "76     37\n",
       "75     51\n",
       "74     51\n",
       "73     62\n",
       "72     65\n",
       "71     52\n",
       "70     74\n",
       "69     52\n",
       "68     79\n",
       "67     62\n",
       "66     61\n",
       "65     70\n",
       "dtype: int64"
      ]
     },
     "execution_count": 122,
     "metadata": {},
     "output_type": "execute_result"
    }
   ],
   "source": [
    "aging_population = census_09[census_09['Age'].between(65,107)].groupby('Age').size().sort_index(ascending=False)\n",
    "aging_population"
   ]
  },
  {
   "cell_type": "code",
   "execution_count": 123,
   "id": "b7d1d9cc",
   "metadata": {},
   "outputs": [
    {
     "data": {
      "text/plain": [
       "Age\n",
       "107     2.0\n",
       "105     3.0\n",
       "104     1.0\n",
       "103     4.0\n",
       "102     4.0\n",
       "101     3.0\n",
       "100     1.0\n",
       "99      2.0\n",
       "98      2.0\n",
       "97      3.0\n",
       "94      5.0\n",
       "93      1.0\n",
       "92      3.0\n",
       "91      4.0\n",
       "90      9.0\n",
       "89     10.0\n",
       "88     20.0\n",
       "87     22.0\n",
       "86     16.0\n",
       "85     27.0\n",
       "84     37.0\n",
       "83     34.0\n",
       "82     25.0\n",
       "81     25.0\n",
       "80     40.0\n",
       "79     35.0\n",
       "78     51.0\n",
       "77     37.0\n",
       "76     51.0\n",
       "75     51.0\n",
       "74     62.0\n",
       "73     65.0\n",
       "72     52.0\n",
       "71     74.0\n",
       "70     52.0\n",
       "69     79.0\n",
       "68     62.0\n",
       "67     61.0\n",
       "66     70.0\n",
       "65      NaN\n",
       "dtype: float64"
      ]
     },
     "execution_count": 123,
     "metadata": {},
     "output_type": "execute_result"
    }
   ],
   "source": [
    "# shift the ages up one to mimic last year's 'counts' per age\n",
    "\n",
    "calculated_ages = aging_population.shift(-1)\n",
    "calculated_ages"
   ]
  },
  {
   "cell_type": "code",
   "execution_count": 124,
   "id": "20f994e5",
   "metadata": {
    "scrolled": false
   },
   "outputs": [
    {
     "data": {
      "text/html": [
       "<div>\n",
       "<style scoped>\n",
       "    .dataframe tbody tr th:only-of-type {\n",
       "        vertical-align: middle;\n",
       "    }\n",
       "\n",
       "    .dataframe tbody tr th {\n",
       "        vertical-align: top;\n",
       "    }\n",
       "\n",
       "    .dataframe thead th {\n",
       "        text-align: right;\n",
       "    }\n",
       "</style>\n",
       "<table border=\"1\" class=\"dataframe\">\n",
       "  <thead>\n",
       "    <tr style=\"text-align: right;\">\n",
       "      <th></th>\n",
       "      <th>Age</th>\n",
       "      <th>Count</th>\n",
       "    </tr>\n",
       "  </thead>\n",
       "  <tbody>\n",
       "    <tr>\n",
       "      <th>0</th>\n",
       "      <td>107</td>\n",
       "      <td>-1.0</td>\n",
       "    </tr>\n",
       "    <tr>\n",
       "      <th>1</th>\n",
       "      <td>105</td>\n",
       "      <td>-1.0</td>\n",
       "    </tr>\n",
       "    <tr>\n",
       "      <th>3</th>\n",
       "      <td>103</td>\n",
       "      <td>-3.0</td>\n",
       "    </tr>\n",
       "    <tr>\n",
       "      <th>7</th>\n",
       "      <td>99</td>\n",
       "      <td>-1.0</td>\n",
       "    </tr>\n",
       "    <tr>\n",
       "      <th>9</th>\n",
       "      <td>97</td>\n",
       "      <td>-1.0</td>\n",
       "    </tr>\n",
       "    <tr>\n",
       "      <th>10</th>\n",
       "      <td>94</td>\n",
       "      <td>-2.0</td>\n",
       "    </tr>\n",
       "    <tr>\n",
       "      <th>12</th>\n",
       "      <td>92</td>\n",
       "      <td>-2.0</td>\n",
       "    </tr>\n",
       "    <tr>\n",
       "      <th>13</th>\n",
       "      <td>91</td>\n",
       "      <td>-1.0</td>\n",
       "    </tr>\n",
       "    <tr>\n",
       "      <th>14</th>\n",
       "      <td>90</td>\n",
       "      <td>-5.0</td>\n",
       "    </tr>\n",
       "    <tr>\n",
       "      <th>15</th>\n",
       "      <td>89</td>\n",
       "      <td>-1.0</td>\n",
       "    </tr>\n",
       "    <tr>\n",
       "      <th>16</th>\n",
       "      <td>88</td>\n",
       "      <td>-10.0</td>\n",
       "    </tr>\n",
       "    <tr>\n",
       "      <th>17</th>\n",
       "      <td>87</td>\n",
       "      <td>-2.0</td>\n",
       "    </tr>\n",
       "    <tr>\n",
       "      <th>19</th>\n",
       "      <td>85</td>\n",
       "      <td>-11.0</td>\n",
       "    </tr>\n",
       "    <tr>\n",
       "      <th>20</th>\n",
       "      <td>84</td>\n",
       "      <td>-10.0</td>\n",
       "    </tr>\n",
       "    <tr>\n",
       "      <th>24</th>\n",
       "      <td>80</td>\n",
       "      <td>-15.0</td>\n",
       "    </tr>\n",
       "    <tr>\n",
       "      <th>26</th>\n",
       "      <td>78</td>\n",
       "      <td>-16.0</td>\n",
       "    </tr>\n",
       "    <tr>\n",
       "      <th>28</th>\n",
       "      <td>76</td>\n",
       "      <td>-14.0</td>\n",
       "    </tr>\n",
       "    <tr>\n",
       "      <th>30</th>\n",
       "      <td>74</td>\n",
       "      <td>-11.0</td>\n",
       "    </tr>\n",
       "    <tr>\n",
       "      <th>31</th>\n",
       "      <td>73</td>\n",
       "      <td>-3.0</td>\n",
       "    </tr>\n",
       "    <tr>\n",
       "      <th>33</th>\n",
       "      <td>71</td>\n",
       "      <td>-22.0</td>\n",
       "    </tr>\n",
       "    <tr>\n",
       "      <th>35</th>\n",
       "      <td>69</td>\n",
       "      <td>-27.0</td>\n",
       "    </tr>\n",
       "    <tr>\n",
       "      <th>38</th>\n",
       "      <td>66</td>\n",
       "      <td>-9.0</td>\n",
       "    </tr>\n",
       "  </tbody>\n",
       "</table>\n",
       "</div>"
      ],
      "text/plain": [
       "    Age  Count\n",
       "0   107   -1.0\n",
       "1   105   -1.0\n",
       "3   103   -3.0\n",
       "7    99   -1.0\n",
       "9    97   -1.0\n",
       "10   94   -2.0\n",
       "12   92   -2.0\n",
       "13   91   -1.0\n",
       "14   90   -5.0\n",
       "15   89   -1.0\n",
       "16   88  -10.0\n",
       "17   87   -2.0\n",
       "19   85  -11.0\n",
       "20   84  -10.0\n",
       "24   80  -15.0\n",
       "26   78  -16.0\n",
       "28   76  -14.0\n",
       "30   74  -11.0\n",
       "31   73   -3.0\n",
       "33   71  -22.0\n",
       "35   69  -27.0\n",
       "38   66   -9.0"
      ]
     },
     "execution_count": 124,
     "metadata": {},
     "output_type": "execute_result"
    }
   ],
   "source": [
    "# calculate the difference between our two sets\n",
    "\n",
    "diff = aging_population - calculated_ages\n",
    "\n",
    "# change it to a dataframe...\n",
    "\n",
    "diff = diff.reset_index(name='Count')\n",
    "\n",
    "# We're only interested in deaths, not emigration!! So we're interested in negative counts only\n",
    "\n",
    "deaths = diff[diff['Count'] < 0]\n",
    "deaths"
   ]
  },
  {
   "cell_type": "markdown",
   "id": "500c2822",
   "metadata": {},
   "source": [
    "- This is merely the difference between individual years as a proxy for current year and previous year"
   ]
  },
  {
   "cell_type": "code",
   "execution_count": 125,
   "id": "3f42523e",
   "metadata": {},
   "outputs": [
    {
     "name": "stdout",
     "output_type": "stream",
     "text": [
      "16.8 deaths per thousand\n"
     ]
    }
   ],
   "source": [
    "death_rate = abs(((deaths['Count']).sum())/totalpopulation)*1000\n",
    "#death_rate\n",
    "print(f\"{death_rate:.1f} deaths per thousand\")"
   ]
  },
  {
   "cell_type": "markdown",
   "id": "926dd80c",
   "metadata": {},
   "source": [
    "# Crude Growth Rate"
   ]
  },
  {
   "cell_type": "code",
   "execution_count": 126,
   "id": "212d2e07",
   "metadata": {},
   "outputs": [
    {
     "name": "stdout",
     "output_type": "stream",
     "text": [
      "CGR -7.9\n",
      "CGR as Percentage -0.79%\n"
     ]
    }
   ],
   "source": [
    "#Crude Birth Rate - Crude Death Rate = Crude Growth Rate\n",
    "\n",
    "print(f\"CGR {crudebr - death_rate:.1f}\")\n",
    "print(f\"CGR as Percentage {(crudebr-death_rate)/10:.2f}%\")  #division by 10 to get percentage"
   ]
  },
  {
   "cell_type": "markdown",
   "id": "4f3d072b",
   "metadata": {},
   "source": [
    "# Population Change"
   ]
  },
  {
   "attachments": {
    "image.png": {
     "image/png": "[encoded data removed]"
    }
   },
   "cell_type": "markdown",
   "id": "4ddc9a6b",
   "metadata": {},
   "source": [
    "![image.png](attachment:image.png)"
   ]
  },
  {
   "cell_type": "code",
   "execution_count": 127,
   "id": "ca071f4e",
   "metadata": {
    "scrolled": true
   },
   "outputs": [
    {
     "name": "stdout",
     "output_type": "stream",
     "text": [
      "Groups in Marital Status by Gender:\n",
      "  Marital Status  Gender  Count\n",
      "0       Divorced  Female    601\n",
      "1       Divorced    Male    369\n",
      "2        Married  Female   1412\n",
      "3        Married    Male   1396\n",
      "4         Single  Female   2960\n",
      "5         Single    Male   2826\n",
      "6        Widowed  Female    230\n",
      "7        Widowed    Male    182\n"
     ]
    }
   ],
   "source": [
    "#emigrants (migration out) = divorced female - divorced male\n",
    "# To get emigrants, group by Marital Status and Gender\n",
    "print(\"Groups in Marital Status by Gender:\")\n",
    "Msgen_groups = census_09.groupby([\"Marital Status\",\"Gender\"])\n",
    "for group_key, group_value in Msgen_groups:\n",
    "    Msgen_group = Msgen_groups.get_group(group_key)\n",
    "    #print(\"Count of each group:\")\n",
    "    Msgen_grouped = census_09.groupby([\"Marital Status\", \"Gender\"]\n",
    "                                     ).size().reset_index(name=\"Count\")\n",
    "print(Msgen_grouped)\n",
    "    #print(\"\")\n",
    "# reference https://www.delftstack.com/howto/python-pandas/pandas-groupby-two-columns/  "
   ]
  },
  {
   "attachments": {
    "image.png": {
     "image/png": "[encoded data removed]"
    }
   },
   "cell_type": "markdown",
   "id": "0f639667",
   "metadata": {},
   "source": [
    "Number of divorced male = 369\n",
    "![image.png](attachment:image.png)\n"
   ]
  },
  {
   "cell_type": "markdown",
   "id": "431c2937",
   "metadata": {},
   "source": [
    "Number_of_emigrants =  divorced_female - divorced_male"
   ]
  },
  {
   "cell_type": "code",
   "execution_count": 128,
   "id": "8989d6a5",
   "metadata": {},
   "outputs": [],
   "source": [
    "Number_of_emigrants = 601 - 369"
   ]
  },
  {
   "cell_type": "code",
   "execution_count": 129,
   "id": "6d5445dc",
   "metadata": {},
   "outputs": [
    {
     "data": {
      "text/plain": [
       "232"
      ]
     },
     "execution_count": 129,
     "metadata": {},
     "output_type": "execute_result"
    }
   ],
   "source": [
    "Number_of_emigrants"
   ]
  },
  {
   "cell_type": "code",
   "execution_count": 130,
   "id": "5cd5de2a",
   "metadata": {},
   "outputs": [],
   "source": [
    "emigrants_per_thousand = 232/10"
   ]
  },
  {
   "cell_type": "code",
   "execution_count": 131,
   "id": "7f527a6e",
   "metadata": {},
   "outputs": [
    {
     "data": {
      "text/plain": [
       "23.2"
      ]
     },
     "execution_count": 131,
     "metadata": {},
     "output_type": "execute_result"
    }
   ],
   "source": [
    "emigrants_per_thousand"
   ]
  },
  {
   "cell_type": "code",
   "execution_count": 132,
   "id": "b4915008",
   "metadata": {},
   "outputs": [],
   "source": [
    "#immigrants = number of lodgers + visitors\n",
    "lodgers = len(census_09[census_09['Relationship to Head of House'] == 'Lodger'])\n",
    "visitors = len(census_09[census_09['Relationship to Head of House'] == 'Visitor'])"
   ]
  },
  {
   "cell_type": "code",
   "execution_count": 133,
   "id": "3179a598",
   "metadata": {},
   "outputs": [
    {
     "data": {
      "text/plain": [
       "402"
      ]
     },
     "execution_count": 133,
     "metadata": {},
     "output_type": "execute_result"
    }
   ],
   "source": [
    "lodgers + visitors"
   ]
  },
  {
   "cell_type": "code",
   "execution_count": 134,
   "id": "bae040ea",
   "metadata": {},
   "outputs": [
    {
     "data": {
      "text/plain": [
       "242"
      ]
     },
     "execution_count": 134,
     "metadata": {},
     "output_type": "execute_result"
    }
   ],
   "source": [
    "# Of the 402 lodgers and visitors, there are university students\n",
    "# and few other professionals (assumed as 40%) who might be considered constant in the population.\n",
    "\n",
    "# immigrants = lodgers + visitors - (students and others)\n",
    "immigrants = 402 - 160\n",
    "immigrants"
   ]
  },
  {
   "cell_type": "markdown",
   "id": "fc3ede1b",
   "metadata": {},
   "source": [
    "- Of the 402 lodgers and visitors above, there are university students\n",
    " and few other professionals (assumed as 40% = 160) who might be considered constant in the population.\n"
   ]
  },
  {
   "cell_type": "code",
   "execution_count": 135,
   "id": "05e7941c",
   "metadata": {},
   "outputs": [],
   "source": [
    "immigrants_per_thousand = 242/10"
   ]
  },
  {
   "cell_type": "code",
   "execution_count": 136,
   "id": "a16a428d",
   "metadata": {},
   "outputs": [
    {
     "data": {
      "text/plain": [
       "24.2"
      ]
     },
     "execution_count": 136,
     "metadata": {},
     "output_type": "execute_result"
    }
   ],
   "source": [
    "immigrants_per_thousand"
   ]
  },
  {
   "cell_type": "code",
   "execution_count": 137,
   "id": "075eb563",
   "metadata": {},
   "outputs": [],
   "source": [
    "Total_Population_change = 24.2 - 23.2 + 8.9 - 16.8"
   ]
  },
  {
   "cell_type": "code",
   "execution_count": 138,
   "id": "c0d0acd5",
   "metadata": {},
   "outputs": [
    {
     "name": "stdout",
     "output_type": "stream",
     "text": [
      "Total Population Change per thousand is: -6.9 \n"
     ]
    }
   ],
   "source": [
    "print(f\"Total Population Change per thousand is: {Total_Population_change:.1f} \")"
   ]
  },
  {
   "cell_type": "code",
   "execution_count": 139,
   "id": "127005d7",
   "metadata": {},
   "outputs": [
    {
     "data": {
      "text/html": [
       "<div>\n",
       "<style scoped>\n",
       "    .dataframe tbody tr th:only-of-type {\n",
       "        vertical-align: middle;\n",
       "    }\n",
       "\n",
       "    .dataframe tbody tr th {\n",
       "        vertical-align: top;\n",
       "    }\n",
       "\n",
       "    .dataframe thead th {\n",
       "        text-align: right;\n",
       "    }\n",
       "</style>\n",
       "<table border=\"1\" class=\"dataframe\">\n",
       "  <thead>\n",
       "    <tr style=\"text-align: right;\">\n",
       "      <th></th>\n",
       "      <th>House Number</th>\n",
       "      <th>Street</th>\n",
       "      <th>Occupancy Count</th>\n",
       "    </tr>\n",
       "  </thead>\n",
       "  <tbody>\n",
       "    <tr>\n",
       "      <th>0</th>\n",
       "      <td>1</td>\n",
       "      <td>Alba Avenue</td>\n",
       "      <td>7</td>\n",
       "    </tr>\n",
       "    <tr>\n",
       "      <th>1</th>\n",
       "      <td>1</td>\n",
       "      <td>Allen Rocks</td>\n",
       "      <td>5</td>\n",
       "    </tr>\n",
       "    <tr>\n",
       "      <th>2</th>\n",
       "      <td>1</td>\n",
       "      <td>Anvil Tower</td>\n",
       "      <td>2</td>\n",
       "    </tr>\n",
       "    <tr>\n",
       "      <th>3</th>\n",
       "      <td>1</td>\n",
       "      <td>Armstrong Drive</td>\n",
       "      <td>2</td>\n",
       "    </tr>\n",
       "    <tr>\n",
       "      <th>4</th>\n",
       "      <td>1</td>\n",
       "      <td>Arrows Parkways</td>\n",
       "      <td>3</td>\n",
       "    </tr>\n",
       "    <tr>\n",
       "      <th>...</th>\n",
       "      <td>...</td>\n",
       "      <td>...</td>\n",
       "      <td>...</td>\n",
       "    </tr>\n",
       "    <tr>\n",
       "      <th>3545</th>\n",
       "      <td>231</td>\n",
       "      <td>Crown Street</td>\n",
       "      <td>1</td>\n",
       "    </tr>\n",
       "    <tr>\n",
       "      <th>3546</th>\n",
       "      <td>232</td>\n",
       "      <td>Crown Street</td>\n",
       "      <td>1</td>\n",
       "    </tr>\n",
       "    <tr>\n",
       "      <th>3547</th>\n",
       "      <td>233</td>\n",
       "      <td>Crown Street</td>\n",
       "      <td>1</td>\n",
       "    </tr>\n",
       "    <tr>\n",
       "      <th>3548</th>\n",
       "      <td>234</td>\n",
       "      <td>Crown Street</td>\n",
       "      <td>1</td>\n",
       "    </tr>\n",
       "    <tr>\n",
       "      <th>3549</th>\n",
       "      <td>235</td>\n",
       "      <td>Crown Street</td>\n",
       "      <td>3</td>\n",
       "    </tr>\n",
       "  </tbody>\n",
       "</table>\n",
       "<p>3550 rows × 3 columns</p>\n",
       "</div>"
      ],
      "text/plain": [
       "      House Number           Street  Occupancy Count\n",
       "0                1      Alba Avenue                7\n",
       "1                1      Allen Rocks                5\n",
       "2                1      Anvil Tower                2\n",
       "3                1  Armstrong Drive                2\n",
       "4                1  Arrows Parkways                3\n",
       "...            ...              ...              ...\n",
       "3545           231     Crown Street                1\n",
       "3546           232     Crown Street                1\n",
       "3547           233     Crown Street                1\n",
       "3548           234     Crown Street                1\n",
       "3549           235     Crown Street                3\n",
       "\n",
       "[3550 rows x 3 columns]"
      ]
     },
     "execution_count": 139,
     "metadata": {},
     "output_type": "execute_result"
    }
   ],
   "source": [
    "# to determine occupancy rates\n",
    "\n",
    "occupancy_count = census_09.groupby(['House Number', 'Street']).size().reset_index(name='Occupancy Count')\n",
    "occupancy_count"
   ]
  },
  {
   "cell_type": "code",
   "execution_count": 140,
   "id": "5408467a",
   "metadata": {},
   "outputs": [
    {
     "data": {
      "text/plain": [
       "1     999\n",
       "2     802\n",
       "4     662\n",
       "3     589\n",
       "5     314\n",
       "6     106\n",
       "7      29\n",
       "11     11\n",
       "10      9\n",
       "12      8\n",
       "8       8\n",
       "9       5\n",
       "14      3\n",
       "15      2\n",
       "19      1\n",
       "20      1\n",
       "22      1\n",
       "Name: Occupancy Count, dtype: int64"
      ]
     },
     "execution_count": 140,
     "metadata": {},
     "output_type": "execute_result"
    }
   ],
   "source": [
    "occupancy_count['Occupancy Count'].value_counts()"
   ]
  },
  {
   "cell_type": "code",
   "execution_count": 141,
   "id": "25c3cec7",
   "metadata": {},
   "outputs": [
    {
     "data": {
      "text/plain": [
       "count    3550.000000\n",
       "mean        2.810141\n",
       "std         1.818477\n",
       "min         1.000000\n",
       "25%         1.000000\n",
       "50%         2.000000\n",
       "75%         4.000000\n",
       "max        22.000000\n",
       "Name: Occupancy Count, dtype: float64"
      ]
     },
     "execution_count": 141,
     "metadata": {},
     "output_type": "execute_result"
    }
   ],
   "source": [
    "occupancy_count['Occupancy Count'].describe()"
   ]
  },
  {
   "cell_type": "markdown",
   "id": "9892b18b",
   "metadata": {},
   "source": [
    "- From the frequency distribution above, we have houses occupied by a range from 1 person to 22 people.\n",
    "- It also shows a mean occupancy of 2.8"
   ]
  },
  {
   "cell_type": "markdown",
   "id": "004d58d0",
   "metadata": {},
   "source": [
    "# Commuters"
   ]
  },
  {
   "cell_type": "code",
   "execution_count": 142,
   "id": "9fa40c13",
   "metadata": {},
   "outputs": [
    {
     "name": "stdout",
     "output_type": "stream",
     "text": [
      "Estimated number of Commuters is: 1492\n"
     ]
    }
   ],
   "source": [
    "#To determine an estimate number of commuters\n",
    "#We extract university students, teachers of higher education and other select professionals\n",
    "\n",
    "commuters = len(census_09[census_09[\"Occupation\"].isin([\"Further education lecturer\",\"Physiotherapist\",\"Management consultant\",\"Intelligence analyst\",\n",
    "                                                        \"Recruitment consultant\",\"Scientific laboratory technician\",\"Consulting civil engineer\",\n",
    "                                                        \"Psychotherapist\",\"Therapist, occupational\",\"University Student\",\n",
    "                                                        \"Telecommunications researcher\",\"Toxicologist\",\"Production assistant, television\",\n",
    "                                                        \"Engineer, energy\",\"Airline pilot\",\"Marine scientist\",\"Academic librarian\",\n",
    "                                                        \"Lecturer, higher education\",\"Architectural technologist\",\"Scientist, water quality\",\n",
    "                                                        \"Mining engineer\",\"Petroleum engineer\",\"Media planner\",\"Clinical molecular geneticist\",\n",
    "                                                        \"Designer, industrial/product\",\"Medical technical officer\",\"Scientist, research (medical)\",\n",
    "                                                        \"Neurosurgeon\",\"Insurance broker\",\"Electrical engineer\",\"Mechanical engineer\",\n",
    "                                                        \"Engineer, control and instrumentation\",\"Engineer, structural\",\"Maintenance engineer\",\n",
    "                                                        \"Pharmacist, hospital\",\"Immigration officer\",\"Associate Professor\",\"Chartered accountant\",\n",
    "                                                        \"Public relations account executive\",\"Clinical scientist, histocompatibility and immunogenetics\",\n",
    "                                                        \"Forensic scientist\",\"Chief Operating Officer\",\"Doctor, general practice\",\"Analytical chemist\",\n",
    "                                                        \"Chief of Staff\",\"Psychologist, occupational\",\"Chemist, analytical\",\"Biomedical engineer\",\n",
    "                                                        \"Scientist, biomedical\",\"Engineer, automotive\",\"Engineer, electronics\",\n",
    "                                                        \"Manufacturing systems engineer\",\"Psychotherapist, child\",\"Engineer, communications\",\n",
    "                                                        \"Orthoptist\",\"Engineer, drilling\",\"Armed forces training and education officer\",\n",
    "                                                        \"Designer, multimedia\",\"Diplomatic Services operational officer\",\"Engineer, civil (consulting)\",\n",
    "                                                        \"Broadcast presenter\",\"Aeronautical engineer\",\"Clinical biochemist\",\n",
    "                                                        \"Podiatrist\",\"Oceanographer\",\"Air cabin crew\",\"Astronomer\",\"Engineer, communications\",\n",
    "                                                        \"Geophysical data processor\",\"Clinical research associate\",\"Engineer, maintenance (IT)\",\n",
    "                                                        \"Meteorologist\",\"Brewing technologist\",\"Therapeutic radiographer\",\"Pharmacologist\",\n",
    "                                                        \"Accountant, chartered certified\",\"Chemical engineer\",\"Petroleum engineer\",\"Oncologist\",\n",
    "                                                        \"Engineering geologist\",\"Network engineer\",\"Ergonomist\",\"Applications developer\",\n",
    "                                                        \"Engineer, production\",\"Software engineer\",\"Naval architect\",\"Chief Financial Officer\",\n",
    "                                                        \"Surgeon\",\"Broadcast engineer\",\"Designer, television/film set\",\"Professor Emeritus\",\n",
    "                                                        \"Producer, television/film/video\",\"Investment banker, operational\",\"Solicitor, Scotland\",\n",
    "                                                        \"Geochemist\",\"Dentist\",\"PhD Student\",\"Doctor, hospital\",\"Cytogeneticist\",\n",
    "                                                        \"Clinical psychologist\",\"Immunologist\",\"Chartered legal executive (England and Wales)\"])])\n",
    "\n",
    "\n",
    "\n",
    "print(\"Estimated number of Commuters is:\", commuters)"
   ]
  },
  {
   "cell_type": "code",
   "execution_count": 143,
   "id": "b3a916a8",
   "metadata": {},
   "outputs": [
    {
     "data": {
      "text/plain": [
       "15"
      ]
     },
     "execution_count": 143,
     "metadata": {},
     "output_type": "execute_result"
    }
   ],
   "source": [
    "#percentage of commuters in population \n",
    "round(1492*100/9976)"
   ]
  },
  {
   "cell_type": "markdown",
   "id": "fa5f971d",
   "metadata": {},
   "source": [
    "# Employment rate"
   ]
  },
  {
   "cell_type": "code",
   "execution_count": 144,
   "id": "5fdbcd3e",
   "metadata": {},
   "outputs": [
    {
     "name": "stdout",
     "output_type": "stream",
     "text": [
      "Student                             1998\n",
      "University Student                   592\n",
      "Child                                580\n",
      "Unemployed                           578\n",
      "Retired                               46\n",
      "                                    ... \n",
      "Retired Health service manager         1\n",
      "Retired Prison officer                 1\n",
      "Retired Hospital doctor                1\n",
      "Retired Field seismologist             1\n",
      "Retired Print production planner       1\n",
      "Name: Occupation, Length: 1127, dtype: int64\n"
     ]
    }
   ],
   "source": [
    "print(census_data['Occupation'].value_counts() )"
   ]
  },
  {
   "cell_type": "code",
   "execution_count": 145,
   "id": "18126830",
   "metadata": {},
   "outputs": [
    {
     "name": "stdout",
     "output_type": "stream",
     "text": [
      "Total number of unemployed 16 and above is: 578\n"
     ]
    }
   ],
   "source": [
    "# Total_unemployed_16above = Unemployed from value_counts above\n",
    "\n",
    "Total_unemployed_16above = 578 \n",
    "\n",
    "print(\"Total number of unemployed 16 and above is:\", Total_unemployed_16above)"
   ]
  },
  {
   "attachments": {
    "image.png": {
     "image/png": "[encoded data removed]"
    }
   },
   "cell_type": "markdown",
   "id": "6411a226",
   "metadata": {},
   "source": [
    "![image.png](attachment:image.png)"
   ]
  },
  {
   "cell_type": "code",
   "execution_count": 146,
   "id": "3f406da1",
   "metadata": {},
   "outputs": [],
   "source": [
    "Total_No_of_labourforce = census_data[(census_data[\"Age\"]>=16) & (census_data[\"Age\"]<=65)].count()"
   ]
  },
  {
   "cell_type": "code",
   "execution_count": 147,
   "id": "72508fe7",
   "metadata": {},
   "outputs": [
    {
     "data": {
      "text/plain": [
       "House Number                     6779\n",
       "Street                           6779\n",
       "First Name                       6779\n",
       "Surname                          6779\n",
       "Age                              6779\n",
       "Relationship to Head of House    6779\n",
       "Marital Status                   6779\n",
       "Gender                           6779\n",
       "Occupation                       6779\n",
       "Infirmity                        6779\n",
       "Religion                         6779\n",
       "Occupation_Class                 6779\n",
       "Age_col                          6779\n",
       "dtype: int64"
      ]
     },
     "execution_count": 147,
     "metadata": {},
     "output_type": "execute_result"
    }
   ],
   "source": [
    "Total_No_of_labourforce"
   ]
  },
  {
   "cell_type": "code",
   "execution_count": 148,
   "id": "6a329f88",
   "metadata": {},
   "outputs": [
    {
     "data": {
      "text/plain": [
       "9"
      ]
     },
     "execution_count": 148,
     "metadata": {},
     "output_type": "execute_result"
    }
   ],
   "source": [
    "Unemployment_rate = 578*100/6779\n",
    "round(Unemployment_rate)"
   ]
  },
  {
   "cell_type": "markdown",
   "id": "fa203322",
   "metadata": {},
   "source": [
    "# Recommendations"
   ]
  },
  {
   "cell_type": "markdown",
   "id": "785018a6",
   "metadata": {},
   "source": [
    "- Judging by the high estimated number of commuters, building a train station will be of great benefit \n",
    "to a large population especially students and low-income earners while also creating a faster travel option for\n",
    "people who choose not to drive.\n",
    "- Having identified the population of the town as affluent and taking into account the high occupancy rate of \n",
    "some homes, building low-density houses will enable homes to downsize while also providing more accommodation\n",
    "for lodgers."
   ]
  },
  {
   "cell_type": "markdown",
   "id": "7a3b0732",
   "metadata": {},
   "source": [
    "- Given the high unemployment rate, recruitment and training of individuals in the unemployed labor force should\n",
    "be invested.\n",
    "- The high number of retired individuals in the population is an indication that the aging group will expand and\n",
    "ultimately require support and care. The presence of old-age care will likely reduce the death rate therefore\n",
    "investing in them should be given importance and planned. \n",
    "- Spending for schools in the town should be considered shortly as students can be seen to have constant population growth. This will open up more employment and improve retail services in the town, the number of lodgers will increase, bringing more income to house owners.\n"
   ]
  }
 ],
 "metadata": {
  "kernelspec": {
   "display_name": "Python 3",
   "language": "python",
   "name": "python3"
  },
  "language_info": {
   "codemirror_mode": {
    "name": "ipython",
    "version": 3
   },
   "file_extension": ".py",
   "mimetype": "text/x-python",
   "name": "python",
   "nbconvert_exporter": "python",
   "pygments_lexer": "ipython3",
   "version": "3.8.8"
  }
 },
 "nbformat": 4,
 "nbformat_minor": 5
}
